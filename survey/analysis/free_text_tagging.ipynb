{
 "cells": [
  {
   "cell_type": "markdown",
   "metadata": {},
   "source": [
    "## Open up the scrubbed data file"
   ]
  },
  {
   "cell_type": "code",
   "execution_count": null,
   "metadata": {},
   "outputs": [],
   "source": [
    "import numpy as np\n",
    "import pandas as pd\n",
    "from IPython.display import display, Markdown, Latex, clear_output\n",
    "df = pd.read_csv('responses_scrubbed.csv', index_col=None, parse_dates=['date'])\n",
    "\n",
    "#don't truncate results\n",
    "pd.set_option('display.max_rows', None)"
   ]
  },
  {
   "cell_type": "markdown",
   "metadata": {},
   "source": [
    "## Categorize every free text response from every respondent"
   ]
  },
  {
   "cell_type": "code",
   "execution_count": null,
   "metadata": {
    "scrolled": false
   },
   "outputs": [
    {
     "data": {
      "text/markdown": [
       "## Response #2"
      ],
      "text/plain": [
       "<IPython.core.display.Markdown object>"
      ]
     },
     "metadata": {},
     "output_type": "display_data"
    },
    {
     "data": {
      "text/markdown": [
       "### problem_areas comment\n",
       "Upper village – OPRS / Grand St."
      ],
      "text/plain": [
       "<IPython.core.display.Markdown object>"
      ]
     },
     "metadata": {},
     "output_type": "display_data"
    },
    {
     "data": {
      "text/markdown": [
       "### suggested_improvements comment\n",
       "Modify OPRS/Grand St. intersection; add more radar speed indicator signs at key places throughout the village (e.g., Maple entering village, etc.)"
      ],
      "text/plain": [
       "<IPython.core.display.Markdown object>"
      ]
     },
     "metadata": {},
     "output_type": "display_data"
    },
    {
     "data": {
      "text/markdown": [
       "## Tag this response"
      ],
      "text/plain": [
       "<IPython.core.display.Markdown object>"
      ]
     },
     "metadata": {},
     "output_type": "display_data"
    },
    {
     "data": {
      "text/markdown": [
       "Enter tags that represent this person's complaints and suggestions.  Re-use tags used in others' responses, where applicable."
      ],
      "text/plain": [
       "<IPython.core.display.Markdown object>"
      ]
     },
     "metadata": {},
     "output_type": "display_data"
    },
    {
     "data": {
      "text/markdown": [
       "### Common problems"
      ],
      "text/plain": [
       "<IPython.core.display.Markdown object>"
      ]
     },
     "metadata": {},
     "output_type": "display_data"
    },
    {
     "data": {
      "text/plain": [
       "'cars on sidewalk,cpa,cpa,number of cars,respect for crosswalks,s riverside,shoprite,shoprite,sidewalk bushes,speed,speed'"
      ]
     },
     "metadata": {},
     "output_type": "display_data"
    },
    {
     "data": {
      "text/markdown": [
       "### Common suggestions"
      ],
      "text/plain": [
       "<IPython.core.display.Markdown object>"
      ]
     },
     "metadata": {},
     "output_type": "display_data"
    },
    {
     "data": {
      "text/plain": [
       "'crosswalk maintenance,dedicated walk signals,reduce number of cars,reduce speed,reduce speed,traffic calming'"
      ]
     },
     "metadata": {},
     "output_type": "display_data"
    }
   ],
   "source": [
    "# fields containing free text responses\n",
    "fields = ['feelings', 'problem_areas', 'suggested_improvements', 'additional_comments', 'business_additional_comments', 'final_comments']\n",
    "\n",
    "# start with a blank list of tags\n",
    "problem_tags = []\n",
    "suggestion_tags = []\n",
    "\n",
    "# loop through every row in the data\n",
    "for index, row in df.iterrows():\n",
    "    # determine whether we have already tagged this respondent's free text responses\n",
    "    my_problems = ''\n",
    "    my_suggestions = ''\n",
    "    try:\n",
    "        my_problems = df.loc[index]['problem_tags']\n",
    "        my_suggestions = df.loc[index]['suggestion_tags']\n",
    "        display('...got em')\n",
    "    except:\n",
    "        # these columns must not exist yet, so create them\n",
    "        df['problem_tags'] = ''\n",
    "        df['suggestion_tags'] = ''\n",
    "        df['problem_tags'] = df['problem_tags'].astype(str)\n",
    "        df['suggestion_tags'] = df['suggestion_tags'].astype(str)\n",
    "        display('...created em')\n",
    "    \n",
    "    clear_output() # wipe the output clear    \n",
    "    \n",
    "    display(Markdown('## Response #{}'.format(index)))\n",
    "    \n",
    "    # display each row's free text fields:\n",
    "    for field in fields:\n",
    "        # display this person's response to this question if they gave one\n",
    "        value = row[field]\n",
    "        if not pd.isnull(row[field]):\n",
    "            display(Markdown('### {} comment\\n{}'.format(field, value)))\n",
    "        \n",
    "    # ask the user for tags\n",
    "    display(Markdown('## Tag this response'))\n",
    "    display(Markdown(\"Enter tags that represent this person's complaints and suggestions.  Re-use tags used in others' responses, where applicable.\"))\n",
    "    \n",
    "    # display commonly used tags\n",
    "    display(Markdown('### Common problems'))\n",
    "    display(','.join(problem_tags))\n",
    "\n",
    "    display(Markdown('### Common suggestions'))\n",
    "    display(','.join(suggestion_tags))\n",
    "    \n",
    "    # allow editor to tag this response\n",
    "    my_problems = input(\"Complaints (or hit Enter to skip): \").strip()\n",
    "    my_suggestions = input(\"Suggestions (or hit Enter to skip): \").strip()\n",
    "    \n",
    "    # store the tags in this record\n",
    "    df.at[index,'problem_tags'] = my_problems\n",
    "    df.at[index,'suggestion_tags'] = my_suggestions\n",
    "    \n",
    "    # save these tags to show later\n",
    "    p = my_problems.split(',')\n",
    "    s = my_suggestions.split(',')\n",
    "    problem_tags.extend(p)\n",
    "    suggestion_tags.extend(s)\n",
    "    problem_tags.sort()\n",
    "    suggestion_tags.sort()\n",
    "    \n",
    "    "
   ]
  },
  {
   "cell_type": "markdown",
   "metadata": {},
   "source": [
    "## Save changes to a new CSV file"
   ]
  },
  {
   "cell_type": "code",
   "execution_count": null,
   "metadata": {},
   "outputs": [],
   "source": [
    "df.to_csv('responses_scrubbed_tagged.csv', index=False)"
   ]
  }
 ],
 "metadata": {
  "kernelspec": {
   "display_name": "Python 3",
   "language": "python",
   "name": "python3"
  },
  "language_info": {
   "codemirror_mode": {
    "name": "ipython",
    "version": 3
   },
   "file_extension": ".py",
   "mimetype": "text/x-python",
   "name": "python",
   "nbconvert_exporter": "python",
   "pygments_lexer": "ipython3",
   "version": "3.6.4"
  }
 },
 "nbformat": 4,
 "nbformat_minor": 2
}

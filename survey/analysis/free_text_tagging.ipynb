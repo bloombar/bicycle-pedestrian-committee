{
 "cells": [
  {
   "cell_type": "markdown",
   "metadata": {},
   "source": [
    "## Open up the scrubbed data file"
   ]
  },
  {
   "cell_type": "code",
   "execution_count": null,
   "metadata": {},
   "outputs": [],
   "source": [
    "import numpy as np\n",
    "import pandas as pd\n",
    "from IPython.display import display, Markdown, Latex, clear_output\n",
    "df = pd.read_csv('responses_scrubbed_tagged.csv', index_col=None, parse_dates=['date'])\n",
    "\n",
    "#don't truncate results\n",
    "pd.set_option('display.max_rows', None)"
   ]
  },
  {
   "cell_type": "markdown",
   "metadata": {},
   "source": [
    "## Categorize every free text response from every respondent"
   ]
  },
  {
   "cell_type": "code",
   "execution_count": null,
   "metadata": {
    "scrolled": false
   },
   "outputs": [
    {
     "data": {
      "text/markdown": [
       "## Response #131"
      ],
      "text/plain": [
       "<IPython.core.display.Markdown object>"
      ]
     },
     "metadata": {},
     "output_type": "display_data"
    },
    {
     "data": {
      "text/markdown": [
       "### feelings comment\n",
       "Depends on where I am walking. "
      ],
      "text/plain": [
       "<IPython.core.display.Markdown object>"
      ]
     },
     "metadata": {},
     "output_type": "display_data"
    },
    {
     "data": {
      "text/markdown": [
       "### suggested_improvements comment\n",
       "More driver and cyclist awareness to their surroundings. "
      ],
      "text/plain": [
       "<IPython.core.display.Markdown object>"
      ]
     },
     "metadata": {},
     "output_type": "display_data"
    },
    {
     "data": {
      "text/markdown": [
       "### additional_comments comment\n",
       "Areas of no sidewalks, I.e. sunset trail, river view trails. "
      ],
      "text/plain": [
       "<IPython.core.display.Markdown object>"
      ]
     },
     "metadata": {},
     "output_type": "display_data"
    },
    {
     "data": {
      "text/markdown": [
       "## Tag this response"
      ],
      "text/plain": [
       "<IPython.core.display.Markdown object>"
      ]
     },
     "metadata": {},
     "output_type": "display_data"
    },
    {
     "data": {
      "text/markdown": [
       "Enter tags that represent this person's complaints and suggestions.  Re-use tags used in others' responses, where applicable."
      ],
      "text/plain": [
       "<IPython.core.display.Markdown object>"
      ]
     },
     "metadata": {},
     "output_type": "display_data"
    },
    {
     "data": {
      "text/markdown": [
       "### Common complaints"
      ],
      "text/plain": [
       "<IPython.core.display.Markdown object>"
      ]
     },
     "metadata": {},
     "output_type": "display_data"
    },
    {
     "data": {
      "text/plain": [
       "nan                                   425\n",
       "missing sidewalks                      32\n",
       "speeding                               32\n",
       "sidewalk condition                     16\n",
       "cyclists breaking rules                15\n",
       "cpa                                    15\n",
       "driver awareness                       13\n",
       "s riverside                            12\n",
       "129                                    11\n",
       "maple                                  11\n",
       "                                        9\n",
       "road surface                            8\n",
       "benedict                                7\n",
       "municipal place                         7\n",
       "cleveland                               7\n",
       "aggressive drivers                      7\n",
       "dummy light                             6\n",
       "van wyck                                6\n",
       "shoprite                                5\n",
       "five corners                            5\n",
       "olcott                                  5\n",
       "poor lighting                           5\n",
       "narrow roads                            5\n",
       "mt airy                                 5\n",
       "gottwald circle                         4\n",
       "grand                                   4\n",
       "old post s                              3\n",
       "side-by-side bicyclists                 3\n",
       "bushes on sidewalks                     3\n",
       "hmb trail                               3\n",
       "bushes on sidewalk                      3\n",
       "oprs & grand intersection               3\n",
       "croton commons                          3\n",
       "old post n                              3\n",
       "cyclists on sidewalk                    2\n",
       "educate cyclists                        2\n",
       "missing crosswalks                      2\n",
       "num cars                                2\n",
       "cet                                     2\n",
       "albany post road                        2\n",
       "narrow streets                          2\n",
       "on-street parking                       2\n",
       "radnor                                  2\n",
       "pedestrians in roads                    1\n",
       "morningside                             1\n",
       "aggressive driving                      1\n",
       "upper n highland                        1\n",
       "dpw                                     1\n",
       "upper village                           1\n",
       "lower village visually unappealing      1\n",
       "bushess on sidewalks                    1\n",
       "truesdale                               1\n",
       "speeding buses                          1\n",
       "station lot                             1\n",
       "leaf collection                         1\n",
       "dobbs park                              1\n",
       "visibility at s riverside & grand       1\n",
       "upper village visually unappealing      1\n",
       "too many speed limit changes            1\n",
       "agressive drivers                       1\n",
       "bungalow                                1\n",
       "cvs                                     1\n",
       "speed                                   1\n",
       "daily drive                             1\n",
       "taxes                                   1\n",
       "stevenson                               1\n",
       "gerstein                                1\n",
       "nordica                                 1\n",
       "penfield                                1\n",
       "sunset park                             1\n",
       "parking on sidewalk                     1\n",
       "crosswalk maintenance                   1\n",
       "old post n & high st                    1\n",
       "dtype: int64"
      ]
     },
     "metadata": {},
     "output_type": "display_data"
    },
    {
     "data": {
      "text/markdown": [
       "### Common suggestions"
      ],
      "text/plain": [
       "<IPython.core.display.Markdown object>"
      ]
     },
     "metadata": {},
     "output_type": "display_data"
    },
    {
     "data": {
      "text/plain": [
       "nan                                                    428\n",
       "bike lanes                                              26\n",
       "more sidewalks                                          21\n",
       "reduce speed                                            14\n",
       "more crosswalks                                         13\n",
       "educate cyclists                                        11\n",
       "enforce speed                                           10\n",
       "maintain sidewalks                                       9\n",
       "maintain crosswalks                                      8\n",
       "                                                         7\n",
       "street lights                                            5\n",
       "outlaw cycling                                           4\n",
       "improve route 9 access                                   4\n",
       "enforce trimming of bushes                               3\n",
       "traffic calming                                          3\n",
       "enforce crosswalks                                       3\n",
       "sidewalk on mt airy s                                    3\n",
       "dedicated pedestrian walk signals                        2\n",
       "no bike lanes                                            2\n",
       "stop signs on lexington near sunset park                 2\n",
       "parking on one side only                                 2\n",
       "speed bumps                                              2\n",
       "clearer signs                                            2\n",
       "dedicated bicycle trails                                 2\n",
       "maintain road surface                                    2\n",
       "bike racks                                               2\n",
       "reduce num cars                                          1\n",
       "run shuttles to station                                  1\n",
       "improve street sweeping                                  1\n",
       "more buses                                               1\n",
       "traffic light at five corners                            1\n",
       "no parking next to crosswalks                            1\n",
       "sharrows                                                 1\n",
       "more walking paths                                       1\n",
       "allow scooters in bike lanes                             1\n",
       "fix dummy light                                          1\n",
       "extend croton landing path to peekskill                  1\n",
       "pedestrian-only days                                     1\n",
       "reopen hmb river trail                                   1\n",
       "fewer signs                                              1\n",
       "crosswalk across maple at olcott                         1\n",
       "lower taxes                                              1\n",
       "wider roads                                              1\n",
       "5 way stop on mt airy s                                  1\n",
       "education of road rules                                  1\n",
       "reduce speed limits                                      1\n",
       "crosswalk maintenance                                    1\n",
       "require cyclists wear reflective apparel and lights      1\n",
       "speed indicator signs                                    1\n",
       "more signs                                               1\n",
       "stop sign on oprn at stevenson                           1\n",
       "dtype: int64"
      ]
     },
     "metadata": {},
     "output_type": "display_data"
    }
   ],
   "source": [
    "# fields containing free text responses\n",
    "fields = ['feelings', 'problem_areas', 'suggested_improvements', 'additional_comments', 'business_additional_comments', 'final_comments']\n",
    "\n",
    "# what row index number to start from (useful if interrputed)\n",
    "start_from = 103 #default to zero if starting from beginning\n",
    "\n",
    "def get_unique_values_from_csv_field(column, df):\n",
    "    combo_vals = df[column].tolist() # contains comma-separated sets of tags\n",
    "    single_vals = [] # will contain single tags\n",
    "    for combo in combo_vals:\n",
    "        list_of_vals = str(combo).split(',') # break up comma-seprated values into single values\n",
    "        list_of_vals = [val.strip() for val in list_of_vals] # remove whitespace\n",
    "        single_vals.extend(list_of_vals) # add single values to the ultimate list\n",
    "        \n",
    "    # return the value counts\n",
    "    return single_vals\n",
    "    \n",
    "# start with a blank list of tags\n",
    "problem_tags = []\n",
    "suggestion_tags = []\n",
    "\n",
    "# count rows we loop through\n",
    "counter = 0\n",
    "\n",
    "# loop through every row in the data\n",
    "for index, row in df.iterrows():\n",
    "    \n",
    "    #skip to starting row\n",
    "    if counter < start_from:\n",
    "        counter += 1\n",
    "        continue\n",
    "\n",
    "    # determine whether we have already tagged this respondent's free text responses\n",
    "    my_problems = ''\n",
    "    my_suggestions = ''\n",
    "    try:\n",
    "        my_problems = df.loc[index]['problem_tags']\n",
    "        my_suggestions = df.loc[index]['suggestion_tags']\n",
    "        problem_tags = get_unique_values_from_csv_field('problem_tags', df)\n",
    "        suggestion_tags = get_unique_values_from_csv_field('suggestion_tags', df)\n",
    "        #display('...got em')        \n",
    "    except:\n",
    "        # these columns must not exist yet, so create them\n",
    "        df['problem_tags'] = ''\n",
    "        df['suggestion_tags'] = ''\n",
    "        df['problem_tags'] = df['problem_tags'].astype(str)\n",
    "        df['suggestion_tags'] = df['suggestion_tags'].astype(str)\n",
    "        #display('...created em')\n",
    "    \n",
    "    clear_output() # wipe the output clear    \n",
    "    \n",
    "    display(Markdown('## Response #{}'.format(index)))\n",
    "    \n",
    "    # display each row's free text fields:\n",
    "    for field in fields:\n",
    "        # display this person's response to this question if they gave one\n",
    "        value = row[field]\n",
    "        if not pd.isnull(row[field]):\n",
    "            display(Markdown('### {} comment\\n{}'.format(field, value)))\n",
    "        \n",
    "    # ask the user for tags\n",
    "    display(Markdown('## Tag this response'))\n",
    "    display(Markdown(\"Enter tags that represent this person's complaints and suggestions.  Re-use tags used in others' responses, where applicable.\"))\n",
    "    \n",
    "    # display commonly used tags\n",
    "    display(Markdown('### Common complaints'))\n",
    "    display(pd.Series(problem_tags).value_counts())\n",
    "\n",
    "    display(Markdown('### Common suggestions'))\n",
    "    display(pd.Series(suggestion_tags).value_counts())\n",
    "    \n",
    "    # allow editor to tag this response\n",
    "    my_problems = input(\"Complaints (or hit Enter to skip): \").strip()\n",
    "    my_suggestions = input(\"Suggestions (or hit Enter to skip): \").strip()\n",
    "    \n",
    "    # store the tags in this record\n",
    "    df.at[index,'problem_tags'] = my_problems\n",
    "    df.at[index,'suggestion_tags'] = my_suggestions\n",
    "    \n",
    "    # update lists of tags that have already been used\n",
    "    problem_tags = get_unique_values_from_csv_field('problem_tags', df)\n",
    "    suggestion_tags = get_unique_values_from_csv_field('suggestion_tags', df)\n",
    "\n",
    "    # save these tags to show later\n",
    "    #p = [val.strip() for val in my_problems.split(',')]\n",
    "    #s = [val.strip() for val in my_suggestions.split(',')]\n",
    "    #problem_tags.extend(p)\n",
    "    #suggestion_tags.extend(s)\n",
    "    #problem_tags.sort()\n",
    "    #suggestion_tags.sort()\n",
    "    \n",
    "    # increment counter\n",
    "    counter += 1\n",
    "    \n",
    "    # save to file immediately just in case we have to interrupt the script mid-way\n",
    "    df.to_csv('responses_scrubbed_tagged.csv', index=False)\n",
    "    "
   ]
  },
  {
   "cell_type": "markdown",
   "metadata": {},
   "source": [
    "## Save changes to a new CSV file"
   ]
  },
  {
   "cell_type": "code",
   "execution_count": null,
   "metadata": {},
   "outputs": [],
   "source": [
    "df.to_csv('responses_scrubbed_tagged.csv', index=False)"
   ]
  }
 ],
 "metadata": {
  "kernelspec": {
   "display_name": "Python 3",
   "language": "python",
   "name": "python3"
  },
  "language_info": {
   "codemirror_mode": {
    "name": "ipython",
    "version": 3
   },
   "file_extension": ".py",
   "mimetype": "text/x-python",
   "name": "python",
   "nbconvert_exporter": "python",
   "pygments_lexer": "ipython3",
   "version": "3.6.4"
  }
 },
 "nbformat": 4,
 "nbformat_minor": 2
}

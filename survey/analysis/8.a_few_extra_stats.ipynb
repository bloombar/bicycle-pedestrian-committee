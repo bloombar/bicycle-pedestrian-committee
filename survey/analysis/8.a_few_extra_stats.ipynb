{
 "cells": [
  {
   "cell_type": "markdown",
   "metadata": {},
   "source": [
    "# Count number of responses for various topics\n",
    "The tagging of comments makes it such that we must add together a few different sub-counts to get the total"
   ]
  },
  {
   "cell_type": "code",
   "execution_count": 1,
   "metadata": {
    "collapsed": true
   },
   "outputs": [],
   "source": [
    "import numpy as np\n",
    "import pandas as pd\n",
    "from IPython.display import display, Markdown, Latex\n",
    "df = pd.read_csv('responses_complete.csv', index_col=None, parse_dates=['date'])\n",
    "\n",
    "#don't truncate results\n",
    "pd.set_option('display.max_rows', None) # display all rows\n",
    "pd.set_option('display.max_colwidth', -1) # display full text of columns\n"
   ]
  },
  {
   "cell_type": "markdown",
   "metadata": {},
   "source": [
    "## Number of comments about 129/Maple"
   ]
  },
  {
   "cell_type": "code",
   "execution_count": 2,
   "metadata": {},
   "outputs": [
    {
     "data": {
      "text/plain": [
       "105"
      ]
     },
     "metadata": {},
     "output_type": "display_data"
    }
   ],
   "source": [
    "filtered = (df['problem_tags_maple'] == 1) | (df['problem_tags_129'] == 1) | (df['problem_tags_van wyck'] == 1)\n",
    "df2 = df[filtered]\n",
    "display(df2.shape[0])"
   ]
  },
  {
   "cell_type": "markdown",
   "metadata": {},
   "source": [
    "## Number of comments about S Riverside"
   ]
  },
  {
   "cell_type": "code",
   "execution_count": 3,
   "metadata": {},
   "outputs": [
    {
     "data": {
      "text/plain": [
       "83"
      ]
     },
     "metadata": {},
     "output_type": "display_data"
    }
   ],
   "source": [
    "filtered = (df['problem_tags_s riverside'] == 1) | (df['problem_tags_shoprite'] == 1)\n",
    "df2 = df[filtered]\n",
    "display(df2.shape[0])"
   ]
  },
  {
   "cell_type": "markdown",
   "metadata": {},
   "source": [
    "## Number of comments about Cleveland"
   ]
  },
  {
   "cell_type": "code",
   "execution_count": 4,
   "metadata": {},
   "outputs": [
    {
     "data": {
      "text/plain": [
       "60"
      ]
     },
     "metadata": {},
     "output_type": "display_data"
    }
   ],
   "source": [
    "filtered = (df['problem_tags_cleveland'] == 1) | (df['problem_tags_five corners'] == 1) | (df['problem_tags_cet'] == 1)\n",
    "df2 = df[filtered]\n",
    "display(df2.shape[0])"
   ]
  },
  {
   "cell_type": "markdown",
   "metadata": {},
   "source": [
    "## Number of comments about Benedict Boulevard\n"
   ]
  },
  {
   "cell_type": "code",
   "execution_count": 5,
   "metadata": {},
   "outputs": [
    {
     "data": {
      "text/plain": [
       "40"
      ]
     },
     "metadata": {},
     "output_type": "display_data"
    }
   ],
   "source": [
    "filtered = (df['problem_tags_benedict'] == 1) | (df['problem_tags_gottwald circle'] == 1)\n",
    "df2 = df[filtered]\n",
    "display(df2.shape[0])"
   ]
  },
  {
   "cell_type": "markdown",
   "metadata": {},
   "source": [
    "## Number of comments about sidewals"
   ]
  },
  {
   "cell_type": "code",
   "execution_count": 6,
   "metadata": {},
   "outputs": [
    {
     "data": {
      "text/plain": [
       "207"
      ]
     },
     "metadata": {},
     "output_type": "display_data"
    }
   ],
   "source": [
    "filtered = (df['problem_tags_sidewalk condition'] == 1) | (df['problem_tags_missing sidewalks'] == 1) | (df['problem_tags_bushes on sidewalk'] == 1) | (df['suggestion_tags_more sidewalks'] == 1) | (df['suggestion_tags_maintain sidewalks'] == 1)\n",
    "df2 = df[filtered]\n",
    "display(df2.shape[0])"
   ]
  },
  {
   "cell_type": "markdown",
   "metadata": {},
   "source": [
    "## Number of comments about crosswalks"
   ]
  },
  {
   "cell_type": "code",
   "execution_count": 7,
   "metadata": {},
   "outputs": [
    {
     "data": {
      "text/plain": [
       "57"
      ]
     },
     "metadata": {},
     "output_type": "display_data"
    }
   ],
   "source": [
    "filtered = (df['problem_tags_missing crosswalks'] == 1) | (df['suggestion_tags_maintain crosswalks'] == 1) | (df['suggestion_tags_more crosswalks'] == 1)\n",
    "df2 = df[filtered]\n",
    "display(df2.shape[0])"
   ]
  },
  {
   "cell_type": "markdown",
   "metadata": {},
   "source": [
    "## Number of comments about driver behavior"
   ]
  },
  {
   "cell_type": "code",
   "execution_count": 8,
   "metadata": {},
   "outputs": [
    {
     "data": {
      "text/plain": [
       "227"
      ]
     },
     "metadata": {},
     "output_type": "display_data"
    }
   ],
   "source": [
    "filtered = (df['problem_tags_aggressive driving'] == 1) | (df['problem_tags_speeding'] == 1) | (df['problem_tags_driver awareness'] == 1) | (df['suggestion_tags_enforce speed'] == 1) | (df['suggestion_tags_reduce speed'] == 1) | (df['suggestion_tags_speed bumps'] == 1) | (df['suggestion_tags_speed cameras'] == 1) | (df['suggestion_tags_traffic calming'] == 1)    \n",
    "df2 = df[filtered]\n",
    "display(df2.shape[0])"
   ]
  },
  {
   "cell_type": "markdown",
   "metadata": {
    "collapsed": true
   },
   "source": [
    "## Insights into school bus ridership"
   ]
  },
  {
   "cell_type": "markdown",
   "metadata": {},
   "source": [
    "### Number respondents who say they don't have school bus service available"
   ]
  },
  {
   "cell_type": "code",
   "execution_count": 29,
   "metadata": {},
   "outputs": [
    {
     "data": {
      "text/plain": [
       "7"
      ]
     },
     "execution_count": 29,
     "metadata": {},
     "output_type": "execute_result"
    }
   ],
   "source": [
    "num_no_bus = df['child_drive_reason_Lack of available busing where we live'].sum()\n",
    "num_no_bus"
   ]
  },
  {
   "cell_type": "markdown",
   "metadata": {},
   "source": [
    "### Frequency with which students take the bus"
   ]
  },
  {
   "cell_type": "code",
   "execution_count": 27,
   "metadata": {},
   "outputs": [
    {
     "data": {
      "text/plain": [
       "Every day, or almost every day    113\n",
       "Rarely or never                   93 \n",
       "Once in a while                   15 \n",
       "Once every few days               9  \n",
       "Name: child_bus_freq, dtype: int64"
      ]
     },
     "execution_count": 27,
     "metadata": {},
     "output_type": "execute_result"
    }
   ],
   "source": [
    "df['child_bus_freq'].value_counts()"
   ]
  },
  {
   "cell_type": "code",
   "execution_count": 43,
   "metadata": {},
   "outputs": [
    {
     "data": {
      "text/plain": [
       "Every day, or almost every day    49.1%\n",
       "Rarely or never                   40.4%\n",
       "Once in a while                   6.5% \n",
       "Once every few days               3.9% \n",
       "Name: child_bus_freq, dtype: object"
      ]
     },
     "execution_count": 43,
     "metadata": {},
     "output_type": "execute_result"
    }
   ],
   "source": [
    "df['child_bus_freq'].value_counts(normalize=True).mul(100).round(1).astype(str) + '%'"
   ]
  },
  {
   "cell_type": "markdown",
   "metadata": {},
   "source": [
    "### Number of respondents who told us about their school-aged children"
   ]
  },
  {
   "cell_type": "code",
   "execution_count": 30,
   "metadata": {},
   "outputs": [
    {
     "data": {
      "text/plain": [
       "230"
      ]
     },
     "execution_count": 30,
     "metadata": {},
     "output_type": "execute_result"
    }
   ],
   "source": [
    "total_respondents_with_kids = df['child_bus_freq'].value_counts().sum()\n",
    "total_respondents_with_kids"
   ]
  },
  {
   "cell_type": "markdown",
   "metadata": {},
   "source": [
    "### Estimate of how many respondents don't have bus service where they live\n",
    "Based on our understanding that the school district has 1600 students, including 1,048 with bus service, we estimate that around 35% do not have bus service available where they live."
   ]
  },
  {
   "cell_type": "code",
   "execution_count": 35,
   "metadata": {},
   "outputs": [
    {
     "data": {
      "text/plain": [
       "80"
      ]
     },
     "execution_count": 35,
     "metadata": {},
     "output_type": "execute_result"
    }
   ],
   "source": [
    "estimate_no_bus_service = round(total_respondents_with_kids * 0.35)\n",
    "estimate_no_bus_service"
   ]
  },
  {
   "cell_type": "code",
   "execution_count": 40,
   "metadata": {},
   "outputs": [
    {
     "data": {
      "text/plain": [
       "'35%'"
      ]
     },
     "execution_count": 40,
     "metadata": {},
     "output_type": "execute_result"
    }
   ],
   "source": [
    "estimate_no_bus_service_as_percent = round((estimate_no_bus_service / total_respondents_with_kids) * 100)\n",
    "str(estimate_no_bus_service_as_percent) + \"%\""
   ]
  },
  {
   "cell_type": "markdown",
   "metadata": {},
   "source": [
    "### Adjustment to account for estimated number of students who don't have bus service available"
   ]
  },
  {
   "cell_type": "code",
   "execution_count": 63,
   "metadata": {},
   "outputs": [
    {
     "data": {
      "text/plain": [
       "Every day, or almost every day    113\n",
       "Rarely or never                   13 \n",
       "Once in a while                   15 \n",
       "Once every few days               9  \n",
       "Name: child_bus_freq, dtype: int64"
      ]
     },
     "execution_count": 63,
     "metadata": {},
     "output_type": "execute_result"
    }
   ],
   "source": [
    "df2 = df['child_bus_freq'].value_counts()\n",
    "# subtract estimated number of students without bus service from the 'rarely or never' response count\n",
    "df2.iloc[1] = df2.iloc[1] - estimate_no_bus_service \n",
    "df2"
   ]
  },
  {
   "cell_type": "markdown",
   "metadata": {},
   "source": [
    "Total number of respondents in our revised estimate"
   ]
  },
  {
   "cell_type": "code",
   "execution_count": 65,
   "metadata": {},
   "outputs": [
    {
     "data": {
      "text/plain": [
       "150"
      ]
     },
     "execution_count": 65,
     "metadata": {},
     "output_type": "execute_result"
    }
   ],
   "source": [
    "total_respondents_with_kids = df2.sum()\n",
    "total_respondents_with_kids"
   ]
  },
  {
   "cell_type": "code",
   "execution_count": 72,
   "metadata": {},
   "outputs": [
    {
     "data": {
      "text/plain": [
       "Every day, or almost every day    75%\n",
       "Rarely or never                   9% \n",
       "Once in a while                   10%\n",
       "Once every few days               6% \n",
       "Name: child_bus_freq, dtype: object"
      ]
     },
     "execution_count": 72,
     "metadata": {},
     "output_type": "execute_result"
    }
   ],
   "source": [
    "df2.apply(lambda x: str(round(x/df2.sum() * 100)) + '%' )"
   ]
  },
  {
   "cell_type": "code",
   "execution_count": null,
   "metadata": {
    "collapsed": true
   },
   "outputs": [],
   "source": []
  }
 ],
 "metadata": {
  "kernelspec": {
   "display_name": "Python 3",
   "language": "python",
   "name": "python3"
  },
  "language_info": {
   "codemirror_mode": {
    "name": "ipython",
    "version": 3
   },
   "file_extension": ".py",
   "mimetype": "text/x-python",
   "name": "python",
   "nbconvert_exporter": "python",
   "pygments_lexer": "ipython3",
   "version": "3.6.1"
  }
 },
 "nbformat": 4,
 "nbformat_minor": 2
}

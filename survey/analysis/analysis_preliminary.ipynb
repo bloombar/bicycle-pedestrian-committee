{
 "cells": [
  {
   "cell_type": "code",
   "execution_count": 1,
   "metadata": {},
   "outputs": [],
   "source": [
    "import numpy as np\n",
    "import pandas as pd\n",
    "from IPython.display import display, Markdown, Latex\n",
    "df = pd.read_csv('responses_scrubbed.csv', index_col=None, parse_dates=['date'])"
   ]
  },
  {
   "cell_type": "markdown",
   "metadata": {},
   "source": [
    "## Number of respondents from each neighborhood\n",
    "Gives us a sense of who responded."
   ]
  },
  {
   "cell_type": "code",
   "execution_count": 2,
   "metadata": {},
   "outputs": [
    {
     "data": {
      "text/plain": [
       "Harmon                 151\n",
       "Upper Village          107\n",
       "Old Post Road North     68\n",
       "Mount Airy              55\n",
       "Sunset Park             42\n",
       "Albany Post Road        29\n",
       "Half Moon Bay           19\n",
       "Quaker Ridge             9\n",
       "Cortlandt                8\n",
       "Ossining                 1\n",
       "Name: neighborhood, dtype: int64"
      ]
     },
     "execution_count": 2,
     "metadata": {},
     "output_type": "execute_result"
    }
   ],
   "source": [
    "df['neighborhood'].value_counts()"
   ]
  },
  {
   "cell_type": "markdown",
   "metadata": {},
   "source": [
    "## Number of respondents from each demographic\n",
    "Gives us a sense of who responded."
   ]
  },
  {
   "cell_type": "code",
   "execution_count": 3,
   "metadata": {},
   "outputs": [
    {
     "data": {
      "text/plain": [
       "Adult with school kid       194\n",
       "Adult without school kid    165\n",
       "Senior                      128\n",
       "College kid                   5\n",
       "High School kid               3\n",
       "Middle School kid             1\n",
       "Name: demographic, dtype: int64"
      ]
     },
     "execution_count": 3,
     "metadata": {},
     "output_type": "execute_result"
    }
   ],
   "source": [
    "df['demographic'].value_counts()"
   ]
  },
  {
   "cell_type": "markdown",
   "metadata": {},
   "source": [
    "## Percent respondents of each demographic from each neighborhood\n",
    "Each column adds up to 100%."
   ]
  },
  {
   "cell_type": "code",
   "execution_count": 4,
   "metadata": {},
   "outputs": [
    {
     "data": {
      "text/html": [
       "<div>\n",
       "<style scoped>\n",
       "    .dataframe tbody tr th:only-of-type {\n",
       "        vertical-align: middle;\n",
       "    }\n",
       "\n",
       "    .dataframe tbody tr th {\n",
       "        vertical-align: top;\n",
       "    }\n",
       "\n",
       "    .dataframe thead th {\n",
       "        text-align: right;\n",
       "    }\n",
       "</style>\n",
       "<table border=\"1\" class=\"dataframe\">\n",
       "  <thead>\n",
       "    <tr style=\"text-align: right;\">\n",
       "      <th>neighborhood</th>\n",
       "      <th>Albany Post Road</th>\n",
       "      <th>Cortlandt</th>\n",
       "      <th>Half Moon Bay</th>\n",
       "      <th>Harmon</th>\n",
       "      <th>Mount Airy</th>\n",
       "      <th>Old Post Road North</th>\n",
       "      <th>Ossining</th>\n",
       "      <th>Quaker Ridge</th>\n",
       "      <th>Sunset Park</th>\n",
       "      <th>Upper Village</th>\n",
       "    </tr>\n",
       "    <tr>\n",
       "      <th>demographic</th>\n",
       "      <th></th>\n",
       "      <th></th>\n",
       "      <th></th>\n",
       "      <th></th>\n",
       "      <th></th>\n",
       "      <th></th>\n",
       "      <th></th>\n",
       "      <th></th>\n",
       "      <th></th>\n",
       "      <th></th>\n",
       "    </tr>\n",
       "  </thead>\n",
       "  <tbody>\n",
       "    <tr>\n",
       "      <th>Adult with school kid</th>\n",
       "      <td>21</td>\n",
       "      <td>25</td>\n",
       "      <td>5</td>\n",
       "      <td>40</td>\n",
       "      <td>47</td>\n",
       "      <td>46</td>\n",
       "      <td>0</td>\n",
       "      <td>44</td>\n",
       "      <td>43</td>\n",
       "      <td>42</td>\n",
       "    </tr>\n",
       "    <tr>\n",
       "      <th>Adult without school kid</th>\n",
       "      <td>28</td>\n",
       "      <td>50</td>\n",
       "      <td>47</td>\n",
       "      <td>27</td>\n",
       "      <td>29</td>\n",
       "      <td>36</td>\n",
       "      <td>100</td>\n",
       "      <td>33</td>\n",
       "      <td>40</td>\n",
       "      <td>34</td>\n",
       "    </tr>\n",
       "    <tr>\n",
       "      <th>College kid</th>\n",
       "      <td>0</td>\n",
       "      <td>0</td>\n",
       "      <td>0</td>\n",
       "      <td>2</td>\n",
       "      <td>0</td>\n",
       "      <td>1</td>\n",
       "      <td>0</td>\n",
       "      <td>0</td>\n",
       "      <td>2</td>\n",
       "      <td>0</td>\n",
       "    </tr>\n",
       "    <tr>\n",
       "      <th>High School kid</th>\n",
       "      <td>0</td>\n",
       "      <td>0</td>\n",
       "      <td>0</td>\n",
       "      <td>1</td>\n",
       "      <td>2</td>\n",
       "      <td>0</td>\n",
       "      <td>0</td>\n",
       "      <td>0</td>\n",
       "      <td>0</td>\n",
       "      <td>0</td>\n",
       "    </tr>\n",
       "    <tr>\n",
       "      <th>Middle School kid</th>\n",
       "      <td>0</td>\n",
       "      <td>0</td>\n",
       "      <td>0</td>\n",
       "      <td>1</td>\n",
       "      <td>0</td>\n",
       "      <td>0</td>\n",
       "      <td>0</td>\n",
       "      <td>0</td>\n",
       "      <td>0</td>\n",
       "      <td>0</td>\n",
       "    </tr>\n",
       "    <tr>\n",
       "      <th>Senior</th>\n",
       "      <td>52</td>\n",
       "      <td>25</td>\n",
       "      <td>47</td>\n",
       "      <td>29</td>\n",
       "      <td>22</td>\n",
       "      <td>16</td>\n",
       "      <td>0</td>\n",
       "      <td>22</td>\n",
       "      <td>14</td>\n",
       "      <td>25</td>\n",
       "    </tr>\n",
       "  </tbody>\n",
       "</table>\n",
       "</div>"
      ],
      "text/plain": [
       "neighborhood              Albany Post Road  Cortlandt  Half Moon Bay  Harmon  \\\n",
       "demographic                                                                    \n",
       "Adult with school kid                   21         25              5      40   \n",
       "Adult without school kid                28         50             47      27   \n",
       "College kid                              0          0              0       2   \n",
       "High School kid                          0          0              0       1   \n",
       "Middle School kid                        0          0              0       1   \n",
       "Senior                                  52         25             47      29   \n",
       "\n",
       "neighborhood              Mount Airy  Old Post Road North  Ossining  \\\n",
       "demographic                                                           \n",
       "Adult with school kid             47                   46         0   \n",
       "Adult without school kid          29                   36       100   \n",
       "College kid                        0                    1         0   \n",
       "High School kid                    2                    0         0   \n",
       "Middle School kid                  0                    0         0   \n",
       "Senior                            22                   16         0   \n",
       "\n",
       "neighborhood              Quaker Ridge  Sunset Park  Upper Village  \n",
       "demographic                                                         \n",
       "Adult with school kid               44           43             42  \n",
       "Adult without school kid            33           40             34  \n",
       "College kid                          0            2              0  \n",
       "High School kid                      0            0              0  \n",
       "Middle School kid                    0            0              0  \n",
       "Senior                              22           14             25  "
      ]
     },
     "execution_count": 4,
     "metadata": {},
     "output_type": "execute_result"
    }
   ],
   "source": [
    "df2 = df.groupby(['demographic', 'neighborhood']).size().unstack(fill_value=0).apply(lambda x: 100 * x / x.sum()) #.astype(int)\n",
    "df2.round(0).astype(int) # round to int"
   ]
  },
  {
   "cell_type": "markdown",
   "metadata": {},
   "source": [
    "## Set up some useful functions for talllying responses"
   ]
  },
  {
   "cell_type": "code",
   "execution_count": 5,
   "metadata": {},
   "outputs": [],
   "source": [
    "# splits the comma-separated values in the column into a pandas Series\n",
    "def split_by_comma(group, column_title):\n",
    "    try:\n",
    "        value_list = group[column_title].str.split(',')\n",
    "        return pd.Series(value_list.values[0], name=column_title)\n",
    "    except:\n",
    "        return []\n",
    "\n",
    "# breaks up the indicated column representing checkbox type data into multiple columns\n",
    "def get_answer_options(column_title, df, series_name):\n",
    "    # group all respondents who gave the same child_drive_reason\n",
    "    ser = df[pd.notnull(df[column_title])].groupby(level=0).apply(split_by_comma, column_title=column_title)\n",
    "    try:\n",
    "        # remove extra whitespace, if any responses exist\n",
    "        ser = ser.map(lambda x: str(x).strip()) #strip whitespace from answers\n",
    "    except:\n",
    "        # there were no results in the series\n",
    "        pass\n",
    "    \n",
    "    dum = pd.get_dummies(ser) # split each respondent's answers into separate columns\n",
    "    \n",
    "    # sum columns\n",
    "    col_list = list(dum.columns) \n",
    "    dum.loc[series_name] = dum[col_list].sum(axis=0)\n",
    "    \n",
    "    # sort and return only the top 10\n",
    "    return dum.loc[series_name].sort_values(ascending=False)[0:10].sort_index()\n",
    "\n",
    "# entry point\n",
    "def get_responses(column_title, df, demographic='Anyone', neighborhood='Anywhere', as_percent=True, series_name='overall'):\n",
    "    # how many people gave reasons of any kind?\n",
    "    num_respondents = df[pd.notnull(df[column_title])].shape[0]\n",
    "    \n",
    "    # break up the column of interest\n",
    "    results = get_answer_options(column_title, df, series_name)\n",
    "    \n",
    "    # calculate percentages, if requested\n",
    "    if as_percent:\n",
    "        results = results.apply(lambda x: int(100 * x / num_respondents))\n",
    "\n",
    "    return results\n",
    "\n",
    "# builds a set of columns representing each demographic's \n",
    "def break_down_by(column_title, breakdown_column='demographic'):\n",
    "    \n",
    "    # get the overall reasons people gave for each\n",
    "    responses = get_responses(column_title, df, series_name='overall')\n",
    "    # convert to dataframe\n",
    "    df2 = responses.to_frame()\n",
    "    \n",
    "    # add on columns for each demographic to the dataframe\n",
    "    for breakdown_index, v in df[breakdown_column].value_counts().items():\n",
    "        df3 = df[df[breakdown_column] == breakdown_index ]\n",
    "        try:\n",
    "            # get the reasons this specific demographic gave for this column\n",
    "            responses = get_responses(column_title, df3, breakdown_index, series_name=breakdown_index)\n",
    "            #df2 = pd.concat([df2, responses.to_frame()], axis=1)\n",
    "            df2 = df2.join(responses.to_frame(), how='outer')\n",
    "            #print(df2)\n",
    "        except:\n",
    "            # there were no responses from this demographic\n",
    "            continue\n",
    "            \n",
    "    return df2\n"
   ]
  },
  {
   "cell_type": "markdown",
   "metadata": {},
   "source": [
    "# Analyze responses"
   ]
  },
  {
   "cell_type": "code",
   "execution_count": 38,
   "metadata": {
    "scrolled": false
   },
   "outputs": [
    {
     "data": {
      "text/markdown": [
       "## *Schools* (As % Of 188 Respondents):"
      ],
      "text/plain": [
       "<IPython.core.display.Markdown object>"
      ]
     },
     "metadata": {},
     "output_type": "display_data"
    },
    {
     "data": {
      "text/markdown": [
       "### Broken Down By Demographic:"
      ],
      "text/plain": [
       "<IPython.core.display.Markdown object>"
      ]
     },
     "metadata": {},
     "output_type": "display_data"
    },
    {
     "name": "stdout",
     "output_type": "stream",
     "text": [
      "                                   overall  Adult with school kid\n",
      "CET                                     45                     45\n",
      "CHHS                                    30                     30\n",
      "Circle School                            1                      1\n",
      "Currently pre-school but soon CET        0                      0\n",
      "Happy Hearts                             1                      1\n",
      "Happy Hearts Day Care                    0                      0\n",
      "Homeschooled                             2                      2\n",
      "PVC                                     31                     31\n",
      "St. Augustine                            1                      1\n",
      "The Harvey School                        0                      0\n"
     ]
    },
    {
     "data": {
      "text/markdown": [
       "## *Child_Drive_Reason* (As % Of 189 Respondents):"
      ],
      "text/plain": [
       "<IPython.core.display.Markdown object>"
      ]
     },
     "metadata": {},
     "output_type": "display_data"
    },
    {
     "data": {
      "text/markdown": [
       "### Broken Down By Demographic:"
      ],
      "text/plain": [
       "<IPython.core.display.Markdown object>"
      ]
     },
     "metadata": {},
     "output_type": "display_data"
    },
    {
     "name": "stdout",
     "output_type": "stream",
     "text": [
      "                                              overall  Adult with school kid\n",
      "Kids running late                                   1                      1\n",
      "Lack of available busing where we live              3                      3\n",
      "No - we do not drive                               34                     34\n",
      "Our own personal preference                        21                     21\n",
      "Safety concerns with bicycling                      7                      7\n",
      "Safety concerns with buses                          2                      2\n",
      "Safety concerns with walking                       12                     12\n",
      "The bus schedule does not match our schedule       14                     14\n",
      "Weather                                             1                      1\n",
      "or prefer not to drive                             34                     34\n"
     ]
    },
    {
     "data": {
      "text/markdown": [
       "## *Child_No_Walk_Reason* (As % Of 178 Respondents):"
      ],
      "text/plain": [
       "<IPython.core.display.Markdown object>"
      ]
     },
     "metadata": {},
     "output_type": "display_data"
    },
    {
     "data": {
      "text/markdown": [
       "### Broken Down By Demographic:"
      ],
      "text/plain": [
       "<IPython.core.display.Markdown object>"
      ]
     },
     "metadata": {},
     "output_type": "display_data"
    },
    {
     "name": "stdout",
     "output_type": "stream",
     "text": [
      "                                                   overall  \\\n",
      "Fear of dangerous driving                               19   \n",
      "Lack of adequate crosswalks at busy intersections       10   \n",
      "Lack of adequate sidewalks                              18   \n",
      "Lack of crossing guards at busy intersections            5   \n",
      "My child does not like to walk                           5   \n",
      "No - they walk a lot                                    21   \n",
      "Too young                                                2   \n",
      "We don't have time to walk                              20   \n",
      "We live too far to walk                                 25   \n",
      "with no sidewalks.                                       0   \n",
      "\n",
      "                                                   Adult with school kid  \n",
      "Fear of dangerous driving                                             19  \n",
      "Lack of adequate crosswalks at busy intersections                     10  \n",
      "Lack of adequate sidewalks                                            18  \n",
      "Lack of crossing guards at busy intersections                          5  \n",
      "My child does not like to walk                                         5  \n",
      "No - they walk a lot                                                  21  \n",
      "Too young                                                              2  \n",
      "We don't have time to walk                                            20  \n",
      "We live too far to walk                                               25  \n",
      "with no sidewalks.                                                     0  \n"
     ]
    },
    {
     "data": {
      "text/markdown": [
       "## *Child_No_Bike_Reason* (As % Of 182 Respondents):"
      ],
      "text/plain": [
       "<IPython.core.display.Markdown object>"
      ]
     },
     "metadata": {},
     "output_type": "display_data"
    },
    {
     "data": {
      "text/markdown": [
       "### Broken Down By Demographic:"
      ],
      "text/plain": [
       "<IPython.core.display.Markdown object>"
      ]
     },
     "metadata": {},
     "output_type": "display_data"
    },
    {
     "name": "stdout",
     "output_type": "stream",
     "text": [
      "                                   overall  Adult with school kid\n",
      "Fear of dangerous driving               30                     30\n",
      "Hills                                   13                     13\n",
      "Lack of adequate bike lanes             20                     20\n",
      "My child does not like to bicycle       14                     14\n",
      "My child is too young to bicycle        26                     26\n",
      "No - they bicycle a lot                  1                      1\n",
      "Our own personal preference              9                      9\n",
      "Too young                                1                      1\n",
      "Visually unappealing route               1                      1\n",
      "We live too far to bicycle              10                     10\n"
     ]
    },
    {
     "data": {
      "text/markdown": [
       "## *Commuter_Distance* (As % Of 297 Respondents):"
      ],
      "text/plain": [
       "<IPython.core.display.Markdown object>"
      ]
     },
     "metadata": {},
     "output_type": "display_data"
    },
    {
     "data": {
      "text/markdown": [
       "### Broken Down By Demographic:"
      ],
      "text/plain": [
       "<IPython.core.display.Markdown object>"
      ]
     },
     "metadata": {},
     "output_type": "display_data"
    },
    {
     "name": "stdout",
     "output_type": "stream",
     "text": [
      "                                    overall  Adult with school kid  \\\n",
      "0_To/from Hoboken NJ                    NaN                    NaN   \n",
      "0_To/from New York City                 NaN                    NaN   \n",
      "0_Within Croton                         NaN                    NaN   \n",
      "0_Within Westchester                    NaN                    NaN   \n",
      "Across river                            NaN                    0.0   \n",
      "Both nyc and westChester                NaN                    0.0   \n",
      "CT                                      0.0                    0.0   \n",
      "Chappaqua                               0.0                    0.0   \n",
      "Ct                                      0.0                    NaN   \n",
      "Drive New Jersey                        0.0                    NaN   \n",
      "Dutchess County                         0.0                    0.0   \n",
      "Dutchess and Orange Counties            0.0                    NaN   \n",
      "Orange county                           NaN                    NaN   \n",
      "Rockland                                NaN                    NaN   \n",
      "To NY city and with in Westchester      NaN                    NaN   \n",
      "To Rockland County                      NaN                    NaN   \n",
      "To/From New York City                   1.0                    2.0   \n",
      "To/from New York City                  54.0                   56.0   \n",
      "Varies widely                           NaN                    NaN   \n",
      "Within Croton                           8.0                    5.0   \n",
      "Within Westchester                     26.0                   26.0   \n",
      "from NYC to Poughkeepsie                NaN                    NaN   \n",
      "to northern NJ                          NaN                    0.0   \n",
      "\n",
      "                                    Adult without school kid  Senior  \\\n",
      "0_To/from Hoboken NJ                                     NaN     5.0   \n",
      "0_To/from New York City                                  NaN    47.0   \n",
      "0_Within Croton                                          NaN    15.0   \n",
      "0_Within Westchester                                     NaN    31.0   \n",
      "Across river                                             NaN     NaN   \n",
      "Both nyc and westChester                                 NaN     NaN   \n",
      "CT                                                       NaN     NaN   \n",
      "Chappaqua                                                NaN     NaN   \n",
      "Ct                                                       NaN     NaN   \n",
      "Drive New Jersey                                         NaN     NaN   \n",
      "Dutchess County                                          NaN     NaN   \n",
      "Dutchess and Orange Counties                             NaN     NaN   \n",
      "Orange county                                            0.0     NaN   \n",
      "Rockland                                                 0.0     NaN   \n",
      "To NY city and with in Westchester                       0.0     NaN   \n",
      "To Rockland County                                       0.0     NaN   \n",
      "To/From New York City                                    1.0     NaN   \n",
      "To/from New York City                                   53.0     NaN   \n",
      "Varies widely                                            0.0     NaN   \n",
      "Within Croton                                           11.0     NaN   \n",
      "Within Westchester                                      25.0     NaN   \n",
      "from NYC to Poughkeepsie                                 0.0     NaN   \n",
      "to northern NJ                                           NaN     NaN   \n",
      "\n",
      "                                    College kid  High School kid  \n",
      "0_To/from Hoboken NJ                        NaN              NaN  \n",
      "0_To/from New York City                    75.0              NaN  \n",
      "0_Within Croton                            25.0              NaN  \n",
      "0_Within Westchester                        NaN            100.0  \n",
      "Across river                                NaN              NaN  \n",
      "Both nyc and westChester                    NaN              NaN  \n",
      "CT                                          NaN              NaN  \n",
      "Chappaqua                                   NaN              NaN  \n",
      "Ct                                          NaN              NaN  \n",
      "Drive New Jersey                            NaN              NaN  \n",
      "Dutchess County                             NaN              NaN  \n",
      "Dutchess and Orange Counties                NaN              NaN  \n",
      "Orange county                               NaN              NaN  \n",
      "Rockland                                    NaN              NaN  \n",
      "To NY city and with in Westchester          NaN              NaN  \n",
      "To Rockland County                          NaN              NaN  \n",
      "To/From New York City                       NaN              NaN  \n",
      "To/from New York City                       NaN              NaN  \n",
      "Varies widely                               NaN              NaN  \n",
      "Within Croton                               NaN              NaN  \n",
      "Within Westchester                          NaN              NaN  \n",
      "from NYC to Poughkeepsie                    NaN              NaN  \n",
      "to northern NJ                              NaN              NaN  \n"
     ]
    },
    {
     "data": {
      "text/markdown": [
       "## *No_Walk_Reason* (As % Of 488 Respondents):"
      ],
      "text/plain": [
       "<IPython.core.display.Markdown object>"
      ]
     },
     "metadata": {},
     "output_type": "display_data"
    },
    {
     "data": {
      "text/markdown": [
       "### Broken Down By Demographic:"
      ],
      "text/plain": [
       "<IPython.core.display.Markdown object>"
      ]
     },
     "metadata": {},
     "output_type": "display_data"
    },
    {
     "name": "stdout",
     "output_type": "stream",
     "text": [
      "                                              overall  Adult with school kid  \\\n",
      "0_No - I walk a lot                               NaN                    NaN   \n",
      "1_ I don't have time to walk                      NaN                    NaN   \n",
      "2_ Lack of crossing guards at intersections       NaN                    NaN   \n",
      "Fear of dangerous driving                        10.0                   14.0   \n",
      "Hills                                             NaN                    1.0   \n",
      "I do not like to walk                             1.0                    NaN   \n",
      "I don't have time to walk                        15.0                   16.0   \n",
      "I live too far to walk                            8.0                   10.0   \n",
      "Lack of adequate crosswalks at intersections      9.0                   13.0   \n",
      "Lack of adequate sidewalks                       20.0                   25.0   \n",
      "Lack of crossing guards at intersections          NaN                    NaN   \n",
      "My health condition                               5.0                    1.0   \n",
      "My own personal preference                       11.0                    6.0   \n",
      "No - I walk a lot                                38.0                   35.0   \n",
      "Visually unappealing                              3.0                    4.0   \n",
      "weather                                           NaN                    NaN   \n",
      "\n",
      "                                              Adult without school kid  \\\n",
      "0_No - I walk a lot                                                NaN   \n",
      "1_ I don't have time to walk                                       NaN   \n",
      "2_ Lack of crossing guards at intersections                        NaN   \n",
      "Fear of dangerous driving                                          9.0   \n",
      "Hills                                                              NaN   \n",
      "I do not like to walk                                              2.0   \n",
      "I don't have time to walk                                         16.0   \n",
      "I live too far to walk                                             8.0   \n",
      "Lack of adequate crosswalks at intersections                       7.0   \n",
      "Lack of adequate sidewalks                                        21.0   \n",
      "Lack of crossing guards at intersections                           NaN   \n",
      "My health condition                                                1.0   \n",
      "My own personal preference                                        14.0   \n",
      "No - I walk a lot                                                 37.0   \n",
      "Visually unappealing                                               3.0   \n",
      "weather                                                            NaN   \n",
      "\n",
      "                                              Senior  College kid  \\\n",
      "0_No - I walk a lot                              NaN          NaN   \n",
      "1_ I don't have time to walk                     NaN          NaN   \n",
      "2_ Lack of crossing guards at intersections      NaN          NaN   \n",
      "Fear of dangerous driving                        4.0         20.0   \n",
      "Hills                                            NaN          NaN   \n",
      "I do not like to walk                            NaN         40.0   \n",
      "I don't have time to walk                        8.0         40.0   \n",
      "I live too far to walk                           4.0         40.0   \n",
      "Lack of adequate crosswalks at intersections     4.0         20.0   \n",
      "Lack of adequate sidewalks                       9.0          NaN   \n",
      "Lack of crossing guards at intersections         NaN         20.0   \n",
      "My health condition                             15.0         20.0   \n",
      "My own personal preference                      16.0         40.0   \n",
      "No - I walk a lot                               44.0         20.0   \n",
      "Visually unappealing                             1.0         20.0   \n",
      "weather                                          0.0          NaN   \n",
      "\n",
      "                                              High School kid  \\\n",
      "0_No - I walk a lot                                       NaN   \n",
      "1_ I don't have time to walk                              NaN   \n",
      "2_ Lack of crossing guards at intersections               NaN   \n",
      "Fear of dangerous driving                                33.0   \n",
      "Hills                                                     NaN   \n",
      "I do not like to walk                                     NaN   \n",
      "I don't have time to walk                                33.0   \n",
      "I live too far to walk                                   33.0   \n",
      "Lack of adequate crosswalks at intersections              NaN   \n",
      "Lack of adequate sidewalks                               66.0   \n",
      "Lack of crossing guards at intersections                  NaN   \n",
      "My health condition                                       NaN   \n",
      "My own personal preference                                NaN   \n",
      "No - I walk a lot                                        33.0   \n",
      "Visually unappealing                                      NaN   \n",
      "weather                                                   NaN   \n",
      "\n",
      "                                              Middle School kid  \n",
      "0_No - I walk a lot                                       100.0  \n",
      "1_ I don't have time to walk                              100.0  \n",
      "2_ Lack of crossing guards at intersections               100.0  \n",
      "Fear of dangerous driving                                   NaN  \n",
      "Hills                                                       NaN  \n",
      "I do not like to walk                                       NaN  \n",
      "I don't have time to walk                                   NaN  \n",
      "I live too far to walk                                      NaN  \n",
      "Lack of adequate crosswalks at intersections                NaN  \n",
      "Lack of adequate sidewalks                                  NaN  \n",
      "Lack of crossing guards at intersections                    NaN  \n",
      "My health condition                                         NaN  \n",
      "My own personal preference                                  NaN  \n",
      "No - I walk a lot                                           NaN  \n",
      "Visually unappealing                                        NaN  \n",
      "weather                                                     NaN  \n"
     ]
    },
    {
     "data": {
      "text/markdown": [
       "## *No_Bike_Reason* (As % Of 479 Respondents):"
      ],
      "text/plain": [
       "<IPython.core.display.Markdown object>"
      ]
     },
     "metadata": {},
     "output_type": "display_data"
    },
    {
     "data": {
      "text/markdown": [
       "### Broken Down By Demographic:"
      ],
      "text/plain": [
       "<IPython.core.display.Markdown object>"
      ]
     },
     "metadata": {},
     "output_type": "display_data"
    },
    {
     "name": "stdout",
     "output_type": "stream",
     "text": [
      "                                             overall  Adult with school kid  \\\n",
      "0_No - I bicycle a lot                           NaN                    NaN   \n",
      "1_ Lack of adequate bike lanes                   NaN                    NaN   \n",
      "Croton is very hilly! It’s not easy riding.      NaN                    NaN   \n",
      "Don’t know how                                   NaN                    NaN   \n",
      "Fear of dangerous drivers                        NaN                    1.0   \n",
      "Fear of dangerous driving                       23.0                   30.0   \n",
      "Hills                                            0.0                    1.0   \n",
      "I do not like to bicycle                        16.0                   17.0   \n",
      "I don't have time to bicycle                    12.0                   15.0   \n",
      "I don't own a Bicycle                            NaN                    NaN   \n",
      "I live too far to bicycle                        3.0                    3.0   \n",
      "Lack of adequate bike lanes                     22.0                   27.0   \n",
      "My health condition                              4.0                    NaN   \n",
      "My own personal preference                      17.0                   14.0   \n",
      "No - I bicycle a lot                            10.0                   10.0   \n",
      "Visually unappealing                             1.0                    1.0   \n",
      "uneven surfaces etc.                             NaN                    NaN   \n",
      "weather                                          NaN                    NaN   \n",
      "\n",
      "                                             Adult without school kid  Senior  \\\n",
      "0_No - I bicycle a lot                                            NaN     NaN   \n",
      "1_ Lack of adequate bike lanes                                    NaN     NaN   \n",
      "Croton is very hilly! It’s not easy riding.                       NaN     NaN   \n",
      "Don’t know how                                                    NaN     1.0   \n",
      "Fear of dangerous drivers                                         NaN     NaN   \n",
      "Fear of dangerous driving                                        24.0    10.0   \n",
      "Hills                                                             1.0     NaN   \n",
      "I do not like to bicycle                                         12.0    19.0   \n",
      "I don't have time to bicycle                                     16.0     2.0   \n",
      "I don't own a Bicycle                                             NaN     0.0   \n",
      "I live too far to bicycle                                         4.0     NaN   \n",
      "Lack of adequate bike lanes                                      25.0     9.0   \n",
      "My health condition                                               3.0    12.0   \n",
      "My own personal preference                                       22.0    16.0   \n",
      "No - I bicycle a lot                                              7.0    12.0   \n",
      "Visually unappealing                                              NaN     NaN   \n",
      "uneven surfaces etc.                                              NaN     0.0   \n",
      "weather                                                           1.0     NaN   \n",
      "\n",
      "                                             College kid  High School kid  \\\n",
      "0_No - I bicycle a lot                               NaN              NaN   \n",
      "1_ Lack of adequate bike lanes                       NaN              NaN   \n",
      "Croton is very hilly! It’s not easy riding.         20.0              NaN   \n",
      "Don’t know how                                       NaN              NaN   \n",
      "Fear of dangerous drivers                            NaN              NaN   \n",
      "Fear of dangerous driving                           20.0             66.0   \n",
      "Hills                                                NaN              NaN   \n",
      "I do not like to bicycle                            20.0              NaN   \n",
      "I don't have time to bicycle                        20.0             33.0   \n",
      "I don't own a Bicycle                                NaN              NaN   \n",
      "I live too far to bicycle                            NaN             33.0   \n",
      "Lack of adequate bike lanes                         20.0             33.0   \n",
      "My health condition                                  NaN              NaN   \n",
      "My own personal preference                          60.0              NaN   \n",
      "No - I bicycle a lot                                20.0              NaN   \n",
      "Visually unappealing                                 NaN              NaN   \n",
      "uneven surfaces etc.                                 NaN              NaN   \n",
      "weather                                              NaN              NaN   \n",
      "\n",
      "                                             Middle School kid  \n",
      "0_No - I bicycle a lot                                   100.0  \n",
      "1_ Lack of adequate bike lanes                           100.0  \n",
      "Croton is very hilly! It’s not easy riding.                NaN  \n",
      "Don’t know how                                             NaN  \n",
      "Fear of dangerous drivers                                  NaN  \n",
      "Fear of dangerous driving                                  NaN  \n",
      "Hills                                                      NaN  \n",
      "I do not like to bicycle                                   NaN  \n",
      "I don't have time to bicycle                               NaN  \n",
      "I don't own a Bicycle                                      NaN  \n",
      "I live too far to bicycle                                  NaN  \n",
      "Lack of adequate bike lanes                                NaN  \n",
      "My health condition                                        NaN  \n",
      "My own personal preference                                 NaN  \n",
      "No - I bicycle a lot                                       NaN  \n",
      "Visually unappealing                                       NaN  \n",
      "uneven surfaces etc.                                       NaN  \n",
      "weather                                                    NaN  \n"
     ]
    },
    {
     "data": {
      "text/markdown": [
       "## *Drive_Reason* (As % Of 476 Respondents):"
      ],
      "text/plain": [
       "<IPython.core.display.Markdown object>"
      ]
     },
     "metadata": {},
     "output_type": "display_data"
    },
    {
     "data": {
      "text/markdown": [
       "### Broken Down By Demographic:"
      ],
      "text/plain": [
       "<IPython.core.display.Markdown object>"
      ]
     },
     "metadata": {},
     "output_type": "display_data"
    },
    {
     "name": "stdout",
     "output_type": "stream",
     "text": [
      "                                                    overall  \\\n",
      "0_My own personal preference                            NaN   \n",
      "Blue Pig                                                NaN   \n",
      "Convenience                                             0.0   \n",
      "Distance from my airy                                   NaN   \n",
      "Hills                                                   1.0   \n",
      "I don't have time to walk or bicycle                   24.0   \n",
      "I drop my kids off at Happy Hearts and can't bi...      NaN   \n",
      "I use the car during bad weather or when I need...      NaN   \n",
      "Many Overgrown sidewalks                                NaN   \n",
      "My own health condition                                 4.0   \n",
      "My own personal preference                             33.0   \n",
      "No - I do not drive                                     7.0   \n",
      "Safety concerns with bicycling                         16.0   \n",
      "Safety concerns with walking                           10.0   \n",
      "Time                                                    1.0   \n",
      "Too far                                                 NaN   \n",
      "or prefer not to drive                                  7.0   \n",
      "time                                                    NaN   \n",
      "\n",
      "                                                    Adult with school kid  \\\n",
      "0_My own personal preference                                          NaN   \n",
      "Blue Pig                                                              NaN   \n",
      "Convenience                                                           1.0   \n",
      "Distance from my airy                                                 NaN   \n",
      "Hills                                                                 2.0   \n",
      "I don't have time to walk or bicycle                                 27.0   \n",
      "I drop my kids off at Happy Hearts and can't bi...                    NaN   \n",
      "I use the car during bad weather or when I need...                    NaN   \n",
      "Many Overgrown sidewalks                                              NaN   \n",
      "My own health condition                                               NaN   \n",
      "My own personal preference                                           28.0   \n",
      "No - I do not drive                                                   7.0   \n",
      "Safety concerns with bicycling                                       20.0   \n",
      "Safety concerns with walking                                         14.0   \n",
      "Time                                                                  2.0   \n",
      "Too far                                                               NaN   \n",
      "or prefer not to drive                                                7.0   \n",
      "time                                                                  1.0   \n",
      "\n",
      "                                                    Adult without school kid  \\\n",
      "0_My own personal preference                                             NaN   \n",
      "Blue Pig                                                                 0.0   \n",
      "Convenience                                                              NaN   \n",
      "Distance from my airy                                                    NaN   \n",
      "Hills                                                                    NaN   \n",
      "I don't have time to walk or bicycle                                    25.0   \n",
      "I drop my kids off at Happy Hearts and can't bi...                       0.0   \n",
      "I use the car during bad weather or when I need...                       NaN   \n",
      "Many Overgrown sidewalks                                                 NaN   \n",
      "My own health condition                                                  3.0   \n",
      "My own personal preference                                              34.0   \n",
      "No - I do not drive                                                      7.0   \n",
      "Safety concerns with bicycling                                          17.0   \n",
      "Safety concerns with walking                                            11.0   \n",
      "Time                                                                     NaN   \n",
      "Too far                                                                  1.0   \n",
      "or prefer not to drive                                                   7.0   \n",
      "time                                                                     NaN   \n",
      "\n",
      "                                                    Senior  College kid  \\\n",
      "0_My own personal preference                           NaN          NaN   \n",
      "Blue Pig                                               NaN          NaN   \n",
      "Convenience                                            NaN         20.0   \n",
      "Distance from my airy                                  1.0          NaN   \n",
      "Hills                                                  NaN          NaN   \n",
      "I don't have time to walk or bicycle                  17.0         60.0   \n",
      "I drop my kids off at Happy Hearts and can't bi...     NaN          NaN   \n",
      "I use the car during bad weather or when I need...     0.0          NaN   \n",
      "Many Overgrown sidewalks                               0.0          NaN   \n",
      "My own health condition                               13.0          NaN   \n",
      "My own personal preference                            39.0         40.0   \n",
      "No - I do not drive                                    7.0          NaN   \n",
      "Safety concerns with bicycling                        11.0          NaN   \n",
      "Safety concerns with walking                           4.0          NaN   \n",
      "Time                                                   NaN          NaN   \n",
      "Too far                                                NaN          NaN   \n",
      "or prefer not to drive                                 7.0          NaN   \n",
      "time                                                   NaN          NaN   \n",
      "\n",
      "                                                    High School kid  \\\n",
      "0_My own personal preference                                    NaN   \n",
      "Blue Pig                                                        NaN   \n",
      "Convenience                                                     NaN   \n",
      "Distance from my airy                                           NaN   \n",
      "Hills                                                           NaN   \n",
      "I don't have time to walk or bicycle                           66.0   \n",
      "I drop my kids off at Happy Hearts and can't bi...              NaN   \n",
      "I use the car during bad weather or when I need...              NaN   \n",
      "Many Overgrown sidewalks                                        NaN   \n",
      "My own health condition                                         NaN   \n",
      "My own personal preference                                      NaN   \n",
      "No - I do not drive                                            33.0   \n",
      "Safety concerns with bicycling                                  NaN   \n",
      "Safety concerns with walking                                    NaN   \n",
      "Time                                                            NaN   \n",
      "Too far                                                         NaN   \n",
      "or prefer not to drive                                         33.0   \n",
      "time                                                            NaN   \n",
      "\n",
      "                                                    Middle School kid  \n",
      "0_My own personal preference                                    100.0  \n",
      "Blue Pig                                                          NaN  \n",
      "Convenience                                                       NaN  \n",
      "Distance from my airy                                             NaN  \n",
      "Hills                                                             NaN  \n",
      "I don't have time to walk or bicycle                              NaN  \n",
      "I drop my kids off at Happy Hearts and can't bi...                NaN  \n",
      "I use the car during bad weather or when I need...                NaN  \n",
      "Many Overgrown sidewalks                                          NaN  \n",
      "My own health condition                                           NaN  \n",
      "My own personal preference                                        NaN  \n",
      "No - I do not drive                                               NaN  \n",
      "Safety concerns with bicycling                                    NaN  \n",
      "Safety concerns with walking                                      NaN  \n",
      "Time                                                              NaN  \n",
      "Too far                                                           NaN  \n",
      "or prefer not to drive                                            NaN  \n",
      "time                                                              NaN  \n"
     ]
    }
   ],
   "source": [
    "# a list of multiple-choice columns we'd like to analyze\n",
    "fields = [ 'schools', 'child_drive_reason', 'child_no_walk_reason', 'child_no_bike_reason', 'commuter_distance', 'no_walk_reason', 'no_bike_reason', 'drive_reason' ]\n",
    "\n",
    "# builds a set of columns representing each demographic's \n",
    "def break_down_by(column_title, breakdown_column='demographic'):\n",
    "    \n",
    "    # get the overall reasons people gave for each\n",
    "    responses = get_responses(column_title, df, series_name='overall')\n",
    "    # convert to dataframe\n",
    "    df2 = responses.to_frame()\n",
    "    \n",
    "    # add on columns for each demographic to the dataframe\n",
    "    for breakdown_index, v in df[breakdown_column].value_counts().items():\n",
    "        df3 = df[df[breakdown_column] == breakdown_index ]\n",
    "        try:\n",
    "            # get the reasons this specific demographic gave for this column\n",
    "            responses = get_responses(column_title, df3, breakdown_index, series_name=breakdown_index)\n",
    "            df2 = pd.concat([df2, responses.to_frame()], axis=1)\n",
    "            #print(df2)\n",
    "        except:\n",
    "            # there were no responses from this demographic\n",
    "            continue\n",
    "            \n",
    "    return df2\n",
    "\n",
    "        \n",
    "# loop through each of the checkbox-type questions\n",
    "for column_title in fields:\n",
    "    \n",
    "    # break this column down by demographic\n",
    "    df2 = break_down_by(column_title, breakdown_column='demographic')\n",
    "    \n",
    "    # break this column down by demographic\n",
    "    df3 = break_down_by(column_title, breakdown_column='neighborhood')\n",
    "    \n",
    "    # output top 10 results\n",
    "    num_respondents = df[pd.notnull(df[column_title])].shape[0] # get the number of people who answered this question\n",
    "    display(Markdown('## *{}* (as % of {} respondents):'.format(column_title, num_respondents).title()))\n",
    "\n",
    "    display(Markdown('### Broken down by demographic:'.title()))\n",
    "    print(df2)\n",
    "    #display(Markdown('### Broken down by neighborhood:'.title()))\n",
    "    #print(df3)\n",
    "    "
   ]
  },
  {
   "cell_type": "markdown",
   "metadata": {},
   "source": [
    "## Who rides on the sidewalk?"
   ]
  },
  {
   "cell_type": "markdown",
   "metadata": {},
   "source": [
    "### Overall"
   ]
  },
  {
   "cell_type": "code",
   "execution_count": 7,
   "metadata": {},
   "outputs": [
    {
     "data": {
      "text/html": [
       "<div>\n",
       "<style scoped>\n",
       "    .dataframe tbody tr th:only-of-type {\n",
       "        vertical-align: middle;\n",
       "    }\n",
       "\n",
       "    .dataframe tbody tr th {\n",
       "        vertical-align: top;\n",
       "    }\n",
       "\n",
       "    .dataframe thead th {\n",
       "        text-align: right;\n",
       "    }\n",
       "</style>\n",
       "<table border=\"1\" class=\"dataframe\">\n",
       "  <thead>\n",
       "    <tr style=\"text-align: right;\">\n",
       "      <th></th>\n",
       "      <th>bikes_on_sidewalk</th>\n",
       "    </tr>\n",
       "  </thead>\n",
       "  <tbody>\n",
       "    <tr>\n",
       "      <th>No - I don't bicycle</th>\n",
       "      <td>49</td>\n",
       "    </tr>\n",
       "    <tr>\n",
       "      <th>No - I only bicycle on the road</th>\n",
       "      <td>29</td>\n",
       "    </tr>\n",
       "    <tr>\n",
       "      <th>Yes</th>\n",
       "      <td>23</td>\n",
       "    </tr>\n",
       "  </tbody>\n",
       "</table>\n",
       "</div>"
      ],
      "text/plain": [
       "                                 bikes_on_sidewalk\n",
       "No - I don't bicycle                            49\n",
       "No - I only bicycle on the road                 29\n",
       "Yes                                             23"
      ]
     },
     "execution_count": 7,
     "metadata": {},
     "output_type": "execute_result"
    }
   ],
   "source": [
    "# do people generally bike on the sidewalk?\n",
    "df['bikes_on_sidewalk'].value_counts().to_frame().apply(lambda x: 100 * x / x.sum()).round(0).astype(int).sort_index()\n"
   ]
  },
  {
   "cell_type": "markdown",
   "metadata": {},
   "source": [
    "### People who never bike"
   ]
  },
  {
   "cell_type": "code",
   "execution_count": 8,
   "metadata": {},
   "outputs": [
    {
     "data": {
      "text/html": [
       "<div>\n",
       "<style scoped>\n",
       "    .dataframe tbody tr th:only-of-type {\n",
       "        vertical-align: middle;\n",
       "    }\n",
       "\n",
       "    .dataframe tbody tr th {\n",
       "        vertical-align: top;\n",
       "    }\n",
       "\n",
       "    .dataframe thead th {\n",
       "        text-align: right;\n",
       "    }\n",
       "</style>\n",
       "<table border=\"1\" class=\"dataframe\">\n",
       "  <thead>\n",
       "    <tr style=\"text-align: right;\">\n",
       "      <th></th>\n",
       "      <th>bikes_on_sidewalk</th>\n",
       "    </tr>\n",
       "  </thead>\n",
       "  <tbody>\n",
       "    <tr>\n",
       "      <th>No - I don't bicycle</th>\n",
       "      <td>80</td>\n",
       "    </tr>\n",
       "    <tr>\n",
       "      <th>No - I only bicycle on the road</th>\n",
       "      <td>13</td>\n",
       "    </tr>\n",
       "    <tr>\n",
       "      <th>Yes</th>\n",
       "      <td>7</td>\n",
       "    </tr>\n",
       "  </tbody>\n",
       "</table>\n",
       "</div>"
      ],
      "text/plain": [
       "                                 bikes_on_sidewalk\n",
       "No - I don't bicycle                            80\n",
       "No - I only bicycle on the road                 13\n",
       "Yes                                              7"
      ]
     },
     "execution_count": 8,
     "metadata": {},
     "output_type": "execute_result"
    }
   ],
   "source": [
    "# do people who never bike claim to ride on the sidewalk?\n",
    "df2 = df[ df['bike_freq'].isin(['Rarely or never']) ]\n",
    "df2['bikes_on_sidewalk'].value_counts().to_frame().apply(lambda x: 100 * x / x.sum()).round(0).astype(int).sort_index()\n"
   ]
  },
  {
   "cell_type": "markdown",
   "metadata": {},
   "source": [
    "### People who bike at least occasionally"
   ]
  },
  {
   "cell_type": "code",
   "execution_count": 9,
   "metadata": {},
   "outputs": [
    {
     "data": {
      "text/html": [
       "<div>\n",
       "<style scoped>\n",
       "    .dataframe tbody tr th:only-of-type {\n",
       "        vertical-align: middle;\n",
       "    }\n",
       "\n",
       "    .dataframe tbody tr th {\n",
       "        vertical-align: top;\n",
       "    }\n",
       "\n",
       "    .dataframe thead th {\n",
       "        text-align: right;\n",
       "    }\n",
       "</style>\n",
       "<table border=\"1\" class=\"dataframe\">\n",
       "  <thead>\n",
       "    <tr style=\"text-align: right;\">\n",
       "      <th></th>\n",
       "      <th>bikes_on_sidewalk</th>\n",
       "    </tr>\n",
       "  </thead>\n",
       "  <tbody>\n",
       "    <tr>\n",
       "      <th>No - I don't bicycle</th>\n",
       "      <td>1</td>\n",
       "    </tr>\n",
       "    <tr>\n",
       "      <th>No - I only bicycle on the road</th>\n",
       "      <td>53</td>\n",
       "    </tr>\n",
       "    <tr>\n",
       "      <th>Yes</th>\n",
       "      <td>46</td>\n",
       "    </tr>\n",
       "  </tbody>\n",
       "</table>\n",
       "</div>"
      ],
      "text/plain": [
       "                                 bikes_on_sidewalk\n",
       "No - I don't bicycle                             1\n",
       "No - I only bicycle on the road                 53\n",
       "Yes                                             46"
      ]
     },
     "execution_count": 9,
     "metadata": {},
     "output_type": "execute_result"
    }
   ],
   "source": [
    "# do people who ride a bike occasionally or more ride on the sidewalk?\n",
    "df2 = df[ df['bike_freq'].isin(['Every day, or almost every day', 'Once every few days', 'Once in a while']) ]\n",
    "df2['bikes_on_sidewalk'].value_counts().to_frame().apply(lambda x: 100 * x / x.sum()).round(0).astype(int).sort_index()\n"
   ]
  },
  {
   "cell_type": "markdown",
   "metadata": {},
   "source": [
    "### People who bike a lot"
   ]
  },
  {
   "cell_type": "code",
   "execution_count": 10,
   "metadata": {},
   "outputs": [
    {
     "data": {
      "text/html": [
       "<div>\n",
       "<style scoped>\n",
       "    .dataframe tbody tr th:only-of-type {\n",
       "        vertical-align: middle;\n",
       "    }\n",
       "\n",
       "    .dataframe tbody tr th {\n",
       "        vertical-align: top;\n",
       "    }\n",
       "\n",
       "    .dataframe thead th {\n",
       "        text-align: right;\n",
       "    }\n",
       "</style>\n",
       "<table border=\"1\" class=\"dataframe\">\n",
       "  <thead>\n",
       "    <tr style=\"text-align: right;\">\n",
       "      <th></th>\n",
       "      <th>bikes_on_sidewalk</th>\n",
       "    </tr>\n",
       "  </thead>\n",
       "  <tbody>\n",
       "    <tr>\n",
       "      <th>No - I only bicycle on the road</th>\n",
       "      <td>58</td>\n",
       "    </tr>\n",
       "    <tr>\n",
       "      <th>Yes</th>\n",
       "      <td>42</td>\n",
       "    </tr>\n",
       "  </tbody>\n",
       "</table>\n",
       "</div>"
      ],
      "text/plain": [
       "                                 bikes_on_sidewalk\n",
       "No - I only bicycle on the road                 58\n",
       "Yes                                             42"
      ]
     },
     "execution_count": 10,
     "metadata": {},
     "output_type": "execute_result"
    }
   ],
   "source": [
    "# do people who bike a lot ride on the sidewalk?\n",
    "df2 = df[ df['bike_freq'].isin(['Every day, or almost every day']) ]\n",
    "df2['bikes_on_sidewalk'].value_counts().to_frame().apply(lambda x: 100 * x / x.sum()).round(0).astype(int).sort_index()\n"
   ]
  },
  {
   "cell_type": "markdown",
   "metadata": {},
   "source": [
    "## Who thinks drivers are safe?"
   ]
  },
  {
   "cell_type": "markdown",
   "metadata": {},
   "source": [
    "### Overall"
   ]
  },
  {
   "cell_type": "code",
   "execution_count": 11,
   "metadata": {
    "scrolled": true
   },
   "outputs": [
    {
     "data": {
      "text/html": [
       "<div>\n",
       "<style scoped>\n",
       "    .dataframe tbody tr th:only-of-type {\n",
       "        vertical-align: middle;\n",
       "    }\n",
       "\n",
       "    .dataframe tbody tr th {\n",
       "        vertical-align: top;\n",
       "    }\n",
       "\n",
       "    .dataframe thead th {\n",
       "        text-align: right;\n",
       "    }\n",
       "</style>\n",
       "<table border=\"1\" class=\"dataframe\">\n",
       "  <thead>\n",
       "    <tr style=\"text-align: right;\">\n",
       "      <th></th>\n",
       "      <th>drivers_are_safe</th>\n",
       "    </tr>\n",
       "  </thead>\n",
       "  <tbody>\n",
       "    <tr>\n",
       "      <th>1.0</th>\n",
       "      <td>9</td>\n",
       "    </tr>\n",
       "    <tr>\n",
       "      <th>2.0</th>\n",
       "      <td>30</td>\n",
       "    </tr>\n",
       "    <tr>\n",
       "      <th>3.0</th>\n",
       "      <td>47</td>\n",
       "    </tr>\n",
       "    <tr>\n",
       "      <th>4.0</th>\n",
       "      <td>14</td>\n",
       "    </tr>\n",
       "  </tbody>\n",
       "</table>\n",
       "</div>"
      ],
      "text/plain": [
       "     drivers_are_safe\n",
       "1.0                 9\n",
       "2.0                30\n",
       "3.0                47\n",
       "4.0                14"
      ]
     },
     "execution_count": 11,
     "metadata": {},
     "output_type": "execute_result"
    }
   ],
   "source": [
    "# do people generally think drivers are safe?\n",
    "df['drivers_are_safe'].value_counts().to_frame().apply(lambda x: 100 * x / x.sum()).round(0).astype(int).sort_index()"
   ]
  },
  {
   "cell_type": "markdown",
   "metadata": {},
   "source": [
    "### People who walk a lot"
   ]
  },
  {
   "cell_type": "code",
   "execution_count": 12,
   "metadata": {},
   "outputs": [
    {
     "data": {
      "text/html": [
       "<div>\n",
       "<style scoped>\n",
       "    .dataframe tbody tr th:only-of-type {\n",
       "        vertical-align: middle;\n",
       "    }\n",
       "\n",
       "    .dataframe tbody tr th {\n",
       "        vertical-align: top;\n",
       "    }\n",
       "\n",
       "    .dataframe thead th {\n",
       "        text-align: right;\n",
       "    }\n",
       "</style>\n",
       "<table border=\"1\" class=\"dataframe\">\n",
       "  <thead>\n",
       "    <tr style=\"text-align: right;\">\n",
       "      <th></th>\n",
       "      <th>drivers_are_safe</th>\n",
       "    </tr>\n",
       "  </thead>\n",
       "  <tbody>\n",
       "    <tr>\n",
       "      <th>1.0</th>\n",
       "      <td>11</td>\n",
       "    </tr>\n",
       "    <tr>\n",
       "      <th>2.0</th>\n",
       "      <td>32</td>\n",
       "    </tr>\n",
       "    <tr>\n",
       "      <th>3.0</th>\n",
       "      <td>46</td>\n",
       "    </tr>\n",
       "    <tr>\n",
       "      <th>4.0</th>\n",
       "      <td>10</td>\n",
       "    </tr>\n",
       "  </tbody>\n",
       "</table>\n",
       "</div>"
      ],
      "text/plain": [
       "     drivers_are_safe\n",
       "1.0                11\n",
       "2.0                32\n",
       "3.0                46\n",
       "4.0                10"
      ]
     },
     "execution_count": 12,
     "metadata": {},
     "output_type": "execute_result"
    }
   ],
   "source": [
    "# do people who walk a lot think drivers are safe?\n",
    "df2 = df[ df['walk_freq'].isin(['Every day, or almost every day', 'Once every few days']) ]\n",
    "df2['drivers_are_safe'].value_counts().to_frame().apply(lambda x: 100 * x / x.sum()).round(0).astype(int).sort_index()\n"
   ]
  },
  {
   "cell_type": "markdown",
   "metadata": {},
   "source": [
    "### People who rarely walk"
   ]
  },
  {
   "cell_type": "code",
   "execution_count": 13,
   "metadata": {},
   "outputs": [
    {
     "data": {
      "text/html": [
       "<div>\n",
       "<style scoped>\n",
       "    .dataframe tbody tr th:only-of-type {\n",
       "        vertical-align: middle;\n",
       "    }\n",
       "\n",
       "    .dataframe tbody tr th {\n",
       "        vertical-align: top;\n",
       "    }\n",
       "\n",
       "    .dataframe thead th {\n",
       "        text-align: right;\n",
       "    }\n",
       "</style>\n",
       "<table border=\"1\" class=\"dataframe\">\n",
       "  <thead>\n",
       "    <tr style=\"text-align: right;\">\n",
       "      <th></th>\n",
       "      <th>drivers_are_safe</th>\n",
       "    </tr>\n",
       "  </thead>\n",
       "  <tbody>\n",
       "    <tr>\n",
       "      <th>1.0</th>\n",
       "      <td>6</td>\n",
       "    </tr>\n",
       "    <tr>\n",
       "      <th>2.0</th>\n",
       "      <td>25</td>\n",
       "    </tr>\n",
       "    <tr>\n",
       "      <th>3.0</th>\n",
       "      <td>46</td>\n",
       "    </tr>\n",
       "    <tr>\n",
       "      <th>4.0</th>\n",
       "      <td>22</td>\n",
       "    </tr>\n",
       "  </tbody>\n",
       "</table>\n",
       "</div>"
      ],
      "text/plain": [
       "     drivers_are_safe\n",
       "1.0                 6\n",
       "2.0                25\n",
       "3.0                46\n",
       "4.0                22"
      ]
     },
     "execution_count": 13,
     "metadata": {},
     "output_type": "execute_result"
    }
   ],
   "source": [
    "# do people who rarely walk think drivers are safe?\n",
    "df2 = df[ df['walk_freq'].isin(['Rarely or never', 'Once in a while']) ]\n",
    "df2['drivers_are_safe'].value_counts().to_frame().apply(lambda x: 100 * x / x.sum()).round(0).astype(int).sort_index()\n"
   ]
  },
  {
   "cell_type": "markdown",
   "metadata": {},
   "source": [
    "### People who never walk"
   ]
  },
  {
   "cell_type": "code",
   "execution_count": 14,
   "metadata": {},
   "outputs": [
    {
     "data": {
      "text/html": [
       "<div>\n",
       "<style scoped>\n",
       "    .dataframe tbody tr th:only-of-type {\n",
       "        vertical-align: middle;\n",
       "    }\n",
       "\n",
       "    .dataframe tbody tr th {\n",
       "        vertical-align: top;\n",
       "    }\n",
       "\n",
       "    .dataframe thead th {\n",
       "        text-align: right;\n",
       "    }\n",
       "</style>\n",
       "<table border=\"1\" class=\"dataframe\">\n",
       "  <thead>\n",
       "    <tr style=\"text-align: right;\">\n",
       "      <th></th>\n",
       "      <th>drivers_are_safe</th>\n",
       "    </tr>\n",
       "  </thead>\n",
       "  <tbody>\n",
       "    <tr>\n",
       "      <th>1.0</th>\n",
       "      <td>10</td>\n",
       "    </tr>\n",
       "    <tr>\n",
       "      <th>2.0</th>\n",
       "      <td>22</td>\n",
       "    </tr>\n",
       "    <tr>\n",
       "      <th>3.0</th>\n",
       "      <td>42</td>\n",
       "    </tr>\n",
       "    <tr>\n",
       "      <th>4.0</th>\n",
       "      <td>25</td>\n",
       "    </tr>\n",
       "  </tbody>\n",
       "</table>\n",
       "</div>"
      ],
      "text/plain": [
       "     drivers_are_safe\n",
       "1.0                10\n",
       "2.0                22\n",
       "3.0                42\n",
       "4.0                25"
      ]
     },
     "execution_count": 14,
     "metadata": {},
     "output_type": "execute_result"
    }
   ],
   "source": [
    "# do people who never walk think drivers are safe?\n",
    "df2 = df[ df['walk_freq'].isin(['Rarely or never']) ]\n",
    "df2['drivers_are_safe'].value_counts().to_frame().apply(lambda x: 100 * x / x.sum()).round(0).astype(int).sort_index()\n"
   ]
  },
  {
   "cell_type": "markdown",
   "metadata": {},
   "source": [
    "### People who bike frequently"
   ]
  },
  {
   "cell_type": "code",
   "execution_count": 15,
   "metadata": {},
   "outputs": [
    {
     "data": {
      "text/html": [
       "<div>\n",
       "<style scoped>\n",
       "    .dataframe tbody tr th:only-of-type {\n",
       "        vertical-align: middle;\n",
       "    }\n",
       "\n",
       "    .dataframe tbody tr th {\n",
       "        vertical-align: top;\n",
       "    }\n",
       "\n",
       "    .dataframe thead th {\n",
       "        text-align: right;\n",
       "    }\n",
       "</style>\n",
       "<table border=\"1\" class=\"dataframe\">\n",
       "  <thead>\n",
       "    <tr style=\"text-align: right;\">\n",
       "      <th></th>\n",
       "      <th>drivers_are_safe</th>\n",
       "    </tr>\n",
       "  </thead>\n",
       "  <tbody>\n",
       "    <tr>\n",
       "      <th>1.0</th>\n",
       "      <td>13</td>\n",
       "    </tr>\n",
       "    <tr>\n",
       "      <th>2.0</th>\n",
       "      <td>33</td>\n",
       "    </tr>\n",
       "    <tr>\n",
       "      <th>3.0</th>\n",
       "      <td>47</td>\n",
       "    </tr>\n",
       "    <tr>\n",
       "      <th>4.0</th>\n",
       "      <td>8</td>\n",
       "    </tr>\n",
       "  </tbody>\n",
       "</table>\n",
       "</div>"
      ],
      "text/plain": [
       "     drivers_are_safe\n",
       "1.0                13\n",
       "2.0                33\n",
       "3.0                47\n",
       "4.0                 8"
      ]
     },
     "execution_count": 15,
     "metadata": {},
     "output_type": "execute_result"
    }
   ],
   "source": [
    "# do people who bike a lot think drivers are safe?\n",
    "df2 = df[ df['bike_freq'].isin(['Every day, or almost every day', 'Once every few days']) ]\n",
    "df2['drivers_are_safe'].value_counts().to_frame().apply(lambda x: 100 * x / x.sum()).round(0).astype(int).sort_index()"
   ]
  },
  {
   "cell_type": "markdown",
   "metadata": {},
   "source": [
    "## Who thinks bicyclists are safe?"
   ]
  },
  {
   "cell_type": "markdown",
   "metadata": {},
   "source": [
    "### Overall"
   ]
  },
  {
   "cell_type": "code",
   "execution_count": 16,
   "metadata": {},
   "outputs": [
    {
     "data": {
      "text/html": [
       "<div>\n",
       "<style scoped>\n",
       "    .dataframe tbody tr th:only-of-type {\n",
       "        vertical-align: middle;\n",
       "    }\n",
       "\n",
       "    .dataframe tbody tr th {\n",
       "        vertical-align: top;\n",
       "    }\n",
       "\n",
       "    .dataframe thead th {\n",
       "        text-align: right;\n",
       "    }\n",
       "</style>\n",
       "<table border=\"1\" class=\"dataframe\">\n",
       "  <thead>\n",
       "    <tr style=\"text-align: right;\">\n",
       "      <th></th>\n",
       "      <th>bicyclists_are_safe</th>\n",
       "    </tr>\n",
       "  </thead>\n",
       "  <tbody>\n",
       "    <tr>\n",
       "      <th>1.0</th>\n",
       "      <td>13</td>\n",
       "    </tr>\n",
       "    <tr>\n",
       "      <th>2.0</th>\n",
       "      <td>23</td>\n",
       "    </tr>\n",
       "    <tr>\n",
       "      <th>3.0</th>\n",
       "      <td>49</td>\n",
       "    </tr>\n",
       "    <tr>\n",
       "      <th>4.0</th>\n",
       "      <td>15</td>\n",
       "    </tr>\n",
       "  </tbody>\n",
       "</table>\n",
       "</div>"
      ],
      "text/plain": [
       "     bicyclists_are_safe\n",
       "1.0                   13\n",
       "2.0                   23\n",
       "3.0                   49\n",
       "4.0                   15"
      ]
     },
     "execution_count": 16,
     "metadata": {},
     "output_type": "execute_result"
    }
   ],
   "source": [
    "# do people generally think bicyclists are safe?\n",
    "df['bicyclists_are_safe'].value_counts().to_frame().apply(lambda x: 100 * x / x.sum()).round(0).astype(int).sort_index()\n"
   ]
  },
  {
   "cell_type": "markdown",
   "metadata": {},
   "source": [
    "### People who bike a lot"
   ]
  },
  {
   "cell_type": "code",
   "execution_count": 17,
   "metadata": {},
   "outputs": [
    {
     "data": {
      "text/html": [
       "<div>\n",
       "<style scoped>\n",
       "    .dataframe tbody tr th:only-of-type {\n",
       "        vertical-align: middle;\n",
       "    }\n",
       "\n",
       "    .dataframe tbody tr th {\n",
       "        vertical-align: top;\n",
       "    }\n",
       "\n",
       "    .dataframe thead th {\n",
       "        text-align: right;\n",
       "    }\n",
       "</style>\n",
       "<table border=\"1\" class=\"dataframe\">\n",
       "  <thead>\n",
       "    <tr style=\"text-align: right;\">\n",
       "      <th></th>\n",
       "      <th>bicyclists_are_safe</th>\n",
       "    </tr>\n",
       "  </thead>\n",
       "  <tbody>\n",
       "    <tr>\n",
       "      <th>1.0</th>\n",
       "      <td>5</td>\n",
       "    </tr>\n",
       "    <tr>\n",
       "      <th>2.0</th>\n",
       "      <td>15</td>\n",
       "    </tr>\n",
       "    <tr>\n",
       "      <th>3.0</th>\n",
       "      <td>57</td>\n",
       "    </tr>\n",
       "    <tr>\n",
       "      <th>4.0</th>\n",
       "      <td>24</td>\n",
       "    </tr>\n",
       "  </tbody>\n",
       "</table>\n",
       "</div>"
      ],
      "text/plain": [
       "     bicyclists_are_safe\n",
       "1.0                    5\n",
       "2.0                   15\n",
       "3.0                   57\n",
       "4.0                   24"
      ]
     },
     "execution_count": 17,
     "metadata": {},
     "output_type": "execute_result"
    }
   ],
   "source": [
    "# do people who bike a lot think bicyclists are safe\n",
    "df2 = df[ df['bike_freq'].isin(['Every day, or almost every day', 'Once every few days']) ]\n",
    "df2['bicyclists_are_safe'].value_counts().to_frame().apply(lambda x: 100 * x / x.sum()).round(0).astype(int).sort_index()\n"
   ]
  },
  {
   "cell_type": "markdown",
   "metadata": {},
   "source": [
    "### People who rarely bike"
   ]
  },
  {
   "cell_type": "code",
   "execution_count": 18,
   "metadata": {},
   "outputs": [
    {
     "data": {
      "text/html": [
       "<div>\n",
       "<style scoped>\n",
       "    .dataframe tbody tr th:only-of-type {\n",
       "        vertical-align: middle;\n",
       "    }\n",
       "\n",
       "    .dataframe tbody tr th {\n",
       "        vertical-align: top;\n",
       "    }\n",
       "\n",
       "    .dataframe thead th {\n",
       "        text-align: right;\n",
       "    }\n",
       "</style>\n",
       "<table border=\"1\" class=\"dataframe\">\n",
       "  <thead>\n",
       "    <tr style=\"text-align: right;\">\n",
       "      <th></th>\n",
       "      <th>bicyclists_are_safe</th>\n",
       "    </tr>\n",
       "  </thead>\n",
       "  <tbody>\n",
       "    <tr>\n",
       "      <th>1.0</th>\n",
       "      <td>15</td>\n",
       "    </tr>\n",
       "    <tr>\n",
       "      <th>2.0</th>\n",
       "      <td>25</td>\n",
       "    </tr>\n",
       "    <tr>\n",
       "      <th>3.0</th>\n",
       "      <td>46</td>\n",
       "    </tr>\n",
       "    <tr>\n",
       "      <th>4.0</th>\n",
       "      <td>13</td>\n",
       "    </tr>\n",
       "  </tbody>\n",
       "</table>\n",
       "</div>"
      ],
      "text/plain": [
       "     bicyclists_are_safe\n",
       "1.0                   15\n",
       "2.0                   25\n",
       "3.0                   46\n",
       "4.0                   13"
      ]
     },
     "execution_count": 18,
     "metadata": {},
     "output_type": "execute_result"
    }
   ],
   "source": [
    "# do people who never bike think bicyclists are safe\n",
    "df2 = df[ df['bike_freq'].isin(['Rarely or never', 'Once in a while']) ]\n",
    "df2['bicyclists_are_safe'].value_counts().to_frame().apply(lambda x: 100 * x / x.sum()).round(0).astype(int).sort_index()\n"
   ]
  },
  {
   "cell_type": "code",
   "execution_count": 19,
   "metadata": {},
   "outputs": [
    {
     "data": {
      "text/html": [
       "<div>\n",
       "<style scoped>\n",
       "    .dataframe tbody tr th:only-of-type {\n",
       "        vertical-align: middle;\n",
       "    }\n",
       "\n",
       "    .dataframe tbody tr th {\n",
       "        vertical-align: top;\n",
       "    }\n",
       "\n",
       "    .dataframe thead th {\n",
       "        text-align: right;\n",
       "    }\n",
       "</style>\n",
       "<table border=\"1\" class=\"dataframe\">\n",
       "  <thead>\n",
       "    <tr style=\"text-align: right;\">\n",
       "      <th></th>\n",
       "      <th>drivers_are_safe</th>\n",
       "    </tr>\n",
       "  </thead>\n",
       "  <tbody>\n",
       "    <tr>\n",
       "      <th>1.0</th>\n",
       "      <td>9</td>\n",
       "    </tr>\n",
       "    <tr>\n",
       "      <th>2.0</th>\n",
       "      <td>29</td>\n",
       "    </tr>\n",
       "    <tr>\n",
       "      <th>3.0</th>\n",
       "      <td>47</td>\n",
       "    </tr>\n",
       "    <tr>\n",
       "      <th>4.0</th>\n",
       "      <td>16</td>\n",
       "    </tr>\n",
       "  </tbody>\n",
       "</table>\n",
       "</div>"
      ],
      "text/plain": [
       "     drivers_are_safe\n",
       "1.0                 9\n",
       "2.0                29\n",
       "3.0                47\n",
       "4.0                16"
      ]
     },
     "execution_count": 19,
     "metadata": {},
     "output_type": "execute_result"
    }
   ],
   "source": [
    "# do people who never bike think drivers are safe?\n",
    "df2 = df[ df['bike_freq'].isin(['Rarely or never', 'Once in a while']) ]\n",
    "df2['drivers_are_safe'].value_counts().to_frame().apply(lambda x: 100 * x / x.sum()).round(0).astype(int).sort_index()\n"
   ]
  },
  {
   "cell_type": "code",
   "execution_count": 20,
   "metadata": {},
   "outputs": [
    {
     "data": {
      "text/plain": [
       "Once every few days    2\n",
       "Once in a while        2\n",
       "Rarely or never        1\n",
       "Name: walk_freq, dtype: int64"
      ]
     },
     "execution_count": 20,
     "metadata": {},
     "output_type": "execute_result"
    }
   ],
   "source": [
    "df[df['demographic'] == 'College kid']['walk_freq'].value_counts().sort_index()"
   ]
  },
  {
   "cell_type": "markdown",
   "metadata": {},
   "source": [
    "## Additional breakdowns"
   ]
  },
  {
   "cell_type": "code",
   "execution_count": 37,
   "metadata": {
    "scrolled": false
   },
   "outputs": [
    {
     "data": {
      "text/markdown": [
       "## *Child_Bus_Freq* (As % Of 193 Respondents):"
      ],
      "text/plain": [
       "<IPython.core.display.Markdown object>"
      ]
     },
     "metadata": {},
     "output_type": "display_data"
    },
    {
     "data": {
      "text/markdown": [
       "### By Demographic:"
      ],
      "text/plain": [
       "<IPython.core.display.Markdown object>"
      ]
     },
     "metadata": {},
     "output_type": "display_data"
    },
    {
     "name": "stdout",
     "output_type": "stream",
     "text": [
      "                                overall  Adult with school kid  \\\n",
      "Every day, or almost every day       48                     48   \n",
      "Rarely or never                      41                     41   \n",
      "Once in a while                       5                      5   \n",
      "Once every few days                   3                      3   \n",
      "\n",
      "                                Adult without school kid  Senior  College kid  \\\n",
      "Every day, or almost every day                       NaN     NaN          NaN   \n",
      "Rarely or never                                      NaN     NaN          NaN   \n",
      "Once in a while                                      NaN     NaN          NaN   \n",
      "Once every few days                                  NaN     NaN          NaN   \n",
      "\n",
      "                                High School kid  Middle School kid  \n",
      "Every day, or almost every day              NaN                NaN  \n",
      "Rarely or never                             NaN                NaN  \n",
      "Once in a while                             NaN                NaN  \n",
      "Once every few days                         NaN                NaN  \n"
     ]
    },
    {
     "data": {
      "text/markdown": [
       "### By Neighborhood:"
      ],
      "text/plain": [
       "<IPython.core.display.Markdown object>"
      ]
     },
     "metadata": {},
     "output_type": "display_data"
    },
    {
     "name": "stdout",
     "output_type": "stream",
     "text": [
      "                                overall  Harmon  Upper Village  \\\n",
      "Every day, or almost every day       48      41           46.0   \n",
      "Once every few days                   3       6            NaN   \n",
      "Once in a while                       5       8            6.0   \n",
      "Rarely or never                      41      43           46.0   \n",
      "\n",
      "                                Old Post Road North  Mount Airy  Sunset Park  \\\n",
      "Every day, or almost every day                   54          65         44.0   \n",
      "Once every few days                               6           3          NaN   \n",
      "Once in a while                                   3           7          NaN   \n",
      "Rarely or never                                  35          23         55.0   \n",
      "\n",
      "                                Albany Post Road  Half Moon Bay  Quaker Ridge  \\\n",
      "Every day, or almost every day              50.0          100.0           NaN   \n",
      "Once every few days                          NaN            NaN           NaN   \n",
      "Once in a while                              NaN            NaN           NaN   \n",
      "Rarely or never                             50.0            NaN         100.0   \n",
      "\n",
      "                                Cortlandt  Ossining  \n",
      "Every day, or almost every day      100.0       NaN  \n",
      "Once every few days                   NaN       NaN  \n",
      "Once in a while                       NaN       NaN  \n",
      "Rarely or never                       NaN       NaN  \n"
     ]
    },
    {
     "data": {
      "text/markdown": [
       "## *Child_Walk_Freq* (As % Of 194 Respondents):"
      ],
      "text/plain": [
       "<IPython.core.display.Markdown object>"
      ]
     },
     "metadata": {},
     "output_type": "display_data"
    },
    {
     "data": {
      "text/markdown": [
       "### By Demographic:"
      ],
      "text/plain": [
       "<IPython.core.display.Markdown object>"
      ]
     },
     "metadata": {},
     "output_type": "display_data"
    },
    {
     "name": "stdout",
     "output_type": "stream",
     "text": [
      "                                             overall  Adult with school kid  \\\n",
      "Rarely or never - my children are too young       25                     25   \n",
      "Rarely or never - for other reasons               23                     23   \n",
      "Every day, or almost every day                    23                     23   \n",
      "Once in a while                                   19                     19   \n",
      "Once every few days                                8                      8   \n",
      "\n",
      "                                             Adult without school kid  Senior  \\\n",
      "Rarely or never - my children are too young                       NaN     NaN   \n",
      "Rarely or never - for other reasons                               NaN     NaN   \n",
      "Every day, or almost every day                                    NaN     NaN   \n",
      "Once in a while                                                   NaN     NaN   \n",
      "Once every few days                                               NaN     NaN   \n",
      "\n",
      "                                             College kid  High School kid  \\\n",
      "Rarely or never - my children are too young          NaN              NaN   \n",
      "Rarely or never - for other reasons                  NaN              NaN   \n",
      "Every day, or almost every day                       NaN              NaN   \n",
      "Once in a while                                      NaN              NaN   \n",
      "Once every few days                                  NaN              NaN   \n",
      "\n",
      "                                             Middle School kid  \n",
      "Rarely or never - my children are too young                NaN  \n",
      "Rarely or never - for other reasons                        NaN  \n",
      "Every day, or almost every day                             NaN  \n",
      "Once in a while                                            NaN  \n",
      "Once every few days                                        NaN  \n"
     ]
    },
    {
     "data": {
      "text/markdown": [
       "### By Neighborhood:"
      ],
      "text/plain": [
       "<IPython.core.display.Markdown object>"
      ]
     },
     "metadata": {},
     "output_type": "display_data"
    },
    {
     "name": "stdout",
     "output_type": "stream",
     "text": [
      "                                             overall  Harmon  Upper Village  \\\n",
      "Every day, or almost every day                    23      23             36   \n",
      "Once every few days                                8      10             11   \n",
      "Once in a while                                   19      25             11   \n",
      "Rarely or never - for other reasons               23      15              9   \n",
      "Rarely or never - my children are too young       25      26             31   \n",
      "\n",
      "                                             Old Post Road North  Mount Airy  \\\n",
      "Every day, or almost every day                                22         NaN   \n",
      "Once every few days                                            9         3.0   \n",
      "Once in a while                                               22        23.0   \n",
      "Rarely or never - for other reasons                           25        69.0   \n",
      "Rarely or never - my children are too young                   19         3.0   \n",
      "\n",
      "                                             Sunset Park  Albany Post Road  \\\n",
      "Every day, or almost every day                      38.0               NaN   \n",
      "Once every few days                                  NaN              33.0   \n",
      "Once in a while                                     22.0               NaN   \n",
      "Rarely or never - for other reasons                  5.0              66.0   \n",
      "Rarely or never - my children are too young         33.0               NaN   \n",
      "\n",
      "                                             Half Moon Bay  Quaker Ridge  \\\n",
      "Every day, or almost every day                         NaN           NaN   \n",
      "Once every few days                                    NaN           NaN   \n",
      "Once in a while                                        NaN          25.0   \n",
      "Rarely or never - for other reasons                    NaN           NaN   \n",
      "Rarely or never - my children are too young          100.0          75.0   \n",
      "\n",
      "                                             Cortlandt  Ossining  \n",
      "Every day, or almost every day                     NaN       NaN  \n",
      "Once every few days                                NaN       NaN  \n",
      "Once in a while                                    NaN       NaN  \n",
      "Rarely or never - for other reasons               50.0       NaN  \n",
      "Rarely or never - my children are too young       50.0       NaN  \n"
     ]
    },
    {
     "data": {
      "text/markdown": [
       "## *Child_Driven_Freq* (As % Of 194 Respondents):"
      ],
      "text/plain": [
       "<IPython.core.display.Markdown object>"
      ]
     },
     "metadata": {},
     "output_type": "display_data"
    },
    {
     "data": {
      "text/markdown": [
       "### By Demographic:"
      ],
      "text/plain": [
       "<IPython.core.display.Markdown object>"
      ]
     },
     "metadata": {},
     "output_type": "display_data"
    },
    {
     "name": "stdout",
     "output_type": "stream",
     "text": [
      "                                overall  Adult with school kid  \\\n",
      "Rarely or never                      36                     36   \n",
      "Every day, or almost every day       27                     27   \n",
      "Once in a while                      19                     19   \n",
      "Once every few days                  16                     16   \n",
      "\n",
      "                                Adult without school kid  Senior  College kid  \\\n",
      "Rarely or never                                      NaN     NaN          NaN   \n",
      "Every day, or almost every day                       NaN     NaN          NaN   \n",
      "Once in a while                                      NaN     NaN          NaN   \n",
      "Once every few days                                  NaN     NaN          NaN   \n",
      "\n",
      "                                High School kid  Middle School kid  \n",
      "Rarely or never                             NaN                NaN  \n",
      "Every day, or almost every day              NaN                NaN  \n",
      "Once in a while                             NaN                NaN  \n",
      "Once every few days                         NaN                NaN  \n"
     ]
    },
    {
     "data": {
      "text/markdown": [
       "### By Neighborhood:"
      ],
      "text/plain": [
       "<IPython.core.display.Markdown object>"
      ]
     },
     "metadata": {},
     "output_type": "display_data"
    },
    {
     "name": "stdout",
     "output_type": "stream",
     "text": [
      "                                overall  Harmon  Upper Village  \\\n",
      "Every day, or almost every day       27      31             22   \n",
      "Once every few days                  16      10             15   \n",
      "Once in a while                      19      18             18   \n",
      "Rarely or never                      36      40             43   \n",
      "\n",
      "                                Old Post Road North  Mount Airy  Sunset Park  \\\n",
      "Every day, or almost every day                   32          23         33.0   \n",
      "Once every few days                              16          15         33.0   \n",
      "Once in a while                                  25          26          NaN   \n",
      "Rarely or never                                  25          34         33.0   \n",
      "\n",
      "                                Albany Post Road  Half Moon Bay  Quaker Ridge  \\\n",
      "Every day, or almost every day                16            NaN          50.0   \n",
      "Once every few days                           33            NaN          50.0   \n",
      "Once in a while                               16            NaN           NaN   \n",
      "Rarely or never                               33          100.0           NaN   \n",
      "\n",
      "                                Cortlandt  Ossining  \n",
      "Every day, or almost every day        NaN       NaN  \n",
      "Once every few days                   NaN       NaN  \n",
      "Once in a while                     100.0       NaN  \n",
      "Rarely or never                       NaN       NaN  \n"
     ]
    },
    {
     "data": {
      "text/markdown": [
       "## *Child_Drive_Freq* (As % Of 193 Respondents):"
      ],
      "text/plain": [
       "<IPython.core.display.Markdown object>"
      ]
     },
     "metadata": {},
     "output_type": "display_data"
    },
    {
     "data": {
      "text/markdown": [
       "### By Demographic:"
      ],
      "text/plain": [
       "<IPython.core.display.Markdown object>"
      ]
     },
     "metadata": {},
     "output_type": "display_data"
    },
    {
     "name": "stdout",
     "output_type": "stream",
     "text": [
      "                                             overall  Adult with school kid  \\\n",
      "Rarely or never - my children are too young       74                     74   \n",
      "Rarely or never - for other reasons               18                     18   \n",
      "Once every few days                                3                      3   \n",
      "Every day, or almost every day                     2                      2   \n",
      "Once in a while                                    2                      2   \n",
      "\n",
      "                                             Adult without school kid  Senior  \\\n",
      "Rarely or never - my children are too young                       NaN     NaN   \n",
      "Rarely or never - for other reasons                               NaN     NaN   \n",
      "Once every few days                                               NaN     NaN   \n",
      "Every day, or almost every day                                    NaN     NaN   \n",
      "Once in a while                                                   NaN     NaN   \n",
      "\n",
      "                                             College kid  High School kid  \\\n",
      "Rarely or never - my children are too young          NaN              NaN   \n",
      "Rarely or never - for other reasons                  NaN              NaN   \n",
      "Once every few days                                  NaN              NaN   \n",
      "Every day, or almost every day                       NaN              NaN   \n",
      "Once in a while                                      NaN              NaN   \n",
      "\n",
      "                                             Middle School kid  \n",
      "Rarely or never - my children are too young                NaN  \n",
      "Rarely or never - for other reasons                        NaN  \n",
      "Once every few days                                        NaN  \n",
      "Every day, or almost every day                             NaN  \n",
      "Once in a while                                            NaN  \n"
     ]
    },
    {
     "data": {
      "text/markdown": [
       "### By Neighborhood:"
      ],
      "text/plain": [
       "<IPython.core.display.Markdown object>"
      ]
     },
     "metadata": {},
     "output_type": "display_data"
    },
    {
     "name": "stdout",
     "output_type": "stream",
     "text": [
      "                                             overall  Harmon  Upper Village  \\\n",
      "Every day, or almost every day                     2       1            NaN   \n",
      "Once every few days                                3       1            NaN   \n",
      "Once in a while                                    2       1            2.0   \n",
      "Rarely or never - for other reasons               18      23           18.0   \n",
      "Rarely or never - my children are too young       74      71           79.0   \n",
      "\n",
      "                                             Old Post Road North  Mount Airy  \\\n",
      "Every day, or almost every day                                 3           7   \n",
      "Once every few days                                            3           7   \n",
      "Once in a while                                                3           3   \n",
      "Rarely or never - for other reasons                           16           7   \n",
      "Rarely or never - my children are too young                   73          73   \n",
      "\n",
      "                                             Sunset Park  Albany Post Road  \\\n",
      "Every day, or almost every day                       NaN               NaN   \n",
      "Once every few days                                  NaN              33.0   \n",
      "Once in a while                                      NaN               NaN   \n",
      "Rarely or never - for other reasons                 27.0              16.0   \n",
      "Rarely or never - my children are too young         72.0              50.0   \n",
      "\n",
      "                                             Half Moon Bay  Quaker Ridge  \\\n",
      "Every day, or almost every day                         NaN           NaN   \n",
      "Once every few days                                    NaN           NaN   \n",
      "Once in a while                                        NaN           NaN   \n",
      "Rarely or never - for other reasons                    NaN           NaN   \n",
      "Rarely or never - my children are too young          100.0         100.0   \n",
      "\n",
      "                                             Cortlandt  Ossining  \n",
      "Every day, or almost every day                     NaN       NaN  \n",
      "Once every few days                                NaN       NaN  \n",
      "Once in a while                                    NaN       NaN  \n",
      "Rarely or never - for other reasons                NaN       NaN  \n",
      "Rarely or never - my children are too young      100.0       NaN  \n"
     ]
    },
    {
     "data": {
      "text/markdown": [
       "## *Child_Bike_Freq* (As % Of 192 Respondents):"
      ],
      "text/plain": [
       "<IPython.core.display.Markdown object>"
      ]
     },
     "metadata": {},
     "output_type": "display_data"
    },
    {
     "data": {
      "text/markdown": [
       "### By Demographic:"
      ],
      "text/plain": [
       "<IPython.core.display.Markdown object>"
      ]
     },
     "metadata": {},
     "output_type": "display_data"
    },
    {
     "name": "stdout",
     "output_type": "stream",
     "text": [
      "                                             overall  Adult with school kid  \\\n",
      "Rarely or never - for other reasons               53                     53   \n",
      "Rarely or never - my children are too young       36                     36   \n",
      "Once in a while                                    8                      8   \n",
      "Once every few days                                1                      1   \n",
      "Every day, or almost every day                     0                      0   \n",
      "\n",
      "                                             Adult without school kid  Senior  \\\n",
      "Rarely or never - for other reasons                               NaN     NaN   \n",
      "Rarely or never - my children are too young                       NaN     NaN   \n",
      "Once in a while                                                   NaN     NaN   \n",
      "Once every few days                                               NaN     NaN   \n",
      "Every day, or almost every day                                    NaN     NaN   \n",
      "\n",
      "                                             College kid  High School kid  \\\n",
      "Rarely or never - for other reasons                  NaN              NaN   \n",
      "Rarely or never - my children are too young          NaN              NaN   \n",
      "Once in a while                                      NaN              NaN   \n",
      "Once every few days                                  NaN              NaN   \n",
      "Every day, or almost every day                       NaN              NaN   \n",
      "\n",
      "                                             Middle School kid  \n",
      "Rarely or never - for other reasons                        NaN  \n",
      "Rarely or never - my children are too young                NaN  \n",
      "Once in a while                                            NaN  \n",
      "Once every few days                                        NaN  \n",
      "Every day, or almost every day                             NaN  \n"
     ]
    },
    {
     "data": {
      "text/markdown": [
       "### By Neighborhood:"
      ],
      "text/plain": [
       "<IPython.core.display.Markdown object>"
      ]
     },
     "metadata": {},
     "output_type": "display_data"
    },
    {
     "name": "stdout",
     "output_type": "stream",
     "text": [
      "                                             overall  Harmon  Upper Village  \\\n",
      "Every day, or almost every day                     0     1.0            NaN   \n",
      "Once every few days                                1     NaN            2.0   \n",
      "Once in a while                                    8    11.0            9.0   \n",
      "Rarely or never - for other reasons               53    48.0           40.0   \n",
      "Rarely or never - my children are too young       36    38.0           47.0   \n",
      "\n",
      "                                             Old Post Road North  Mount Airy  \\\n",
      "Every day, or almost every day                               NaN         NaN   \n",
      "Once every few days                                          NaN         NaN   \n",
      "Once in a while                                              9.0         NaN   \n",
      "Rarely or never - for other reasons                         61.0        80.0   \n",
      "Rarely or never - my children are too young                 29.0        19.0   \n",
      "\n",
      "                                             Sunset Park  Albany Post Road  \\\n",
      "Every day, or almost every day                       NaN               NaN   \n",
      "Once every few days                                  5.0               NaN   \n",
      "Once in a while                                     11.0               NaN   \n",
      "Rarely or never - for other reasons                 38.0             100.0   \n",
      "Rarely or never - my children are too young         44.0               NaN   \n",
      "\n",
      "                                             Half Moon Bay  Quaker Ridge  \\\n",
      "Every day, or almost every day                         NaN           NaN   \n",
      "Once every few days                                    NaN           NaN   \n",
      "Once in a while                                        NaN           NaN   \n",
      "Rarely or never - for other reasons                  100.0          25.0   \n",
      "Rarely or never - my children are too young            NaN          75.0   \n",
      "\n",
      "                                             Cortlandt  Ossining  \n",
      "Every day, or almost every day                     NaN       NaN  \n",
      "Once every few days                                NaN       NaN  \n",
      "Once in a while                                    NaN       NaN  \n",
      "Rarely or never - for other reasons               50.0       NaN  \n",
      "Rarely or never - my children are too young       50.0       NaN  \n"
     ]
    },
    {
     "data": {
      "text/markdown": [
       "## *Walk_Freq* (As % Of 479 Respondents):"
      ],
      "text/plain": [
       "<IPython.core.display.Markdown object>"
      ]
     },
     "metadata": {},
     "output_type": "display_data"
    },
    {
     "data": {
      "text/markdown": [
       "### By Demographic:"
      ],
      "text/plain": [
       "<IPython.core.display.Markdown object>"
      ]
     },
     "metadata": {},
     "output_type": "display_data"
    },
    {
     "name": "stdout",
     "output_type": "stream",
     "text": [
      "                                overall  Adult with school kid  \\\n",
      "Every day, or almost every day       35                     32   \n",
      "Once every few days                  32                     36   \n",
      "Once in a while                      24                     26   \n",
      "Rarely or never                       8                      5   \n",
      "\n",
      "                                Adult without school kid  Senior  College kid  \\\n",
      "Every day, or almost every day                        36      39          NaN   \n",
      "Once every few days                                   34      23         40.0   \n",
      "Once in a while                                       20      25         40.0   \n",
      "Rarely or never                                        8      11         20.0   \n",
      "\n",
      "                                High School kid  Middle School kid  \n",
      "Every day, or almost every day              NaN                NaN  \n",
      "Once every few days                         NaN                NaN  \n",
      "Once in a while                             NaN                NaN  \n",
      "Rarely or never                             NaN                NaN  \n"
     ]
    },
    {
     "data": {
      "text/markdown": [
       "### By Neighborhood:"
      ],
      "text/plain": [
       "<IPython.core.display.Markdown object>"
      ]
     },
     "metadata": {},
     "output_type": "display_data"
    },
    {
     "name": "stdout",
     "output_type": "stream",
     "text": [
      "                                overall  Harmon  Upper Village  \\\n",
      "Every day, or almost every day       35      44             40   \n",
      "Once every few days                  32      30             33   \n",
      "Once in a while                      24      19             19   \n",
      "Rarely or never                       8       5              6   \n",
      "\n",
      "                                Old Post Road North  Mount Airy  Sunset Park  \\\n",
      "Every day, or almost every day                   22          17           33   \n",
      "Once every few days                              37          30           28   \n",
      "Once in a while                                  27          36           28   \n",
      "Rarely or never                                  12          15           10   \n",
      "\n",
      "                                Albany Post Road  Half Moon Bay  Quaker Ridge  \\\n",
      "Every day, or almost every day                24           55.0            11   \n",
      "Once every few days                           27           38.0            44   \n",
      "Once in a while                               37            5.0            22   \n",
      "Rarely or never                               10            NaN            22   \n",
      "\n",
      "                                Cortlandt  Ossining  \n",
      "Every day, or almost every day       28.0       NaN  \n",
      "Once every few days                  28.0       NaN  \n",
      "Once in a while                      42.0     100.0  \n",
      "Rarely or never                       NaN       NaN  \n"
     ]
    },
    {
     "data": {
      "text/markdown": [
       "## *Bike_Freq* (As % Of 479 Respondents):"
      ],
      "text/plain": [
       "<IPython.core.display.Markdown object>"
      ]
     },
     "metadata": {},
     "output_type": "display_data"
    },
    {
     "data": {
      "text/markdown": [
       "### By Demographic:"
      ],
      "text/plain": [
       "<IPython.core.display.Markdown object>"
      ]
     },
     "metadata": {},
     "output_type": "display_data"
    },
    {
     "name": "stdout",
     "output_type": "stream",
     "text": [
      "                                overall  Adult with school kid  \\\n",
      "Every day, or almost every day        5                      7   \n",
      "Once every few days                  13                     12   \n",
      "Once in a while                      21                     25   \n",
      "Rarely or never                      59                     54   \n",
      "\n",
      "                                Adult without school kid  Senior  College kid  \\\n",
      "Every day, or almost every day                         4       3           20   \n",
      "Once every few days                                   14      14           20   \n",
      "Once in a while                                       24      11           40   \n",
      "Rarely or never                                       56      70           20   \n",
      "\n",
      "                                High School kid  Middle School kid  \n",
      "Every day, or almost every day              NaN                NaN  \n",
      "Once every few days                         NaN                NaN  \n",
      "Once in a while                             NaN                NaN  \n",
      "Rarely or never                             NaN                NaN  \n"
     ]
    },
    {
     "data": {
      "text/markdown": [
       "### By Neighborhood:"
      ],
      "text/plain": [
       "<IPython.core.display.Markdown object>"
      ]
     },
     "metadata": {},
     "output_type": "display_data"
    },
    {
     "name": "stdout",
     "output_type": "stream",
     "text": [
      "                                overall  Harmon  Upper Village  \\\n",
      "Every day, or almost every day        5       6              4   \n",
      "Once every few days                  13      13             14   \n",
      "Once in a while                      21      25             20   \n",
      "Rarely or never                      59      54             60   \n",
      "\n",
      "                                Old Post Road North  Mount Airy  Sunset Park  \\\n",
      "Every day, or almost every day                    6           3           10   \n",
      "Once every few days                              13          11           20   \n",
      "Once in a while                                  18          24           17   \n",
      "Rarely or never                                  62          61           51   \n",
      "\n",
      "                                Albany Post Road  Half Moon Bay  Quaker Ridge  \\\n",
      "Every day, or almost every day               NaN             11          11.0   \n",
      "Once every few days                          7.0             33           NaN   \n",
      "Once in a while                             17.0             16          22.0   \n",
      "Rarely or never                             75.0             38          66.0   \n",
      "\n",
      "                                Cortlandt  Ossining  \n",
      "Every day, or almost every day        NaN       NaN  \n",
      "Once every few days                   NaN       NaN  \n",
      "Once in a while                      14.0     100.0  \n",
      "Rarely or never                      85.0       NaN  \n"
     ]
    },
    {
     "data": {
      "text/markdown": [
       "## *Bikes_On_Sidewalk* (As % Of 472 Respondents):"
      ],
      "text/plain": [
       "<IPython.core.display.Markdown object>"
      ]
     },
     "metadata": {},
     "output_type": "display_data"
    },
    {
     "data": {
      "text/markdown": [
       "### By Demographic:"
      ],
      "text/plain": [
       "<IPython.core.display.Markdown object>"
      ]
     },
     "metadata": {},
     "output_type": "display_data"
    },
    {
     "name": "stdout",
     "output_type": "stream",
     "text": [
      "                                 overall  Adult with school kid  \\\n",
      "No - I don't bicycle                  48                     40   \n",
      "No - I only bicycle on the road       28                     28   \n",
      "Yes                                   22                     30   \n",
      "\n",
      "                                 Adult without school kid  Senior  \\\n",
      "No - I don't bicycle                                   48      62   \n",
      "No - I only bicycle on the road                        29      27   \n",
      "Yes                                                    22      10   \n",
      "\n",
      "                                 College kid  High School kid  \\\n",
      "No - I don't bicycle                     NaN              NaN   \n",
      "No - I only bicycle on the road         60.0              NaN   \n",
      "Yes                                     40.0              NaN   \n",
      "\n",
      "                                 Middle School kid  \n",
      "No - I don't bicycle                           NaN  \n",
      "No - I only bicycle on the road                NaN  \n",
      "Yes                                            NaN  \n"
     ]
    },
    {
     "data": {
      "text/markdown": [
       "### By Neighborhood:"
      ],
      "text/plain": [
       "<IPython.core.display.Markdown object>"
      ]
     },
     "metadata": {},
     "output_type": "display_data"
    },
    {
     "name": "stdout",
     "output_type": "stream",
     "text": [
      "                                 overall  Harmon  Upper Village  \\\n",
      "No - I don't bicycle                  48      44             55   \n",
      "No - I only bicycle on the road       28      29             20   \n",
      "Yes                                   22      25             23   \n",
      "\n",
      "                                 Old Post Road North  Mount Airy  Sunset Park  \\\n",
      "No - I don't bicycle                              46          48           38   \n",
      "No - I only bicycle on the road                   28          38           41   \n",
      "Yes                                               25          14           20   \n",
      "\n",
      "                                 Albany Post Road  Half Moon Bay  \\\n",
      "No - I don't bicycle                           64             33   \n",
      "No - I only bicycle on the road                14             50   \n",
      "Yes                                            21             16   \n",
      "\n",
      "                                 Quaker Ridge  Cortlandt  Ossining  \n",
      "No - I don't bicycle                       44         71       NaN  \n",
      "No - I only bicycle on the road            44         14       NaN  \n",
      "Yes                                        11         14     100.0  \n"
     ]
    },
    {
     "data": {
      "text/markdown": [
       "## *Self_Jog_Frequency* (As % Of 479 Respondents):"
      ],
      "text/plain": [
       "<IPython.core.display.Markdown object>"
      ]
     },
     "metadata": {},
     "output_type": "display_data"
    },
    {
     "data": {
      "text/markdown": [
       "### By Demographic:"
      ],
      "text/plain": [
       "<IPython.core.display.Markdown object>"
      ]
     },
     "metadata": {},
     "output_type": "display_data"
    },
    {
     "name": "stdout",
     "output_type": "stream",
     "text": [
      "                                overall  Adult with school kid  \\\n",
      "Every day, or almost every day        4                      4   \n",
      "Once every few days                  12                     19   \n",
      "Once in a while                      16                     25   \n",
      "Rarely or never                      65                     50   \n",
      "\n",
      "                                Adult without school kid  Senior  College kid  \\\n",
      "Every day, or almost every day                         5       3         20.0   \n",
      "Once every few days                                   10       4          NaN   \n",
      "Once in a while                                       15       3         20.0   \n",
      "Rarely or never                                       67      88         60.0   \n",
      "\n",
      "                                High School kid  Middle School kid  \n",
      "Every day, or almost every day              NaN                NaN  \n",
      "Once every few days                         NaN                NaN  \n",
      "Once in a while                             NaN                NaN  \n",
      "Rarely or never                             NaN                NaN  \n"
     ]
    },
    {
     "data": {
      "text/markdown": [
       "### By Neighborhood:"
      ],
      "text/plain": [
       "<IPython.core.display.Markdown object>"
      ]
     },
     "metadata": {},
     "output_type": "display_data"
    },
    {
     "name": "stdout",
     "output_type": "stream",
     "text": [
      "                                overall  Harmon  Upper Village  \\\n",
      "Every day, or almost every day        4       8              3   \n",
      "Once every few days                  12      12             11   \n",
      "Once in a while                      16      14             20   \n",
      "Rarely or never                      65      64             64   \n",
      "\n",
      "                                Old Post Road North  Mount Airy  Sunset Park  \\\n",
      "Every day, or almost every day                    4           3          NaN   \n",
      "Once every few days                              15           9         30.0   \n",
      "Once in a while                                  21          14         20.0   \n",
      "Rarely or never                                  59          72         48.0   \n",
      "\n",
      "                                Albany Post Road  Half Moon Bay  Quaker Ridge  \\\n",
      "Every day, or almost every day               NaN            NaN          11.0   \n",
      "Once every few days                          7.0            5.0          11.0   \n",
      "Once in a while                             10.0            5.0           NaN   \n",
      "Rarely or never                             82.0           88.0          77.0   \n",
      "\n",
      "                                Cortlandt  Ossining  \n",
      "Every day, or almost every day       14.0       NaN  \n",
      "Once every few days                   NaN       NaN  \n",
      "Once in a while                      14.0       NaN  \n",
      "Rarely or never                      71.0     100.0  \n"
     ]
    },
    {
     "data": {
      "text/markdown": [
       "## *Commutes* (As % Of 479 Respondents):"
      ],
      "text/plain": [
       "<IPython.core.display.Markdown object>"
      ]
     },
     "metadata": {},
     "output_type": "display_data"
    },
    {
     "data": {
      "text/markdown": [
       "### By Demographic:"
      ],
      "text/plain": [
       "<IPython.core.display.Markdown object>"
      ]
     },
     "metadata": {},
     "output_type": "display_data"
    },
    {
     "name": "stdout",
     "output_type": "stream",
     "text": [
      "                              overall  Adult with school kid  \\\n",
      "No                                 37                     21   \n",
      "Yes                                 1                      1   \n",
      "Yes - I commute daily              48                     62   \n",
      "Yes - I occasionally commute       12                     13   \n",
      "\n",
      "                              Adult without school kid  Senior  College kid  \\\n",
      "No                                                  19    85.0         20.0   \n",
      "Yes                                                  1     NaN          NaN   \n",
      "Yes - I commute daily                               64     7.0         80.0   \n",
      "Yes - I occasionally commute                        14     7.0          NaN   \n",
      "\n",
      "                              High School kid  Middle School kid  \n",
      "No                                        NaN                NaN  \n",
      "Yes                                       NaN                NaN  \n",
      "Yes - I commute daily                     NaN                NaN  \n",
      "Yes - I occasionally commute              NaN                NaN  \n"
     ]
    },
    {
     "data": {
      "text/markdown": [
       "### By Neighborhood:"
      ],
      "text/plain": [
       "<IPython.core.display.Markdown object>"
      ]
     },
     "metadata": {},
     "output_type": "display_data"
    },
    {
     "name": "stdout",
     "output_type": "stream",
     "text": [
      "                              overall  Harmon  Upper Village  \\\n",
      "No                                 37      39           35.0   \n",
      "Yes                                 1       2            NaN   \n",
      "Yes - I commute daily              48      45           50.0   \n",
      "Yes - I occasionally commute       12      13           14.0   \n",
      "\n",
      "                              Old Post Road North  Mount Airy  Sunset Park  \\\n",
      "No                                             33        38.0         30.0   \n",
      "Yes                                             3         NaN          NaN   \n",
      "Yes - I commute daily                          50        44.0         64.0   \n",
      "Yes - I occasionally commute                   12        16.0          5.0   \n",
      "\n",
      "                              Albany Post Road  Half Moon Bay  Quaker Ridge  \\\n",
      "No                                        50.0           61.0          33.0   \n",
      "Yes                                        NaN            NaN           NaN   \n",
      "Yes - I commute daily                     39.0           38.0          55.0   \n",
      "Yes - I occasionally commute              10.0            NaN          11.0   \n",
      "\n",
      "                              Cortlandt  Ossining  \n",
      "No                                 57.0       NaN  \n",
      "Yes                                 NaN       NaN  \n",
      "Yes - I commute daily              42.0     100.0  \n",
      "Yes - I occasionally commute        NaN       NaN  \n"
     ]
    },
    {
     "data": {
      "text/markdown": [
       "## *Child_Self_School* (As % Of 4 Respondents):"
      ],
      "text/plain": [
       "<IPython.core.display.Markdown object>"
      ]
     },
     "metadata": {},
     "output_type": "display_data"
    },
    {
     "data": {
      "text/markdown": [
       "### By Demographic:"
      ],
      "text/plain": [
       "<IPython.core.display.Markdown object>"
      ]
     },
     "metadata": {},
     "output_type": "display_data"
    },
    {
     "name": "stdout",
     "output_type": "stream",
     "text": [
      "      overall  Adult with school kid  Adult without school kid  Senior  \\\n",
      "CHHS       75                    NaN                       NaN     NaN   \n",
      "PVC        25                    NaN                       NaN     NaN   \n",
      "\n",
      "      College kid  High School kid  Middle School kid  \n",
      "CHHS          NaN            100.0                NaN  \n",
      "PVC           NaN              NaN              100.0  \n"
     ]
    },
    {
     "data": {
      "text/markdown": [
       "### By Neighborhood:"
      ],
      "text/plain": [
       "<IPython.core.display.Markdown object>"
      ]
     },
     "metadata": {},
     "output_type": "display_data"
    },
    {
     "name": "stdout",
     "output_type": "stream",
     "text": [
      "      overall  Harmon  Upper Village  Old Post Road North  Mount Airy  \\\n",
      "CHHS       75      66            NaN                  NaN       100.0   \n",
      "PVC        25      33            NaN                  NaN         NaN   \n",
      "\n",
      "      Sunset Park  Albany Post Road  Half Moon Bay  Quaker Ridge  Cortlandt  \\\n",
      "CHHS          NaN               NaN            NaN           NaN        NaN   \n",
      "PVC           NaN               NaN            NaN           NaN        NaN   \n",
      "\n",
      "      Ossining  \n",
      "CHHS       NaN  \n",
      "PVC        NaN  \n"
     ]
    },
    {
     "data": {
      "text/markdown": [
       "## *Child_Self_Bus_Freq* (As % Of 4 Respondents):"
      ],
      "text/plain": [
       "<IPython.core.display.Markdown object>"
      ]
     },
     "metadata": {},
     "output_type": "display_data"
    },
    {
     "data": {
      "text/markdown": [
       "### By Demographic:"
      ],
      "text/plain": [
       "<IPython.core.display.Markdown object>"
      ]
     },
     "metadata": {},
     "output_type": "display_data"
    },
    {
     "name": "stdout",
     "output_type": "stream",
     "text": [
      "                                overall  Adult with school kid  \\\n",
      "Every day, or almost every day       25                    NaN   \n",
      "Once every few days                  25                    NaN   \n",
      "Rarely or never                      50                    NaN   \n",
      "\n",
      "                                Adult without school kid  Senior  College kid  \\\n",
      "Every day, or almost every day                       NaN     NaN          NaN   \n",
      "Once every few days                                  NaN     NaN          NaN   \n",
      "Rarely or never                                      NaN     NaN          NaN   \n",
      "\n",
      "                                High School kid  Middle School kid  \n",
      "Every day, or almost every day             33.0                NaN  \n",
      "Once every few days                         NaN              100.0  \n",
      "Rarely or never                            66.0                NaN  \n"
     ]
    },
    {
     "data": {
      "text/markdown": [
       "### By Neighborhood:"
      ],
      "text/plain": [
       "<IPython.core.display.Markdown object>"
      ]
     },
     "metadata": {},
     "output_type": "display_data"
    },
    {
     "name": "stdout",
     "output_type": "stream",
     "text": [
      "                                overall  Harmon  Upper Village  \\\n",
      "Every day, or almost every day       25     NaN            NaN   \n",
      "Once every few days                  25    33.0            NaN   \n",
      "Rarely or never                      50    66.0            NaN   \n",
      "\n",
      "                                Old Post Road North  Mount Airy  Sunset Park  \\\n",
      "Every day, or almost every day                  NaN       100.0          NaN   \n",
      "Once every few days                             NaN         NaN          NaN   \n",
      "Rarely or never                                 NaN         NaN          NaN   \n",
      "\n",
      "                                Albany Post Road  Half Moon Bay  Quaker Ridge  \\\n",
      "Every day, or almost every day               NaN            NaN           NaN   \n",
      "Once every few days                          NaN            NaN           NaN   \n",
      "Rarely or never                              NaN            NaN           NaN   \n",
      "\n",
      "                                Cortlandt  Ossining  \n",
      "Every day, or almost every day        NaN       NaN  \n",
      "Once every few days                   NaN       NaN  \n",
      "Rarely or never                       NaN       NaN  \n"
     ]
    },
    {
     "data": {
      "text/markdown": [
       "## *Child_Self_Bike_Freq* (As % Of 4 Respondents):"
      ],
      "text/plain": [
       "<IPython.core.display.Markdown object>"
      ]
     },
     "metadata": {},
     "output_type": "display_data"
    },
    {
     "data": {
      "text/markdown": [
       "### By Demographic:"
      ],
      "text/plain": [
       "<IPython.core.display.Markdown object>"
      ]
     },
     "metadata": {},
     "output_type": "display_data"
    },
    {
     "name": "stdout",
     "output_type": "stream",
     "text": [
      "                 overall  Adult with school kid  Adult without school kid  \\\n",
      "Once in a while       25                    NaN                       NaN   \n",
      "Rarely or never       75                    NaN                       NaN   \n",
      "\n",
      "                 Senior  College kid  High School kid  Middle School kid  \n",
      "Once in a while     NaN          NaN              NaN              100.0  \n",
      "Rarely or never     NaN          NaN            100.0                NaN  \n"
     ]
    },
    {
     "data": {
      "text/markdown": [
       "### By Neighborhood:"
      ],
      "text/plain": [
       "<IPython.core.display.Markdown object>"
      ]
     },
     "metadata": {},
     "output_type": "display_data"
    },
    {
     "name": "stdout",
     "output_type": "stream",
     "text": [
      "                 overall  Harmon  Upper Village  Old Post Road North  \\\n",
      "Once in a while       25      33            NaN                  NaN   \n",
      "Rarely or never       75      66            NaN                  NaN   \n",
      "\n",
      "                 Mount Airy  Sunset Park  Albany Post Road  Half Moon Bay  \\\n",
      "Once in a while         NaN          NaN               NaN            NaN   \n",
      "Rarely or never       100.0          NaN               NaN            NaN   \n",
      "\n",
      "                 Quaker Ridge  Cortlandt  Ossining  \n",
      "Once in a while           NaN        NaN       NaN  \n",
      "Rarely or never           NaN        NaN       NaN  \n"
     ]
    },
    {
     "data": {
      "text/markdown": [
       "## *Child_Self_Driven_Freq* (As % Of 4 Respondents):"
      ],
      "text/plain": [
       "<IPython.core.display.Markdown object>"
      ]
     },
     "metadata": {},
     "output_type": "display_data"
    },
    {
     "data": {
      "text/markdown": [
       "### By Demographic:"
      ],
      "text/plain": [
       "<IPython.core.display.Markdown object>"
      ]
     },
     "metadata": {},
     "output_type": "display_data"
    },
    {
     "name": "stdout",
     "output_type": "stream",
     "text": [
      "                                overall  Adult with school kid  \\\n",
      "Every day, or almost every day       25                    NaN   \n",
      "Rarely or never                      75                    NaN   \n",
      "\n",
      "                                Adult without school kid  Senior  College kid  \\\n",
      "Every day, or almost every day                       NaN     NaN          NaN   \n",
      "Rarely or never                                      NaN     NaN          NaN   \n",
      "\n",
      "                                High School kid  Middle School kid  \n",
      "Every day, or almost every day              NaN              100.0  \n",
      "Rarely or never                           100.0                NaN  \n"
     ]
    },
    {
     "data": {
      "text/markdown": [
       "### By Neighborhood:"
      ],
      "text/plain": [
       "<IPython.core.display.Markdown object>"
      ]
     },
     "metadata": {},
     "output_type": "display_data"
    },
    {
     "name": "stdout",
     "output_type": "stream",
     "text": [
      "                                overall  Harmon  Upper Village  \\\n",
      "Every day, or almost every day       25      33            NaN   \n",
      "Rarely or never                      75      66            NaN   \n",
      "\n",
      "                                Old Post Road North  Mount Airy  Sunset Park  \\\n",
      "Every day, or almost every day                  NaN         NaN          NaN   \n",
      "Rarely or never                                 NaN       100.0          NaN   \n",
      "\n",
      "                                Albany Post Road  Half Moon Bay  Quaker Ridge  \\\n",
      "Every day, or almost every day               NaN            NaN           NaN   \n",
      "Rarely or never                              NaN            NaN           NaN   \n",
      "\n",
      "                                Cortlandt  Ossining  \n",
      "Every day, or almost every day        NaN       NaN  \n",
      "Rarely or never                       NaN       NaN  \n"
     ]
    },
    {
     "data": {
      "text/markdown": [
       "## *Child_Self_Drive_Freq* (As % Of 4 Respondents):"
      ],
      "text/plain": [
       "<IPython.core.display.Markdown object>"
      ]
     },
     "metadata": {},
     "output_type": "display_data"
    },
    {
     "data": {
      "text/markdown": [
       "### By Demographic:"
      ],
      "text/plain": [
       "<IPython.core.display.Markdown object>"
      ]
     },
     "metadata": {},
     "output_type": "display_data"
    },
    {
     "name": "stdout",
     "output_type": "stream",
     "text": [
      "                                     overall  Adult with school kid  \\\n",
      "Every day, or almost every day            25                    NaN   \n",
      "Rarely or never - I'm too young           50                    NaN   \n",
      "Rarely or never - for other reasons       25                    NaN   \n",
      "\n",
      "                                     Adult without school kid  Senior  \\\n",
      "Every day, or almost every day                            NaN     NaN   \n",
      "Rarely or never - I'm too young                           NaN     NaN   \n",
      "Rarely or never - for other reasons                       NaN     NaN   \n",
      "\n",
      "                                     College kid  High School kid  \\\n",
      "Every day, or almost every day               NaN               33   \n",
      "Rarely or never - I'm too young              NaN               33   \n",
      "Rarely or never - for other reasons          NaN               33   \n",
      "\n",
      "                                     Middle School kid  \n",
      "Every day, or almost every day                     NaN  \n",
      "Rarely or never - I'm too young                  100.0  \n",
      "Rarely or never - for other reasons                NaN  \n"
     ]
    },
    {
     "data": {
      "text/markdown": [
       "### By Neighborhood:"
      ],
      "text/plain": [
       "<IPython.core.display.Markdown object>"
      ]
     },
     "metadata": {},
     "output_type": "display_data"
    },
    {
     "name": "stdout",
     "output_type": "stream",
     "text": [
      "                                     overall  Harmon  Upper Village  \\\n",
      "Every day, or almost every day            25      33            NaN   \n",
      "Rarely or never - I'm too young           50      33            NaN   \n",
      "Rarely or never - for other reasons       25      33            NaN   \n",
      "\n",
      "                                     Old Post Road North  Mount Airy  \\\n",
      "Every day, or almost every day                       NaN         NaN   \n",
      "Rarely or never - I'm too young                      NaN       100.0   \n",
      "Rarely or never - for other reasons                  NaN         NaN   \n",
      "\n",
      "                                     Sunset Park  Albany Post Road  \\\n",
      "Every day, or almost every day               NaN               NaN   \n",
      "Rarely or never - I'm too young              NaN               NaN   \n",
      "Rarely or never - for other reasons          NaN               NaN   \n",
      "\n",
      "                                     Half Moon Bay  Quaker Ridge  Cortlandt  \\\n",
      "Every day, or almost every day                 NaN           NaN        NaN   \n",
      "Rarely or never - I'm too young                NaN           NaN        NaN   \n",
      "Rarely or never - for other reasons            NaN           NaN        NaN   \n",
      "\n",
      "                                     Ossining  \n",
      "Every day, or almost every day            NaN  \n",
      "Rarely or never - I'm too young           NaN  \n",
      "Rarely or never - for other reasons       NaN  \n"
     ]
    },
    {
     "data": {
      "text/markdown": [
       "## *Child_Self_Walk_Freq* (As % Of 4 Respondents):"
      ],
      "text/plain": [
       "<IPython.core.display.Markdown object>"
      ]
     },
     "metadata": {},
     "output_type": "display_data"
    },
    {
     "data": {
      "text/markdown": [
       "### By Demographic:"
      ],
      "text/plain": [
       "<IPython.core.display.Markdown object>"
      ]
     },
     "metadata": {},
     "output_type": "display_data"
    },
    {
     "name": "stdout",
     "output_type": "stream",
     "text": [
      "                                overall  Adult with school kid  \\\n",
      "Every day, or almost every day       25                    NaN   \n",
      "Once every few days                  25                    NaN   \n",
      "Rarely or never                      50                    NaN   \n",
      "\n",
      "                                Adult without school kid  Senior  College kid  \\\n",
      "Every day, or almost every day                       NaN     NaN          NaN   \n",
      "Once every few days                                  NaN     NaN          NaN   \n",
      "Rarely or never                                      NaN     NaN          NaN   \n",
      "\n",
      "                                High School kid  Middle School kid  \n",
      "Every day, or almost every day             33.0                NaN  \n",
      "Once every few days                         NaN              100.0  \n",
      "Rarely or never                            66.0                NaN  \n"
     ]
    },
    {
     "data": {
      "text/markdown": [
       "### By Neighborhood:"
      ],
      "text/plain": [
       "<IPython.core.display.Markdown object>"
      ]
     },
     "metadata": {},
     "output_type": "display_data"
    },
    {
     "name": "stdout",
     "output_type": "stream",
     "text": [
      "                                overall  Harmon  Upper Village  \\\n",
      "Every day, or almost every day       25      33            NaN   \n",
      "Once every few days                  25      33            NaN   \n",
      "Rarely or never                      50      33            NaN   \n",
      "\n",
      "                                Old Post Road North  Mount Airy  Sunset Park  \\\n",
      "Every day, or almost every day                  NaN         NaN          NaN   \n",
      "Once every few days                             NaN         NaN          NaN   \n",
      "Rarely or never                                 NaN       100.0          NaN   \n",
      "\n",
      "                                Albany Post Road  Half Moon Bay  Quaker Ridge  \\\n",
      "Every day, or almost every day               NaN            NaN           NaN   \n",
      "Once every few days                          NaN            NaN           NaN   \n",
      "Rarely or never                              NaN            NaN           NaN   \n",
      "\n",
      "                                Cortlandt  Ossining  \n",
      "Every day, or almost every day        NaN       NaN  \n",
      "Once every few days                   NaN       NaN  \n",
      "Rarely or never                       NaN       NaN  \n"
     ]
    },
    {
     "data": {
      "text/markdown": [
       "## *Child_Self_Commutes* (As % Of 4 Respondents):"
      ],
      "text/plain": [
       "<IPython.core.display.Markdown object>"
      ]
     },
     "metadata": {},
     "output_type": "display_data"
    },
    {
     "data": {
      "text/markdown": [
       "### By Demographic:"
      ],
      "text/plain": [
       "<IPython.core.display.Markdown object>"
      ]
     },
     "metadata": {},
     "output_type": "display_data"
    },
    {
     "name": "stdout",
     "output_type": "stream",
     "text": [
      "     overall  Adult with school kid  Adult without school kid  Senior  \\\n",
      "No        75                    NaN                       NaN     NaN   \n",
      "Yes       25                    NaN                       NaN     NaN   \n",
      "\n",
      "     College kid  High School kid  Middle School kid  \n",
      "No           NaN               66              100.0  \n",
      "Yes          NaN               33                NaN  \n"
     ]
    },
    {
     "data": {
      "text/markdown": [
       "### By Neighborhood:"
      ],
      "text/plain": [
       "<IPython.core.display.Markdown object>"
      ]
     },
     "metadata": {},
     "output_type": "display_data"
    },
    {
     "name": "stdout",
     "output_type": "stream",
     "text": [
      "     overall  Harmon  Upper Village  Old Post Road North  Mount Airy  \\\n",
      "No        75      66            NaN                  NaN       100.0   \n",
      "Yes       25      33            NaN                  NaN         NaN   \n",
      "\n",
      "     Sunset Park  Albany Post Road  Half Moon Bay  Quaker Ridge  Cortlandt  \\\n",
      "No           NaN               NaN            NaN           NaN        NaN   \n",
      "Yes          NaN               NaN            NaN           NaN        NaN   \n",
      "\n",
      "     Ossining  \n",
      "No        NaN  \n",
      "Yes       NaN  \n"
     ]
    },
    {
     "data": {
      "text/markdown": [
       "## *Child_Self_Has_Children* (As % Of 5 Respondents):"
      ],
      "text/plain": [
       "<IPython.core.display.Markdown object>"
      ]
     },
     "metadata": {},
     "output_type": "display_data"
    },
    {
     "data": {
      "text/markdown": [
       "### By Demographic:"
      ],
      "text/plain": [
       "<IPython.core.display.Markdown object>"
      ]
     },
     "metadata": {},
     "output_type": "display_data"
    },
    {
     "name": "stdout",
     "output_type": "stream",
     "text": [
      "    overall  Adult with school kid  Adult without school kid  Senior  \\\n",
      "No      100                    NaN                       NaN     NaN   \n",
      "\n",
      "    College kid  High School kid  Middle School kid  \n",
      "No          100              NaN                NaN  \n"
     ]
    },
    {
     "data": {
      "text/markdown": [
       "### By Neighborhood:"
      ],
      "text/plain": [
       "<IPython.core.display.Markdown object>"
      ]
     },
     "metadata": {},
     "output_type": "display_data"
    },
    {
     "name": "stdout",
     "output_type": "stream",
     "text": [
      "    overall  Harmon  Upper Village  Old Post Road North  Mount Airy  \\\n",
      "No      100     100            NaN                  100         NaN   \n",
      "\n",
      "    Sunset Park  Albany Post Road  Half Moon Bay  Quaker Ridge  Cortlandt  \\\n",
      "No          100               NaN            NaN           NaN        NaN   \n",
      "\n",
      "    Ossining  \n",
      "No       NaN  \n"
     ]
    },
    {
     "data": {
      "text/markdown": [
       "## *Commuter_Type* (As % Of 298 Respondents):"
      ],
      "text/plain": [
       "<IPython.core.display.Markdown object>"
      ]
     },
     "metadata": {},
     "output_type": "display_data"
    },
    {
     "data": {
      "text/markdown": [
       "### By Demographic:"
      ],
      "text/plain": [
       "<IPython.core.display.Markdown object>"
      ]
     },
     "metadata": {},
     "output_type": "display_data"
    },
    {
     "name": "stdout",
     "output_type": "stream",
     "text": [
      "                                               overall  Adult with school kid  \\\n",
      "I bicycle the entire way (weather permitting)        0                      0   \n",
      "I drive the entire way                              44                     41   \n",
      "I take a bus the entire way                          0                      0   \n",
      "I take the train at Croton Harmon                   52                     56   \n",
      "I take the train at another station                  0                      0   \n",
      "I walk the entire way (weather permitting)           1                      0   \n",
      "\n",
      "                                               Adult without school kid  \\\n",
      "I bicycle the entire way (weather permitting)                       0.0   \n",
      "I drive the entire way                                             46.0   \n",
      "I take a bus the entire way                                         NaN   \n",
      "I take the train at Croton Harmon                                  50.0   \n",
      "I take the train at another station                                 0.0   \n",
      "I walk the entire way (weather permitting)                          1.0   \n",
      "\n",
      "                                               Senior  College kid  \\\n",
      "I bicycle the entire way (weather permitting)     NaN          NaN   \n",
      "I drive the entire way                           57.0         25.0   \n",
      "I take a bus the entire way                       NaN          NaN   \n",
      "I take the train at Croton Harmon                42.0         50.0   \n",
      "I take the train at another station               NaN          NaN   \n",
      "I walk the entire way (weather permitting)        NaN         25.0   \n",
      "\n",
      "                                               High School kid  \\\n",
      "I bicycle the entire way (weather permitting)              NaN   \n",
      "I drive the entire way                                   100.0   \n",
      "I take a bus the entire way                                NaN   \n",
      "I take the train at Croton Harmon                          NaN   \n",
      "I take the train at another station                        NaN   \n",
      "I walk the entire way (weather permitting)                 NaN   \n",
      "\n",
      "                                               Middle School kid  \n",
      "I bicycle the entire way (weather permitting)                NaN  \n",
      "I drive the entire way                                       NaN  \n",
      "I take a bus the entire way                                  NaN  \n",
      "I take the train at Croton Harmon                            NaN  \n",
      "I take the train at another station                          NaN  \n",
      "I walk the entire way (weather permitting)                   NaN  \n"
     ]
    },
    {
     "data": {
      "text/markdown": [
       "### By Neighborhood:"
      ],
      "text/plain": [
       "<IPython.core.display.Markdown object>"
      ]
     },
     "metadata": {},
     "output_type": "display_data"
    },
    {
     "name": "stdout",
     "output_type": "stream",
     "text": [
      "                                               overall  Harmon  Upper Village  \\\n",
      "I bicycle the entire way (weather permitting)        0     1.0            1.0   \n",
      "I drive the entire way                              44    43.0           45.0   \n",
      "I take a bus the entire way                          0     NaN            1.0   \n",
      "I take the train at Croton Harmon                   52    52.0           51.0   \n",
      "I take the train at another station                  0     NaN            NaN   \n",
      "I walk the entire way (weather permitting)           1     2.0            NaN   \n",
      "\n",
      "                                               Old Post Road North  \\\n",
      "I bicycle the entire way (weather permitting)                  NaN   \n",
      "I drive the entire way                                        39.0   \n",
      "I take a bus the entire way                                    NaN   \n",
      "I take the train at Croton Harmon                             58.0   \n",
      "I take the train at another station                            NaN   \n",
      "I walk the entire way (weather permitting)                     2.0   \n",
      "\n",
      "                                               Mount Airy  Sunset Park  \\\n",
      "I bicycle the entire way (weather permitting)         NaN          NaN   \n",
      "I drive the entire way                               45.0         48.0   \n",
      "I take a bus the entire way                           NaN          NaN   \n",
      "I take the train at Croton Harmon                    54.0         51.0   \n",
      "I take the train at another station                   NaN          NaN   \n",
      "I walk the entire way (weather permitting)            NaN          NaN   \n",
      "\n",
      "                                               Albany Post Road  \\\n",
      "I bicycle the entire way (weather permitting)               NaN   \n",
      "I drive the entire way                                     42.0   \n",
      "I take a bus the entire way                                 NaN   \n",
      "I take the train at Croton Harmon                          57.0   \n",
      "I take the train at another station                         NaN   \n",
      "I walk the entire way (weather permitting)                  NaN   \n",
      "\n",
      "                                               Half Moon Bay  Quaker Ridge  \\\n",
      "I bicycle the entire way (weather permitting)            NaN           NaN   \n",
      "I drive the entire way                                  71.0          16.0   \n",
      "I take a bus the entire way                              NaN           NaN   \n",
      "I take the train at Croton Harmon                       28.0          83.0   \n",
      "I take the train at another station                      NaN           NaN   \n",
      "I walk the entire way (weather permitting)               NaN           NaN   \n",
      "\n",
      "                                               Cortlandt  Ossining  \n",
      "I bicycle the entire way (weather permitting)        NaN       NaN  \n",
      "I drive the entire way                              33.0     100.0  \n",
      "I take a bus the entire way                          NaN       NaN  \n",
      "I take the train at Croton Harmon                    NaN       NaN  \n",
      "I take the train at another station                 66.0       NaN  \n",
      "I walk the entire way (weather permitting)           NaN       NaN  \n"
     ]
    },
    {
     "data": {
      "text/markdown": [
       "## *Commuter_Walk_To_Station_Freq* (As % Of 157 Respondents):"
      ],
      "text/plain": [
       "<IPython.core.display.Markdown object>"
      ]
     },
     "metadata": {},
     "output_type": "display_data"
    },
    {
     "data": {
      "text/markdown": [
       "### By Demographic:"
      ],
      "text/plain": [
       "<IPython.core.display.Markdown object>"
      ]
     },
     "metadata": {},
     "output_type": "display_data"
    },
    {
     "name": "stdout",
     "output_type": "stream",
     "text": [
      "                                  overall  Adult with school kid  \\\n",
      "Every trip, or almost every trip       14                     17   \n",
      "Once every few trips                    8                      8   \n",
      "Once in a while                        18                     16   \n",
      "Rarely or never                        58                     57   \n",
      "\n",
      "                                  Adult without school kid  Senior  \\\n",
      "Every trip, or almost every trip                        13     NaN   \n",
      "Once every few trips                                     6    12.0   \n",
      "Once in a while                                         24     NaN   \n",
      "Rarely or never                                         55    87.0   \n",
      "\n",
      "                                  College kid  High School kid  \\\n",
      "Every trip, or almost every trip          NaN              NaN   \n",
      "Once every few trips                     50.0              NaN   \n",
      "Once in a while                           NaN              NaN   \n",
      "Rarely or never                          50.0              NaN   \n",
      "\n",
      "                                  Middle School kid  \n",
      "Every trip, or almost every trip                NaN  \n",
      "Once every few trips                            NaN  \n",
      "Once in a while                                 NaN  \n",
      "Rarely or never                                 NaN  \n"
     ]
    },
    {
     "data": {
      "text/markdown": [
       "### By Neighborhood:"
      ],
      "text/plain": [
       "<IPython.core.display.Markdown object>"
      ]
     },
     "metadata": {},
     "output_type": "display_data"
    },
    {
     "name": "stdout",
     "output_type": "stream",
     "text": [
      "                                  overall  Harmon  Upper Village  \\\n",
      "Every trip, or almost every trip       14      40              5   \n",
      "Once every few trips                    8      19              8   \n",
      "Once in a while                        18      23             20   \n",
      "Rarely or never                        58      17             65   \n",
      "\n",
      "                                  Old Post Road North  Mount Airy  \\\n",
      "Every trip, or almost every trip                    4         NaN   \n",
      "Once every few trips                                4         NaN   \n",
      "Once in a while                                    20         5.0   \n",
      "Rarely or never                                    72        94.0   \n",
      "\n",
      "                                  Sunset Park  Albany Post Road  \\\n",
      "Every trip, or almost every trip          NaN               NaN   \n",
      "Once every few trips                      NaN               NaN   \n",
      "Once in a while                          35.0               NaN   \n",
      "Rarely or never                          64.0             100.0   \n",
      "\n",
      "                                  Half Moon Bay  Quaker Ridge  Cortlandt  \\\n",
      "Every trip, or almost every trip           50.0           NaN        NaN   \n",
      "Once every few trips                        NaN           NaN        NaN   \n",
      "Once in a while                             NaN           NaN        NaN   \n",
      "Rarely or never                            50.0         100.0        NaN   \n",
      "\n",
      "                                  Ossining  \n",
      "Every trip, or almost every trip       NaN  \n",
      "Once every few trips                   NaN  \n",
      "Once in a while                        NaN  \n",
      "Rarely or never                        NaN  \n"
     ]
    },
    {
     "data": {
      "text/markdown": [
       "## *Commuter_Bike_To_Station_Freq* (As % Of 157 Respondents):"
      ],
      "text/plain": [
       "<IPython.core.display.Markdown object>"
      ]
     },
     "metadata": {},
     "output_type": "display_data"
    },
    {
     "data": {
      "text/markdown": [
       "### By Demographic:"
      ],
      "text/plain": [
       "<IPython.core.display.Markdown object>"
      ]
     },
     "metadata": {},
     "output_type": "display_data"
    },
    {
     "name": "stdout",
     "output_type": "stream",
     "text": [
      "                                  overall  Adult with school kid  \\\n",
      "Every trip, or almost every trip        7                      7   \n",
      "Once every few trips                    5                      7   \n",
      "Once in a while                        11                     12   \n",
      "Rarely or never                        75                     72   \n",
      "\n",
      "                                  Adult without school kid  Senior  \\\n",
      "Every trip, or almost every trip                         8     NaN   \n",
      "Once every few trips                                     4     NaN   \n",
      "Once in a while                                         11     NaN   \n",
      "Rarely or never                                         75   100.0   \n",
      "\n",
      "                                  College kid  High School kid  \\\n",
      "Every trip, or almost every trip         50.0              NaN   \n",
      "Once every few trips                      NaN              NaN   \n",
      "Once in a while                           NaN              NaN   \n",
      "Rarely or never                          50.0              NaN   \n",
      "\n",
      "                                  Middle School kid  \n",
      "Every trip, or almost every trip                NaN  \n",
      "Once every few trips                            NaN  \n",
      "Once in a while                                 NaN  \n",
      "Rarely or never                                 NaN  \n"
     ]
    },
    {
     "data": {
      "text/markdown": [
       "### By Neighborhood:"
      ],
      "text/plain": [
       "<IPython.core.display.Markdown object>"
      ]
     },
     "metadata": {},
     "output_type": "display_data"
    },
    {
     "name": "stdout",
     "output_type": "stream",
     "text": [
      "                                  overall  Harmon  Upper Village  \\\n",
      "Every trip, or almost every trip        7      12              5   \n",
      "Once every few trips                    5      10              8   \n",
      "Once in a while                        11      14              5   \n",
      "Rarely or never                        75      61             80   \n",
      "\n",
      "                                  Old Post Road North  Mount Airy  \\\n",
      "Every trip, or almost every trip                  8.0         NaN   \n",
      "Once every few trips                              NaN         NaN   \n",
      "Once in a while                                  12.0        11.0   \n",
      "Rarely or never                                  80.0        88.0   \n",
      "\n",
      "                                  Sunset Park  Albany Post Road  \\\n",
      "Every trip, or almost every trip           14               NaN   \n",
      "Once every few trips                        7               NaN   \n",
      "Once in a while                            21              12.0   \n",
      "Rarely or never                            57              87.0   \n",
      "\n",
      "                                  Half Moon Bay  Quaker Ridge  Cortlandt  \\\n",
      "Every trip, or almost every trip            NaN           NaN        NaN   \n",
      "Once every few trips                        NaN           NaN        NaN   \n",
      "Once in a while                             NaN           NaN        NaN   \n",
      "Rarely or never                           100.0         100.0        NaN   \n",
      "\n",
      "                                  Ossining  \n",
      "Every trip, or almost every trip       NaN  \n",
      "Once every few trips                   NaN  \n",
      "Once in a while                        NaN  \n",
      "Rarely or never                        NaN  \n"
     ]
    },
    {
     "data": {
      "text/markdown": [
       "## *Commuter_Drive_To_Station_Freq* (As % Of 157 Respondents):"
      ],
      "text/plain": [
       "<IPython.core.display.Markdown object>"
      ]
     },
     "metadata": {},
     "output_type": "display_data"
    },
    {
     "data": {
      "text/markdown": [
       "### By Demographic:"
      ],
      "text/plain": [
       "<IPython.core.display.Markdown object>"
      ]
     },
     "metadata": {},
     "output_type": "display_data"
    },
    {
     "name": "stdout",
     "output_type": "stream",
     "text": [
      "                                  overall  Adult with school kid  \\\n",
      "Every trip, or almost every trip       57                     52   \n",
      "Once every few trips                    8                     12   \n",
      "Once in a while                        14                     14   \n",
      "Rarely or never                        19                     20   \n",
      "\n",
      "                                  Adult without school kid  Senior  \\\n",
      "Every trip, or almost every trip                        65    37.0   \n",
      "Once every few trips                                     4     NaN   \n",
      "Once in a while                                         11    37.0   \n",
      "Rarely or never                                         18    25.0   \n",
      "\n",
      "                                  College kid  High School kid  \\\n",
      "Every trip, or almost every trip        100.0              NaN   \n",
      "Once every few trips                      NaN              NaN   \n",
      "Once in a while                           NaN              NaN   \n",
      "Rarely or never                           NaN              NaN   \n",
      "\n",
      "                                  Middle School kid  \n",
      "Every trip, or almost every trip                NaN  \n",
      "Once every few trips                            NaN  \n",
      "Once in a while                                 NaN  \n",
      "Rarely or never                                 NaN  \n"
     ]
    },
    {
     "data": {
      "text/markdown": [
       "### By Neighborhood:"
      ],
      "text/plain": [
       "<IPython.core.display.Markdown object>"
      ]
     },
     "metadata": {},
     "output_type": "display_data"
    },
    {
     "name": "stdout",
     "output_type": "stream",
     "text": [
      "                                  overall  Harmon  Upper Village  \\\n",
      "Every trip, or almost every trip       57      25             57   \n",
      "Once every few trips                    8      10              8   \n",
      "Once in a while                        14      25              8   \n",
      "Rarely or never                        19      38             25   \n",
      "\n",
      "                                  Old Post Road North  Mount Airy  \\\n",
      "Every trip, or almost every trip                 80.0       100.0   \n",
      "Once every few trips                             16.0         NaN   \n",
      "Once in a while                                   NaN         NaN   \n",
      "Rarely or never                                   4.0         NaN   \n",
      "\n",
      "                                  Sunset Park  Albany Post Road  \\\n",
      "Every trip, or almost every trip         78.0              37.0   \n",
      "Once every few trips                     14.0               NaN   \n",
      "Once in a while                           NaN              62.0   \n",
      "Rarely or never                           7.0               NaN   \n",
      "\n",
      "                                  Half Moon Bay  Quaker Ridge  Cortlandt  \\\n",
      "Every trip, or almost every trip            NaN         100.0        NaN   \n",
      "Once every few trips                        NaN           NaN        NaN   \n",
      "Once in a while                             NaN           NaN        NaN   \n",
      "Rarely or never                           100.0           NaN        NaN   \n",
      "\n",
      "                                  Ossining  \n",
      "Every trip, or almost every trip       NaN  \n",
      "Once every few trips                   NaN  \n",
      "Once in a while                        NaN  \n",
      "Rarely or never                        NaN  \n"
     ]
    },
    {
     "data": {
      "text/markdown": [
       "## *Commuter_Carpool_To_Station_Freq* (As % Of 156 Respondents):"
      ],
      "text/plain": [
       "<IPython.core.display.Markdown object>"
      ]
     },
     "metadata": {},
     "output_type": "display_data"
    },
    {
     "data": {
      "text/markdown": [
       "### By Demographic:"
      ],
      "text/plain": [
       "<IPython.core.display.Markdown object>"
      ]
     },
     "metadata": {},
     "output_type": "display_data"
    },
    {
     "name": "stdout",
     "output_type": "stream",
     "text": [
      "                                  overall  Adult with school kid  \\\n",
      "Every trip, or almost every trip        1                    NaN   \n",
      "Once every few trips                    5                    5.0   \n",
      "Once in a while                         9                    8.0   \n",
      "Rarely or never                        83                   85.0   \n",
      "\n",
      "                                  Adult without school kid  Senior  \\\n",
      "Every trip, or almost every trip                         3     NaN   \n",
      "Once every few trips                                     4     NaN   \n",
      "Once in a while                                         13     NaN   \n",
      "Rarely or never                                         78   100.0   \n",
      "\n",
      "                                  College kid  High School kid  \\\n",
      "Every trip, or almost every trip          NaN              NaN   \n",
      "Once every few trips                      NaN              NaN   \n",
      "Once in a while                           NaN              NaN   \n",
      "Rarely or never                         100.0              NaN   \n",
      "\n",
      "                                  Middle School kid  \n",
      "Every trip, or almost every trip                NaN  \n",
      "Once every few trips                            NaN  \n",
      "Once in a while                                 NaN  \n",
      "Rarely or never                                 NaN  \n"
     ]
    },
    {
     "data": {
      "text/markdown": [
       "### By Neighborhood:"
      ],
      "text/plain": [
       "<IPython.core.display.Markdown object>"
      ]
     },
     "metadata": {},
     "output_type": "display_data"
    },
    {
     "name": "stdout",
     "output_type": "stream",
     "text": [
      "                                  overall  Harmon  Upper Village  \\\n",
      "Every trip, or almost every trip        1       2            NaN   \n",
      "Once every few trips                    5       8            NaN   \n",
      "Once in a while                         9      10            8.0   \n",
      "Rarely or never                        83      78           91.0   \n",
      "\n",
      "                                  Old Post Road North  Mount Airy  \\\n",
      "Every trip, or almost every trip                  NaN         NaN   \n",
      "Once every few trips                              4.0         NaN   \n",
      "Once in a while                                   8.0         5.0   \n",
      "Rarely or never                                  88.0        94.0   \n",
      "\n",
      "                                  Sunset Park  Albany Post Road  \\\n",
      "Every trip, or almost every trip          NaN              12.0   \n",
      "Once every few trips                      7.0               NaN   \n",
      "Once in a while                           NaN              12.0   \n",
      "Rarely or never                          92.0              75.0   \n",
      "\n",
      "                                  Half Moon Bay  Quaker Ridge  Cortlandt  \\\n",
      "Every trip, or almost every trip            NaN           NaN        NaN   \n",
      "Once every few trips                        NaN          20.0        NaN   \n",
      "Once in a while                             NaN          20.0        NaN   \n",
      "Rarely or never                           100.0          60.0        NaN   \n",
      "\n",
      "                                  Ossining  \n",
      "Every trip, or almost every trip       NaN  \n",
      "Once every few trips                   NaN  \n",
      "Once in a while                        NaN  \n",
      "Rarely or never                        NaN  \n"
     ]
    },
    {
     "data": {
      "text/markdown": [
       "## *Commuter_Driven_To_Station_Freq* (As % Of 157 Respondents):"
      ],
      "text/plain": [
       "<IPython.core.display.Markdown object>"
      ]
     },
     "metadata": {},
     "output_type": "display_data"
    },
    {
     "data": {
      "text/markdown": [
       "### By Demographic:"
      ],
      "text/plain": [
       "<IPython.core.display.Markdown object>"
      ]
     },
     "metadata": {},
     "output_type": "display_data"
    },
    {
     "name": "stdout",
     "output_type": "stream",
     "text": [
      "                                  overall  Adult with school kid  \\\n",
      "Every trip, or almost every trip        8                      5   \n",
      "Once every few trips                    8                     10   \n",
      "Once in a while                        24                     20   \n",
      "Rarely or never                        57                     63   \n",
      "\n",
      "                                  Adult without school kid  Senior  \\\n",
      "Every trip, or almost every trip                         8    37.0   \n",
      "Once every few trips                                     8     NaN   \n",
      "Once in a while                                         29    37.0   \n",
      "Rarely or never                                         54    25.0   \n",
      "\n",
      "                                  College kid  High School kid  \\\n",
      "Every trip, or almost every trip          NaN              NaN   \n",
      "Once every few trips                      NaN              NaN   \n",
      "Once in a while                          50.0              NaN   \n",
      "Rarely or never                          50.0              NaN   \n",
      "\n",
      "                                  Middle School kid  \n",
      "Every trip, or almost every trip                NaN  \n",
      "Once every few trips                            NaN  \n",
      "Once in a while                                 NaN  \n",
      "Rarely or never                                 NaN  \n"
     ]
    },
    {
     "data": {
      "text/markdown": [
       "### By Neighborhood:"
      ],
      "text/plain": [
       "<IPython.core.display.Markdown object>"
      ]
     },
     "metadata": {},
     "output_type": "display_data"
    },
    {
     "name": "stdout",
     "output_type": "stream",
     "text": [
      "                                  overall  Harmon  Upper Village  \\\n",
      "Every trip, or almost every trip        8       6             17   \n",
      "Once every few trips                    8       8             11   \n",
      "Once in a while                        24      34             14   \n",
      "Rarely or never                        57      51             57   \n",
      "\n",
      "                                  Old Post Road North  Mount Airy  \\\n",
      "Every trip, or almost every trip                  NaN         NaN   \n",
      "Once every few trips                             16.0         NaN   \n",
      "Once in a while                                  24.0        27.0   \n",
      "Rarely or never                                  60.0        72.0   \n",
      "\n",
      "                                  Sunset Park  Albany Post Road  \\\n",
      "Every trip, or almost every trip          7.0              37.0   \n",
      "Once every few trips                      7.0               NaN   \n",
      "Once in a while                           NaN              37.0   \n",
      "Rarely or never                          85.0              25.0   \n",
      "\n",
      "                                  Half Moon Bay  Quaker Ridge  Cortlandt  \\\n",
      "Every trip, or almost every trip            NaN           NaN        NaN   \n",
      "Once every few trips                        NaN          20.0        NaN   \n",
      "Once in a while                            50.0          20.0        NaN   \n",
      "Rarely or never                            50.0          60.0        NaN   \n",
      "\n",
      "                                  Ossining  \n",
      "Every trip, or almost every trip       NaN  \n",
      "Once every few trips                   NaN  \n",
      "Once in a while                        NaN  \n",
      "Rarely or never                        NaN  \n"
     ]
    },
    {
     "data": {
      "text/markdown": [
       "## *Commuter_Bus_To_Station_Freq* (As % Of 157 Respondents):"
      ],
      "text/plain": [
       "<IPython.core.display.Markdown object>"
      ]
     },
     "metadata": {},
     "output_type": "display_data"
    },
    {
     "data": {
      "text/markdown": [
       "### By Demographic:"
      ],
      "text/plain": [
       "<IPython.core.display.Markdown object>"
      ]
     },
     "metadata": {},
     "output_type": "display_data"
    },
    {
     "name": "stdout",
     "output_type": "stream",
     "text": [
      "                                  overall  Adult with school kid  \\\n",
      "Every trip, or almost every trip        3                      2   \n",
      "Once every few trips                    2                      2   \n",
      "Once in a while                         1                      2   \n",
      "Rarely or never                        92                     92   \n",
      "\n",
      "                                  Adult without school kid  Senior  \\\n",
      "Every trip, or almost every trip                         3    12.0   \n",
      "Once every few trips                                     3     NaN   \n",
      "Once in a while                                          1     NaN   \n",
      "Rarely or never                                         91    87.0   \n",
      "\n",
      "                                  College kid  High School kid  \\\n",
      "Every trip, or almost every trip          NaN              NaN   \n",
      "Once every few trips                      NaN              NaN   \n",
      "Once in a while                           NaN              NaN   \n",
      "Rarely or never                         100.0              NaN   \n",
      "\n",
      "                                  Middle School kid  \n",
      "Every trip, or almost every trip                NaN  \n",
      "Once every few trips                            NaN  \n",
      "Once in a while                                 NaN  \n",
      "Rarely or never                                 NaN  \n"
     ]
    },
    {
     "data": {
      "text/markdown": [
       "### By Neighborhood:"
      ],
      "text/plain": [
       "<IPython.core.display.Markdown object>"
      ]
     },
     "metadata": {},
     "output_type": "display_data"
    },
    {
     "name": "stdout",
     "output_type": "stream",
     "text": [
      "                                  overall  Harmon  Upper Village  \\\n",
      "Every trip, or almost every trip        3     NaN              5   \n",
      "Once every few trips                    2     NaN              8   \n",
      "Once in a while                         1     2.0              5   \n",
      "Rarely or never                        92    97.0             80   \n",
      "\n",
      "                                  Old Post Road North  Mount Airy  \\\n",
      "Every trip, or almost every trip                  NaN         NaN   \n",
      "Once every few trips                              NaN         NaN   \n",
      "Once in a while                                   NaN         NaN   \n",
      "Rarely or never                                 100.0       100.0   \n",
      "\n",
      "                                  Sunset Park  Albany Post Road  \\\n",
      "Every trip, or almost every trip          NaN              12.0   \n",
      "Once every few trips                      NaN               NaN   \n",
      "Once in a while                           NaN               NaN   \n",
      "Rarely or never                         100.0              87.0   \n",
      "\n",
      "                                  Half Moon Bay  Quaker Ridge  Cortlandt  \\\n",
      "Every trip, or almost every trip           50.0           NaN        NaN   \n",
      "Once every few trips                       50.0           NaN        NaN   \n",
      "Once in a while                             NaN           NaN        NaN   \n",
      "Rarely or never                             NaN         100.0        NaN   \n",
      "\n",
      "                                  Ossining  \n",
      "Every trip, or almost every trip       NaN  \n",
      "Once every few trips                   NaN  \n",
      "Once in a while                        NaN  \n",
      "Rarely or never                        NaN  \n"
     ]
    },
    {
     "data": {
      "text/markdown": [
       "## *Drivers_Are_Safe* (As % Of 493 Respondents):"
      ],
      "text/plain": [
       "<IPython.core.display.Markdown object>"
      ]
     },
     "metadata": {},
     "output_type": "display_data"
    },
    {
     "data": {
      "text/markdown": [
       "### By Demographic:"
      ],
      "text/plain": [
       "<IPython.core.display.Markdown object>"
      ]
     },
     "metadata": {},
     "output_type": "display_data"
    },
    {
     "name": "stdout",
     "output_type": "stream",
     "text": [
      "     overall  Adult with school kid  Adult without school kid  Senior  \\\n",
      "1.0        9                     13                         8       5   \n",
      "2.0       29                     31                        28      26   \n",
      "3.0       47                     45                        50      44   \n",
      "4.0       13                      9                        12      23   \n",
      "\n",
      "     College kid  High School kid  Middle School kid  \n",
      "1.0          NaN              NaN                NaN  \n",
      "2.0         40.0             33.0                NaN  \n",
      "3.0         60.0             66.0                NaN  \n",
      "4.0          NaN              NaN              100.0  \n"
     ]
    },
    {
     "data": {
      "text/markdown": [
       "### By Neighborhood:"
      ],
      "text/plain": [
       "<IPython.core.display.Markdown object>"
      ]
     },
     "metadata": {},
     "output_type": "display_data"
    },
    {
     "name": "stdout",
     "output_type": "stream",
     "text": [
      "     overall  Harmon  Upper Village  Old Post Road North  Mount Airy  \\\n",
      "1.0        9      11             13                    2           5   \n",
      "2.0       29      36             28                   23          29   \n",
      "3.0       47      37             49                   56          49   \n",
      "4.0       13      14              9                   16          16   \n",
      "\n",
      "     Sunset Park  Albany Post Road  Half Moon Bay  Quaker Ridge  Cortlandt  \\\n",
      "1.0           11                 6             11          11.0        NaN   \n",
      "2.0           19                27             38          22.0       25.0   \n",
      "3.0           52                48             38          66.0       62.0   \n",
      "4.0           16                17             11           NaN       12.0   \n",
      "\n",
      "     Ossining  \n",
      "1.0       NaN  \n",
      "2.0       NaN  \n",
      "3.0     100.0  \n",
      "4.0       NaN  \n"
     ]
    },
    {
     "data": {
      "text/markdown": [
       "## *Bicyclists_Are_Safe* (As % Of 485 Respondents):"
      ],
      "text/plain": [
       "<IPython.core.display.Markdown object>"
      ]
     },
     "metadata": {},
     "output_type": "display_data"
    },
    {
     "data": {
      "text/markdown": [
       "### By Demographic:"
      ],
      "text/plain": [
       "<IPython.core.display.Markdown object>"
      ]
     },
     "metadata": {},
     "output_type": "display_data"
    },
    {
     "name": "stdout",
     "output_type": "stream",
     "text": [
      "     overall  Adult with school kid  Adult without school kid  Senior  \\\n",
      "1.0       13                     13                        15       8   \n",
      "2.0       22                     17                        22      31   \n",
      "3.0       48                     51                        45      50   \n",
      "4.0       14                     17                        16       9   \n",
      "\n",
      "     College kid  High School kid  Middle School kid  \n",
      "1.0           40             33.0                NaN  \n",
      "2.0           20              NaN                NaN  \n",
      "3.0           20             66.0              100.0  \n",
      "4.0           20              NaN                NaN  \n"
     ]
    },
    {
     "data": {
      "text/markdown": [
       "### By Neighborhood:"
      ],
      "text/plain": [
       "<IPython.core.display.Markdown object>"
      ]
     },
     "metadata": {},
     "output_type": "display_data"
    },
    {
     "name": "stdout",
     "output_type": "stream",
     "text": [
      "     overall  Harmon  Upper Village  Old Post Road North  Mount Airy  \\\n",
      "1.0       13      13             13                   15          11   \n",
      "2.0       22      25             27                   21          18   \n",
      "3.0       48      46             43                   52          50   \n",
      "4.0       14      13             15                   10          20   \n",
      "\n",
      "     Sunset Park  Albany Post Road  Half Moon Bay  Quaker Ridge  Cortlandt  \\\n",
      "1.0           19                13             11           NaN       12.0   \n",
      "2.0           16                24             22           NaN        NaN   \n",
      "3.0           50                51             55          77.0       75.0   \n",
      "4.0           14                10             11          22.0       12.0   \n",
      "\n",
      "     Ossining  \n",
      "1.0       NaN  \n",
      "2.0       NaN  \n",
      "3.0       NaN  \n",
      "4.0     100.0  \n"
     ]
    },
    {
     "data": {
      "text/markdown": [
       "## *Contact_Interest* (As % Of 457 Respondents):"
      ],
      "text/plain": [
       "<IPython.core.display.Markdown object>"
      ]
     },
     "metadata": {},
     "output_type": "display_data"
    },
    {
     "data": {
      "text/markdown": [
       "### By Demographic:"
      ],
      "text/plain": [
       "<IPython.core.display.Markdown object>"
      ]
     },
     "metadata": {},
     "output_type": "display_data"
    },
    {
     "name": "stdout",
     "output_type": "stream",
     "text": [
      "     overall  Adult with school kid  Adult without school kid  Senior  \\\n",
      "No        54                     52                        53      55   \n",
      "Yes       45                     47                        46      44   \n",
      "\n",
      "     College kid  High School kid  Middle School kid  \n",
      "No            60            100.0              100.0  \n",
      "Yes           40              NaN                NaN  \n"
     ]
    },
    {
     "data": {
      "text/markdown": [
       "### By Neighborhood:"
      ],
      "text/plain": [
       "<IPython.core.display.Markdown object>"
      ]
     },
     "metadata": {},
     "output_type": "display_data"
    },
    {
     "name": "stdout",
     "output_type": "stream",
     "text": [
      "     overall  Harmon  Upper Village  Old Post Road North  Mount Airy  \\\n",
      "No        54      51             51                   54          62   \n",
      "Yes       45      48             48                   45          37   \n",
      "\n",
      "     Sunset Park  Albany Post Road  Half Moon Bay  Quaker Ridge  Cortlandt  \\\n",
      "No            55                59             66            33         50   \n",
      "Yes           45                40             33            66         50   \n",
      "\n",
      "     Ossining  \n",
      "No      100.0  \n",
      "Yes       NaN  \n"
     ]
    }
   ],
   "source": [
    "def get_num_respondents(field, df):\n",
    "    # get the number of responses in this field\n",
    "    num_respondents = df[pd.notnull(df[field])].shape[0]\n",
    "    return num_respondents\n",
    "    \n",
    "def get_breakdown(field, breakdown_field, percent=True):\n",
    "    # get the number of respondents to this field\n",
    "    num_respondents = get_num_respondents(field, df)\n",
    "\n",
    "    # get the overall stats of the values in the field of interest\n",
    "    df2 = df[field].value_counts()\n",
    "    if percent:\n",
    "        df2 = df2.apply(lambda x: int(100 * x / num_respondents))\n",
    "    \n",
    "    # label the column nicely \n",
    "    df2 = df2.to_frame()\n",
    "    df2.columns = ['overall'] #name this 'overall', since it is not broken down\n",
    "\n",
    "    # get the various values given in the field we want to break down the target field by\n",
    "    breakdowns = df[breakdown_field].value_counts().items()\n",
    "\n",
    "    # now break down the field by each of the values in the breakdown field\n",
    "    for breakdown, value in breakdowns:        \n",
    "        # get the number of responses by respondents matching this breakdown category\n",
    "        df3 = df[df[breakdown_field] == breakdown][field].value_counts()\n",
    "        \n",
    "        # convert to percentage, if desired\n",
    "        if percent:\n",
    "            # get the number of respondents to this field\n",
    "            num_respondents_column = get_num_respondents(field, df[df[breakdown_field] == breakdown][field].to_frame())\n",
    "            \n",
    "            df3 = df3.apply(lambda x: int(100 * x / num_respondents_column))\n",
    "\n",
    "        # label the column nicely before we merge it into the other dataframe\n",
    "        df3 = df3.to_frame() # convert to dataframe\n",
    "        df3.columns = [breakdown]\n",
    "        \n",
    "\n",
    "        # join these two dataframes together\n",
    "        df2 = df2.join(df3, how='outer')\n",
    "\n",
    "    return df2\n",
    "\n",
    "# fields of interest\n",
    "fields = [ 'child_bus_freq', 'child_walk_freq', 'child_driven_freq', 'child_drive_freq', 'child_bike_freq', 'walk_freq', 'bike_freq', 'bikes_on_sidewalk', 'self_jog_frequency', 'commutes', 'child_self_school', 'child_self_bus_freq', 'child_self_bike_freq', 'child_self_driven_freq', 'child_self_drive_freq', 'child_self_walk_freq', 'child_self_commutes', 'child_self_has_children', 'commuter_type', 'commuter_walk_to_station_freq', 'commuter_bike_to_station_freq', 'commuter_drive_to_station_freq', 'commuter_carpool_to_station_freq', 'commuter_driven_to_station_freq', 'commuter_bus_to_station_freq', 'drivers_are_safe', 'bicyclists_are_safe', 'contact_interest' ]\n",
    "# not included: ['child_drive_reason', 'child_no_walk_reason', 'child_no_bike_reason', 'commuter_distance', 'no_walk_reason', 'no_bike_reason', 'drive_reason' ]\n",
    "\n",
    "# iterate through every field of interest\n",
    "for field in fields:\n",
    "    \n",
    "    # get this field's breakdown by demographic and neighborhood\n",
    "    df2 = get_breakdown(field, 'demographic', percent=True)\n",
    "    df3 = get_breakdown(field, 'neighborhood', percent=True)\n",
    "    \n",
    "    # print out results\n",
    "    display(Markdown('## *{}* (as % of {} respondents):'.format(field, get_num_respondents(field, df)).title()))\n",
    "\n",
    "    display(Markdown('### by demographic:'.format(field, get_num_respondents(field, df)).title()))\n",
    "    print(df2)\n",
    "\n",
    "    display(Markdown('### by neighborhood:'.format(field, get_num_respondents(field, df)).title()))\n",
    "    print(df3)\n"
   ]
  },
  {
   "cell_type": "code",
   "execution_count": null,
   "metadata": {},
   "outputs": [],
   "source": []
  }
 ],
 "metadata": {
  "kernelspec": {
   "display_name": "Python 3",
   "language": "python",
   "name": "python3"
  },
  "language_info": {
   "codemirror_mode": {
    "name": "ipython",
    "version": 3
   },
   "file_extension": ".py",
   "mimetype": "text/x-python",
   "name": "python",
   "nbconvert_exporter": "python",
   "pygments_lexer": "ipython3",
   "version": "3.6.4"
  }
 },
 "nbformat": 4,
 "nbformat_minor": 2
}

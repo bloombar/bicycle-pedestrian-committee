{
 "cells": [
  {
   "cell_type": "code",
   "execution_count": 1,
   "metadata": {},
   "outputs": [],
   "source": [
    "import numpy as np\n",
    "import pandas as pd\n",
    "from IPython.display import display, Markdown, Latex\n",
    "df = pd.read_csv('responses_scrubbed.csv', index_col=None, parse_dates=['date'])"
   ]
  },
  {
   "cell_type": "markdown",
   "metadata": {},
   "source": [
    "## Number of respondents from each neighborhood\n",
    "Gives us a sense of who responded."
   ]
  },
  {
   "cell_type": "code",
   "execution_count": 2,
   "metadata": {},
   "outputs": [
    {
     "data": {
      "text/plain": [
       "Harmon                 151\n",
       "Upper Village          107\n",
       "Old Post Road North     68\n",
       "Mount Airy              55\n",
       "Sunset Park             42\n",
       "Albany Post Road        29\n",
       "Half Moon Bay           19\n",
       "Quaker Ridge             9\n",
       "Cortlandt                8\n",
       "Ossining                 1\n",
       "Name: neighborhood, dtype: int64"
      ]
     },
     "execution_count": 2,
     "metadata": {},
     "output_type": "execute_result"
    }
   ],
   "source": [
    "df['neighborhood'].value_counts()"
   ]
  },
  {
   "cell_type": "markdown",
   "metadata": {},
   "source": [
    "## Number of respondents from each demographic\n",
    "Gives us a sense of who responded."
   ]
  },
  {
   "cell_type": "code",
   "execution_count": 3,
   "metadata": {},
   "outputs": [
    {
     "data": {
      "text/plain": [
       "Adult with school kid       194\n",
       "Adult without school kid    165\n",
       "Senior                      128\n",
       "College kid                   5\n",
       "High School kid               3\n",
       "Middle School kid             1\n",
       "Name: demographic, dtype: int64"
      ]
     },
     "execution_count": 3,
     "metadata": {},
     "output_type": "execute_result"
    }
   ],
   "source": [
    "df['demographic'].value_counts()"
   ]
  },
  {
   "cell_type": "markdown",
   "metadata": {},
   "source": [
    "## Percent respondents of each demographic from each neighborhood\n",
    "Each column adds up to 100%."
   ]
  },
  {
   "cell_type": "code",
   "execution_count": 4,
   "metadata": {},
   "outputs": [
    {
     "data": {
      "text/html": [
       "<div>\n",
       "<style scoped>\n",
       "    .dataframe tbody tr th:only-of-type {\n",
       "        vertical-align: middle;\n",
       "    }\n",
       "\n",
       "    .dataframe tbody tr th {\n",
       "        vertical-align: top;\n",
       "    }\n",
       "\n",
       "    .dataframe thead th {\n",
       "        text-align: right;\n",
       "    }\n",
       "</style>\n",
       "<table border=\"1\" class=\"dataframe\">\n",
       "  <thead>\n",
       "    <tr style=\"text-align: right;\">\n",
       "      <th>neighborhood</th>\n",
       "      <th>Albany Post Road</th>\n",
       "      <th>Cortlandt</th>\n",
       "      <th>Half Moon Bay</th>\n",
       "      <th>Harmon</th>\n",
       "      <th>Mount Airy</th>\n",
       "      <th>Old Post Road North</th>\n",
       "      <th>Ossining</th>\n",
       "      <th>Quaker Ridge</th>\n",
       "      <th>Sunset Park</th>\n",
       "      <th>Upper Village</th>\n",
       "    </tr>\n",
       "    <tr>\n",
       "      <th>demographic</th>\n",
       "      <th></th>\n",
       "      <th></th>\n",
       "      <th></th>\n",
       "      <th></th>\n",
       "      <th></th>\n",
       "      <th></th>\n",
       "      <th></th>\n",
       "      <th></th>\n",
       "      <th></th>\n",
       "      <th></th>\n",
       "    </tr>\n",
       "  </thead>\n",
       "  <tbody>\n",
       "    <tr>\n",
       "      <th>Adult with school kid</th>\n",
       "      <td>21</td>\n",
       "      <td>25</td>\n",
       "      <td>5</td>\n",
       "      <td>40</td>\n",
       "      <td>47</td>\n",
       "      <td>46</td>\n",
       "      <td>0</td>\n",
       "      <td>44</td>\n",
       "      <td>43</td>\n",
       "      <td>42</td>\n",
       "    </tr>\n",
       "    <tr>\n",
       "      <th>Adult without school kid</th>\n",
       "      <td>28</td>\n",
       "      <td>50</td>\n",
       "      <td>47</td>\n",
       "      <td>27</td>\n",
       "      <td>29</td>\n",
       "      <td>36</td>\n",
       "      <td>100</td>\n",
       "      <td>33</td>\n",
       "      <td>40</td>\n",
       "      <td>34</td>\n",
       "    </tr>\n",
       "    <tr>\n",
       "      <th>College kid</th>\n",
       "      <td>0</td>\n",
       "      <td>0</td>\n",
       "      <td>0</td>\n",
       "      <td>2</td>\n",
       "      <td>0</td>\n",
       "      <td>1</td>\n",
       "      <td>0</td>\n",
       "      <td>0</td>\n",
       "      <td>2</td>\n",
       "      <td>0</td>\n",
       "    </tr>\n",
       "    <tr>\n",
       "      <th>High School kid</th>\n",
       "      <td>0</td>\n",
       "      <td>0</td>\n",
       "      <td>0</td>\n",
       "      <td>1</td>\n",
       "      <td>2</td>\n",
       "      <td>0</td>\n",
       "      <td>0</td>\n",
       "      <td>0</td>\n",
       "      <td>0</td>\n",
       "      <td>0</td>\n",
       "    </tr>\n",
       "    <tr>\n",
       "      <th>Middle School kid</th>\n",
       "      <td>0</td>\n",
       "      <td>0</td>\n",
       "      <td>0</td>\n",
       "      <td>1</td>\n",
       "      <td>0</td>\n",
       "      <td>0</td>\n",
       "      <td>0</td>\n",
       "      <td>0</td>\n",
       "      <td>0</td>\n",
       "      <td>0</td>\n",
       "    </tr>\n",
       "    <tr>\n",
       "      <th>Senior</th>\n",
       "      <td>52</td>\n",
       "      <td>25</td>\n",
       "      <td>47</td>\n",
       "      <td>29</td>\n",
       "      <td>22</td>\n",
       "      <td>16</td>\n",
       "      <td>0</td>\n",
       "      <td>22</td>\n",
       "      <td>14</td>\n",
       "      <td>25</td>\n",
       "    </tr>\n",
       "  </tbody>\n",
       "</table>\n",
       "</div>"
      ],
      "text/plain": [
       "neighborhood              Albany Post Road  Cortlandt  Half Moon Bay  Harmon  \\\n",
       "demographic                                                                    \n",
       "Adult with school kid                   21         25              5      40   \n",
       "Adult without school kid                28         50             47      27   \n",
       "College kid                              0          0              0       2   \n",
       "High School kid                          0          0              0       1   \n",
       "Middle School kid                        0          0              0       1   \n",
       "Senior                                  52         25             47      29   \n",
       "\n",
       "neighborhood              Mount Airy  Old Post Road North  Ossining  \\\n",
       "demographic                                                           \n",
       "Adult with school kid             47                   46         0   \n",
       "Adult without school kid          29                   36       100   \n",
       "College kid                        0                    1         0   \n",
       "High School kid                    2                    0         0   \n",
       "Middle School kid                  0                    0         0   \n",
       "Senior                            22                   16         0   \n",
       "\n",
       "neighborhood              Quaker Ridge  Sunset Park  Upper Village  \n",
       "demographic                                                         \n",
       "Adult with school kid               44           43             42  \n",
       "Adult without school kid            33           40             34  \n",
       "College kid                          0            2              0  \n",
       "High School kid                      0            0              0  \n",
       "Middle School kid                    0            0              0  \n",
       "Senior                              22           14             25  "
      ]
     },
     "execution_count": 4,
     "metadata": {},
     "output_type": "execute_result"
    }
   ],
   "source": [
    "df2 = df.groupby(['demographic', 'neighborhood']).size().unstack(fill_value=0).apply(lambda x: 100 * x / x.sum()) #.astype(int)\n",
    "df2.round(0).astype(int) # round to int"
   ]
  },
  {
   "cell_type": "markdown",
   "metadata": {},
   "source": [
    "## Set up some useful functions for talllying responses"
   ]
  },
  {
   "cell_type": "code",
   "execution_count": 5,
   "metadata": {},
   "outputs": [],
   "source": [
    "# splits the comma-separated values in the column into a pandas Series\n",
    "def split_by_comma(group, column_title):\n",
    "    try:\n",
    "        value_list = group[column_title].str.split(',')\n",
    "        return pd.Series(value_list.values[0], name=column_title)\n",
    "    except:\n",
    "        return []\n",
    "\n",
    "# breaks up the indicated column representing checkbox type data into multiple columns\n",
    "def get_answer_options(column_title, df, series_name):\n",
    "    # group all respondents who gave the same child_drive_reason\n",
    "    ser = df[pd.notnull(df[column_title])].groupby(level=0).apply(split_by_comma, column_title=column_title)\n",
    "    try:\n",
    "        # remove extra whitespace, if any responses exist\n",
    "        ser = ser.map(lambda x: str(x).strip()) #strip whitespace from answers\n",
    "    except:\n",
    "        # there were no results in the series\n",
    "        pass\n",
    "    \n",
    "    dum = pd.get_dummies(ser) # split each respondent's answers into separate columns\n",
    "\n",
    "    # sum columns\n",
    "    col_list = list(dum.columns) \n",
    "    dum.loc[series_name] = dum[col_list].sum(axis=0)\n",
    "    \n",
    "    # sort and return only the top 10\n",
    "    return dum.loc[series_name].sort_values(ascending=False)[0:10]\n",
    "\n",
    "# entry point\n",
    "def get_responses(column_title, df, demographic='Anyone', neighborhood='Anywhere', as_percent=True, series_name='overall'):\n",
    "    # how many people gave reasons of any kind?\n",
    "    num_respondents = df[pd.notnull(df[column_title])].shape[0]\n",
    "    \n",
    "    # break up the column of interest\n",
    "    results = get_answer_options(column_title, df, series_name)\n",
    "    \n",
    "    # calculate percentages, if requested\n",
    "    if as_percent:\n",
    "        results = results.apply(lambda x: int(100 * x / num_respondents))\n",
    "\n",
    "    return results\n"
   ]
  },
  {
   "cell_type": "markdown",
   "metadata": {},
   "source": [
    "# Analyze responses"
   ]
  },
  {
   "cell_type": "code",
   "execution_count": 6,
   "metadata": {
    "scrolled": false
   },
   "outputs": [
    {
     "data": {
      "text/markdown": [
       "## *Schools* (As % Of 188 Respondents):"
      ],
      "text/plain": [
       "<IPython.core.display.Markdown object>"
      ]
     },
     "metadata": {},
     "output_type": "display_data"
    },
    {
     "data": {
      "text/markdown": [
       "### Broken Down By Demographic:"
      ],
      "text/plain": [
       "<IPython.core.display.Markdown object>"
      ]
     },
     "metadata": {},
     "output_type": "display_data"
    },
    {
     "name": "stdout",
     "output_type": "stream",
     "text": [
      "                                   overall  Adult with school kid\n",
      "CET                                     45                     45\n",
      "PVC                                     31                     31\n",
      "CHHS                                    30                     30\n",
      "Homeschooled                             2                      2\n",
      "Circle School                            1                      1\n",
      "St. Augustine                            1                      1\n",
      "Happy Hearts                             1                      1\n",
      "The Harvey School                        0                      0\n",
      "Currently pre-school but soon CET        0                      0\n",
      "Happy Hearts Day Care                    0                      0\n"
     ]
    },
    {
     "data": {
      "text/markdown": [
       "## *Child_Bus_Freq* (As % Of 193 Respondents):"
      ],
      "text/plain": [
       "<IPython.core.display.Markdown object>"
      ]
     },
     "metadata": {},
     "output_type": "display_data"
    },
    {
     "data": {
      "text/markdown": [
       "### Broken Down By Demographic:"
      ],
      "text/plain": [
       "<IPython.core.display.Markdown object>"
      ]
     },
     "metadata": {},
     "output_type": "display_data"
    },
    {
     "name": "stdout",
     "output_type": "stream",
     "text": [
      "                     overall  Adult with school kid\n",
      "or almost every day       48                     48\n",
      "Every day                 48                     48\n",
      "Rarely or never           41                     41\n",
      "Once in a while            5                      5\n",
      "Once every few days        3                      3\n"
     ]
    },
    {
     "data": {
      "text/markdown": [
       "## *Child_Walk_Freq* (As % Of 194 Respondents):"
      ],
      "text/plain": [
       "<IPython.core.display.Markdown object>"
      ]
     },
     "metadata": {},
     "output_type": "display_data"
    },
    {
     "data": {
      "text/markdown": [
       "### Broken Down By Demographic:"
      ],
      "text/plain": [
       "<IPython.core.display.Markdown object>"
      ]
     },
     "metadata": {},
     "output_type": "display_data"
    },
    {
     "name": "stdout",
     "output_type": "stream",
     "text": [
      "                                             overall  Adult with school kid\n",
      "Rarely or never - my children are too young       25                     25\n",
      "or almost every day                               23                     23\n",
      "Rarely or never - for other reasons               23                     23\n",
      "Every day                                         23                     23\n",
      "Once in a while                                   19                     19\n",
      "Once every few days                                8                      8\n"
     ]
    },
    {
     "data": {
      "text/markdown": [
       "## *Child_Driven_Freq* (As % Of 194 Respondents):"
      ],
      "text/plain": [
       "<IPython.core.display.Markdown object>"
      ]
     },
     "metadata": {},
     "output_type": "display_data"
    },
    {
     "data": {
      "text/markdown": [
       "### Broken Down By Demographic:"
      ],
      "text/plain": [
       "<IPython.core.display.Markdown object>"
      ]
     },
     "metadata": {},
     "output_type": "display_data"
    },
    {
     "name": "stdout",
     "output_type": "stream",
     "text": [
      "                     overall  Adult with school kid\n",
      "Rarely or never           36                     36\n",
      "or almost every day       27                     27\n",
      "Every day                 27                     27\n",
      "Once in a while           19                     19\n",
      "Once every few days       16                     16\n"
     ]
    },
    {
     "data": {
      "text/markdown": [
       "## *Child_Drive_Freq* (As % Of 193 Respondents):"
      ],
      "text/plain": [
       "<IPython.core.display.Markdown object>"
      ]
     },
     "metadata": {},
     "output_type": "display_data"
    },
    {
     "data": {
      "text/markdown": [
       "### Broken Down By Demographic:"
      ],
      "text/plain": [
       "<IPython.core.display.Markdown object>"
      ]
     },
     "metadata": {},
     "output_type": "display_data"
    },
    {
     "name": "stdout",
     "output_type": "stream",
     "text": [
      "                                             overall  Adult with school kid\n",
      "Rarely or never - my children are too young       74                     74\n",
      "Rarely or never - for other reasons               18                     18\n",
      "Once every few days                                3                      3\n",
      "or almost every day                                2                      2\n",
      "Once in a while                                    2                      2\n",
      "Every day                                          2                      2\n"
     ]
    },
    {
     "data": {
      "text/markdown": [
       "## *Child_Bike_Freq* (As % Of 192 Respondents):"
      ],
      "text/plain": [
       "<IPython.core.display.Markdown object>"
      ]
     },
     "metadata": {},
     "output_type": "display_data"
    },
    {
     "data": {
      "text/markdown": [
       "### Broken Down By Demographic:"
      ],
      "text/plain": [
       "<IPython.core.display.Markdown object>"
      ]
     },
     "metadata": {},
     "output_type": "display_data"
    },
    {
     "name": "stdout",
     "output_type": "stream",
     "text": [
      "                                             overall  Adult with school kid\n",
      "Rarely or never - for other reasons               53                     53\n",
      "Rarely or never - my children are too young       36                     36\n",
      "Once in a while                                    8                      8\n",
      "Once every few days                                1                      1\n",
      "or almost every day                                0                      0\n",
      "Every day                                          0                      0\n"
     ]
    },
    {
     "data": {
      "text/markdown": [
       "## *Child_Drive_Reason* (As % Of 189 Respondents):"
      ],
      "text/plain": [
       "<IPython.core.display.Markdown object>"
      ]
     },
     "metadata": {},
     "output_type": "display_data"
    },
    {
     "data": {
      "text/markdown": [
       "### Broken Down By Demographic:"
      ],
      "text/plain": [
       "<IPython.core.display.Markdown object>"
      ]
     },
     "metadata": {},
     "output_type": "display_data"
    },
    {
     "name": "stdout",
     "output_type": "stream",
     "text": [
      "                                              overall  Adult with school kid\n",
      "or prefer not to drive                             34                     34\n",
      "No - we do not drive                               34                     34\n",
      "Our own personal preference                        21                     21\n",
      "The bus schedule does not match our schedule       14                     14\n",
      "Safety concerns with walking                       12                     12\n",
      "Safety concerns with bicycling                      7                      7\n",
      "Lack of available busing where we live              3                      3\n",
      "Safety concerns with buses                          2                      2\n",
      "Kids running late                                   1                      1\n",
      "Weather                                             1                      1\n"
     ]
    },
    {
     "data": {
      "text/markdown": [
       "## *Child_No_Walk_Reason* (As % Of 178 Respondents):"
      ],
      "text/plain": [
       "<IPython.core.display.Markdown object>"
      ]
     },
     "metadata": {},
     "output_type": "display_data"
    },
    {
     "data": {
      "text/markdown": [
       "### Broken Down By Demographic:"
      ],
      "text/plain": [
       "<IPython.core.display.Markdown object>"
      ]
     },
     "metadata": {},
     "output_type": "display_data"
    },
    {
     "name": "stdout",
     "output_type": "stream",
     "text": [
      "                                                   overall  \\\n",
      "We live too far to walk                                 25   \n",
      "No - they walk a lot                                    21   \n",
      "We don't have time to walk                              20   \n",
      "Fear of dangerous driving                               19   \n",
      "Lack of adequate sidewalks                              18   \n",
      "Lack of adequate crosswalks at busy intersections       10   \n",
      "My child does not like to walk                           5   \n",
      "Lack of crossing guards at busy intersections            5   \n",
      "Too young                                                2   \n",
      "with no sidewalks.                                       0   \n",
      "\n",
      "                                                   Adult with school kid  \n",
      "We live too far to walk                                               25  \n",
      "No - they walk a lot                                                  21  \n",
      "We don't have time to walk                                            20  \n",
      "Fear of dangerous driving                                             19  \n",
      "Lack of adequate sidewalks                                            18  \n",
      "Lack of adequate crosswalks at busy intersections                     10  \n",
      "My child does not like to walk                                         5  \n",
      "Lack of crossing guards at busy intersections                          5  \n",
      "Too young                                                              2  \n",
      "with no sidewalks.                                                     0  \n"
     ]
    },
    {
     "data": {
      "text/markdown": [
       "## *Child_No_Bike_Reason* (As % Of 182 Respondents):"
      ],
      "text/plain": [
       "<IPython.core.display.Markdown object>"
      ]
     },
     "metadata": {},
     "output_type": "display_data"
    },
    {
     "data": {
      "text/markdown": [
       "### Broken Down By Demographic:"
      ],
      "text/plain": [
       "<IPython.core.display.Markdown object>"
      ]
     },
     "metadata": {},
     "output_type": "display_data"
    },
    {
     "name": "stdout",
     "output_type": "stream",
     "text": [
      "                                   overall  Adult with school kid\n",
      "Fear of dangerous driving               30                     30\n",
      "My child is too young to bicycle        26                     26\n",
      "Lack of adequate bike lanes             20                     20\n",
      "My child does not like to bicycle       14                     14\n",
      "Hills                                   13                     13\n",
      "We live too far to bicycle              10                     10\n",
      "Our own personal preference              9                      9\n",
      "Too young                                1                      1\n",
      "Visually unappealing route               1                      1\n",
      "No - they bicycle a lot                  1                      1\n"
     ]
    },
    {
     "data": {
      "text/markdown": [
       "## *Walk_Freq* (As % Of 479 Respondents):"
      ],
      "text/plain": [
       "<IPython.core.display.Markdown object>"
      ]
     },
     "metadata": {},
     "output_type": "display_data"
    },
    {
     "data": {
      "text/markdown": [
       "### Broken Down By Demographic:"
      ],
      "text/plain": [
       "<IPython.core.display.Markdown object>"
      ]
     },
     "metadata": {},
     "output_type": "display_data"
    },
    {
     "name": "stdout",
     "output_type": "stream",
     "text": [
      "                       overall  Adult with school kid  \\\n",
      "0_Once every few days      NaN                    NaN   \n",
      "0_Once in a while          NaN                    NaN   \n",
      "0_Rarely or never          NaN                    NaN   \n",
      "Every day                 35.0                   32.0   \n",
      "Once every few days       32.0                   36.0   \n",
      "Once in a while           24.0                   26.0   \n",
      "Rarely or never            8.0                    5.0   \n",
      "or almost every day       35.0                   32.0   \n",
      "\n",
      "                       Adult without school kid  Senior  College kid  \n",
      "0_Once every few days                       NaN     NaN         40.0  \n",
      "0_Once in a while                           NaN     NaN         40.0  \n",
      "0_Rarely or never                           NaN     NaN         20.0  \n",
      "Every day                                  36.0    39.0          NaN  \n",
      "Once every few days                        34.0    23.0          NaN  \n",
      "Once in a while                            20.0    25.0          NaN  \n",
      "Rarely or never                             8.0    11.0          NaN  \n",
      "or almost every day                        36.0    39.0          NaN  \n"
     ]
    },
    {
     "data": {
      "text/markdown": [
       "## *Bike_Freq* (As % Of 479 Respondents):"
      ],
      "text/plain": [
       "<IPython.core.display.Markdown object>"
      ]
     },
     "metadata": {},
     "output_type": "display_data"
    },
    {
     "data": {
      "text/markdown": [
       "### Broken Down By Demographic:"
      ],
      "text/plain": [
       "<IPython.core.display.Markdown object>"
      ]
     },
     "metadata": {},
     "output_type": "display_data"
    },
    {
     "name": "stdout",
     "output_type": "stream",
     "text": [
      "                     overall  Adult with school kid  Adult without school kid  \\\n",
      "Every day                  5                      7                         4   \n",
      "Once every few days       13                     12                        14   \n",
      "Once in a while           21                     25                        24   \n",
      "Rarely or never           59                     54                        56   \n",
      "or almost every day        5                      7                         4   \n",
      "\n",
      "                     Senior  College kid  \n",
      "Every day                 3           20  \n",
      "Once every few days      14           20  \n",
      "Once in a while          11           40  \n",
      "Rarely or never          70           20  \n",
      "or almost every day       3           20  \n"
     ]
    },
    {
     "data": {
      "text/markdown": [
       "## *Bikes_On_Sidewalk* (As % Of 472 Respondents):"
      ],
      "text/plain": [
       "<IPython.core.display.Markdown object>"
      ]
     },
     "metadata": {},
     "output_type": "display_data"
    },
    {
     "data": {
      "text/markdown": [
       "### Broken Down By Demographic:"
      ],
      "text/plain": [
       "<IPython.core.display.Markdown object>"
      ]
     },
     "metadata": {},
     "output_type": "display_data"
    },
    {
     "name": "stdout",
     "output_type": "stream",
     "text": [
      "                                   overall  Adult with school kid  \\\n",
      "0_No - I don't bicycle                  48                     40   \n",
      "0_No - I only bicycle on the road       28                     28   \n",
      "0_Yes                                   22                     30   \n",
      "\n",
      "                                   Adult without school kid  Senior  \\\n",
      "0_No - I don't bicycle                                   48      62   \n",
      "0_No - I only bicycle on the road                        29      27   \n",
      "0_Yes                                                    22      10   \n",
      "\n",
      "                                   College kid  \n",
      "0_No - I don't bicycle                     NaN  \n",
      "0_No - I only bicycle on the road         60.0  \n",
      "0_Yes                                     40.0  \n"
     ]
    },
    {
     "data": {
      "text/markdown": [
       "## *Self_Jog_Frequency* (As % Of 479 Respondents):"
      ],
      "text/plain": [
       "<IPython.core.display.Markdown object>"
      ]
     },
     "metadata": {},
     "output_type": "display_data"
    },
    {
     "data": {
      "text/markdown": [
       "### Broken Down By Demographic:"
      ],
      "text/plain": [
       "<IPython.core.display.Markdown object>"
      ]
     },
     "metadata": {},
     "output_type": "display_data"
    },
    {
     "name": "stdout",
     "output_type": "stream",
     "text": [
      "                     overall  Adult with school kid  Adult without school kid  \\\n",
      "Every day                  4                      4                         5   \n",
      "Once every few days       12                     19                        10   \n",
      "Once in a while           16                     25                        15   \n",
      "Rarely or never           65                     50                        67   \n",
      "or almost every day        4                      4                         5   \n",
      "\n",
      "                     Senior  College kid  \n",
      "Every day                 3         20.0  \n",
      "Once every few days       4          NaN  \n",
      "Once in a while           3         20.0  \n",
      "Rarely or never          88         60.0  \n",
      "or almost every day       3         20.0  \n"
     ]
    },
    {
     "data": {
      "text/markdown": [
       "## *Commutes* (As % Of 479 Respondents):"
      ],
      "text/plain": [
       "<IPython.core.display.Markdown object>"
      ]
     },
     "metadata": {},
     "output_type": "display_data"
    },
    {
     "data": {
      "text/markdown": [
       "### Broken Down By Demographic:"
      ],
      "text/plain": [
       "<IPython.core.display.Markdown object>"
      ]
     },
     "metadata": {},
     "output_type": "display_data"
    },
    {
     "name": "stdout",
     "output_type": "stream",
     "text": [
      "                                overall  Adult with school kid  \\\n",
      "0_No                                 37                     21   \n",
      "0_Yes                                 1                      1   \n",
      "0_Yes - I commute daily              48                     62   \n",
      "0_Yes - I occasionally commute       12                     13   \n",
      "\n",
      "                                Adult without school kid  Senior  College kid  \n",
      "0_No                                                  19    85.0         20.0  \n",
      "0_Yes                                                  1     NaN          NaN  \n",
      "0_Yes - I commute daily                               64     7.0         80.0  \n",
      "0_Yes - I occasionally commute                        14     7.0          NaN  \n"
     ]
    },
    {
     "data": {
      "text/markdown": [
       "## *Child_Self_School* (As % Of 4 Respondents):"
      ],
      "text/plain": [
       "<IPython.core.display.Markdown object>"
      ]
     },
     "metadata": {},
     "output_type": "display_data"
    },
    {
     "data": {
      "text/markdown": [
       "### Broken Down By Demographic:"
      ],
      "text/plain": [
       "<IPython.core.display.Markdown object>"
      ]
     },
     "metadata": {},
     "output_type": "display_data"
    },
    {
     "name": "stdout",
     "output_type": "stream",
     "text": [
      "        overall  High School kid  Middle School kid\n",
      "0_CHHS       75            100.0                NaN\n",
      "0_PVC        25              NaN              100.0\n"
     ]
    },
    {
     "data": {
      "text/markdown": [
       "## *Child_Self_Bus_Freq* (As % Of 4 Respondents):"
      ],
      "text/plain": [
       "<IPython.core.display.Markdown object>"
      ]
     },
     "metadata": {},
     "output_type": "display_data"
    },
    {
     "data": {
      "text/markdown": [
       "### Broken Down By Demographic:"
      ],
      "text/plain": [
       "<IPython.core.display.Markdown object>"
      ]
     },
     "metadata": {},
     "output_type": "display_data"
    },
    {
     "name": "stdout",
     "output_type": "stream",
     "text": [
      "                       overall  High School kid  Middle School kid\n",
      "0_Once every few days      NaN              NaN              100.0\n",
      "Every day                 25.0             33.0                NaN\n",
      "Once every few days       25.0              NaN                NaN\n",
      "Rarely or never           50.0             66.0                NaN\n",
      "or almost every day       25.0             33.0                NaN\n"
     ]
    },
    {
     "data": {
      "text/markdown": [
       "## *Child_Self_Bike_Freq* (As % Of 4 Respondents):"
      ],
      "text/plain": [
       "<IPython.core.display.Markdown object>"
      ]
     },
     "metadata": {},
     "output_type": "display_data"
    },
    {
     "data": {
      "text/markdown": [
       "### Broken Down By Demographic:"
      ],
      "text/plain": [
       "<IPython.core.display.Markdown object>"
      ]
     },
     "metadata": {},
     "output_type": "display_data"
    },
    {
     "name": "stdout",
     "output_type": "stream",
     "text": [
      "                   overall  High School kid  Middle School kid\n",
      "0_Once in a while       25              NaN              100.0\n",
      "0_Rarely or never       75            100.0                NaN\n"
     ]
    },
    {
     "data": {
      "text/markdown": [
       "## *Child_Self_Driven_Freq* (As % Of 4 Respondents):"
      ],
      "text/plain": [
       "<IPython.core.display.Markdown object>"
      ]
     },
     "metadata": {},
     "output_type": "display_data"
    },
    {
     "data": {
      "text/markdown": [
       "### Broken Down By Demographic:"
      ],
      "text/plain": [
       "<IPython.core.display.Markdown object>"
      ]
     },
     "metadata": {},
     "output_type": "display_data"
    },
    {
     "name": "stdout",
     "output_type": "stream",
     "text": [
      "                        overall  High School kid  Middle School kid\n",
      "0_Every day                 NaN              NaN              100.0\n",
      "0_Rarely or never           NaN            100.0                NaN\n",
      "1_ or almost every day      NaN              NaN              100.0\n",
      "Every day                  25.0              NaN                NaN\n",
      "Rarely or never            75.0              NaN                NaN\n",
      "or almost every day        25.0              NaN                NaN\n"
     ]
    },
    {
     "data": {
      "text/markdown": [
       "## *Child_Self_Drive_Freq* (As % Of 4 Respondents):"
      ],
      "text/plain": [
       "<IPython.core.display.Markdown object>"
      ]
     },
     "metadata": {},
     "output_type": "display_data"
    },
    {
     "data": {
      "text/markdown": [
       "### Broken Down By Demographic:"
      ],
      "text/plain": [
       "<IPython.core.display.Markdown object>"
      ]
     },
     "metadata": {},
     "output_type": "display_data"
    },
    {
     "name": "stdout",
     "output_type": "stream",
     "text": [
      "                                     overall  High School kid  \\\n",
      "0_Rarely or never - I'm too young        NaN              NaN   \n",
      "Every day                               25.0             33.0   \n",
      "Rarely or never - I'm too young         50.0             33.0   \n",
      "Rarely or never - for other reasons     25.0             33.0   \n",
      "or almost every day                     25.0             33.0   \n",
      "\n",
      "                                     Middle School kid  \n",
      "0_Rarely or never - I'm too young                100.0  \n",
      "Every day                                          NaN  \n",
      "Rarely or never - I'm too young                    NaN  \n",
      "Rarely or never - for other reasons                NaN  \n",
      "or almost every day                                NaN  \n"
     ]
    },
    {
     "data": {
      "text/markdown": [
       "## *Child_Self_Walk_Freq* (As % Of 4 Respondents):"
      ],
      "text/plain": [
       "<IPython.core.display.Markdown object>"
      ]
     },
     "metadata": {},
     "output_type": "display_data"
    },
    {
     "data": {
      "text/markdown": [
       "### Broken Down By Demographic:"
      ],
      "text/plain": [
       "<IPython.core.display.Markdown object>"
      ]
     },
     "metadata": {},
     "output_type": "display_data"
    },
    {
     "name": "stdout",
     "output_type": "stream",
     "text": [
      "                       overall  High School kid  Middle School kid\n",
      "0_Once every few days      NaN              NaN              100.0\n",
      "Every day                 25.0             33.0                NaN\n",
      "Once every few days       25.0              NaN                NaN\n",
      "Rarely or never           50.0             66.0                NaN\n",
      "or almost every day       25.0             33.0                NaN\n"
     ]
    },
    {
     "data": {
      "text/markdown": [
       "## *Child_Self_Commutes* (As % Of 4 Respondents):"
      ],
      "text/plain": [
       "<IPython.core.display.Markdown object>"
      ]
     },
     "metadata": {},
     "output_type": "display_data"
    },
    {
     "data": {
      "text/markdown": [
       "### Broken Down By Demographic:"
      ],
      "text/plain": [
       "<IPython.core.display.Markdown object>"
      ]
     },
     "metadata": {},
     "output_type": "display_data"
    },
    {
     "name": "stdout",
     "output_type": "stream",
     "text": [
      "       overall  High School kid  Middle School kid\n",
      "0_No        75               66              100.0\n",
      "0_Yes       25               33                NaN\n"
     ]
    },
    {
     "data": {
      "text/markdown": [
       "## *Child_Self_Has_Children* (As % Of 5 Respondents):"
      ],
      "text/plain": [
       "<IPython.core.display.Markdown object>"
      ]
     },
     "metadata": {},
     "output_type": "display_data"
    },
    {
     "data": {
      "text/markdown": [
       "### Broken Down By Demographic:"
      ],
      "text/plain": [
       "<IPython.core.display.Markdown object>"
      ]
     },
     "metadata": {},
     "output_type": "display_data"
    },
    {
     "name": "stdout",
     "output_type": "stream",
     "text": [
      "      overall  College kid\n",
      "0_No      100          100\n"
     ]
    },
    {
     "data": {
      "text/markdown": [
       "## *Commuter_Distance* (As % Of 297 Respondents):"
      ],
      "text/plain": [
       "<IPython.core.display.Markdown object>"
      ]
     },
     "metadata": {},
     "output_type": "display_data"
    },
    {
     "data": {
      "text/markdown": [
       "### Broken Down By Demographic:"
      ],
      "text/plain": [
       "<IPython.core.display.Markdown object>"
      ]
     },
     "metadata": {},
     "output_type": "display_data"
    },
    {
     "name": "stdout",
     "output_type": "stream",
     "text": [
      "                                    overall  Adult with school kid  \\\n",
      "0_To/from Hoboken NJ                    NaN                    NaN   \n",
      "0_To/from New York City                 NaN                    NaN   \n",
      "0_Within Croton                         NaN                    NaN   \n",
      "0_Within Westchester                    NaN                    NaN   \n",
      "Across river                            NaN                    0.0   \n",
      "Both nyc and westChester                NaN                    0.0   \n",
      "CT                                      0.0                    0.0   \n",
      "Chappaqua                               0.0                    0.0   \n",
      "Ct                                      0.0                    NaN   \n",
      "Drive New Jersey                        0.0                    NaN   \n",
      "Dutchess County                         0.0                    0.0   \n",
      "Dutchess and Orange Counties            0.0                    NaN   \n",
      "Orange county                           NaN                    NaN   \n",
      "Rockland                                NaN                    NaN   \n",
      "To NY city and with in Westchester      NaN                    NaN   \n",
      "To Rockland County                      NaN                    NaN   \n",
      "To/From New York City                   1.0                    2.0   \n",
      "To/from New York City                  54.0                   56.0   \n",
      "Varies widely                           NaN                    NaN   \n",
      "Within Croton                           8.0                    5.0   \n",
      "Within Westchester                     26.0                   26.0   \n",
      "from NYC to Poughkeepsie                NaN                    NaN   \n",
      "to northern NJ                          NaN                    0.0   \n",
      "\n",
      "                                    Adult without school kid  Senior  \\\n",
      "0_To/from Hoboken NJ                                     NaN     5.0   \n",
      "0_To/from New York City                                  NaN    47.0   \n",
      "0_Within Croton                                          NaN    15.0   \n",
      "0_Within Westchester                                     NaN    31.0   \n",
      "Across river                                             NaN     NaN   \n",
      "Both nyc and westChester                                 NaN     NaN   \n",
      "CT                                                       NaN     NaN   \n",
      "Chappaqua                                                NaN     NaN   \n",
      "Ct                                                       NaN     NaN   \n",
      "Drive New Jersey                                         NaN     NaN   \n",
      "Dutchess County                                          NaN     NaN   \n",
      "Dutchess and Orange Counties                             NaN     NaN   \n",
      "Orange county                                            0.0     NaN   \n",
      "Rockland                                                 0.0     NaN   \n",
      "To NY city and with in Westchester                       0.0     NaN   \n",
      "To Rockland County                                       0.0     NaN   \n",
      "To/From New York City                                    1.0     NaN   \n",
      "To/from New York City                                   53.0     NaN   \n",
      "Varies widely                                            0.0     NaN   \n",
      "Within Croton                                           11.0     NaN   \n",
      "Within Westchester                                      25.0     NaN   \n",
      "from NYC to Poughkeepsie                                 0.0     NaN   \n",
      "to northern NJ                                           NaN     NaN   \n",
      "\n",
      "                                    College kid  High School kid  \n",
      "0_To/from Hoboken NJ                        NaN              NaN  \n",
      "0_To/from New York City                    75.0              NaN  \n",
      "0_Within Croton                            25.0              NaN  \n",
      "0_Within Westchester                        NaN            100.0  \n",
      "Across river                                NaN              NaN  \n",
      "Both nyc and westChester                    NaN              NaN  \n",
      "CT                                          NaN              NaN  \n",
      "Chappaqua                                   NaN              NaN  \n",
      "Ct                                          NaN              NaN  \n",
      "Drive New Jersey                            NaN              NaN  \n",
      "Dutchess County                             NaN              NaN  \n",
      "Dutchess and Orange Counties                NaN              NaN  \n",
      "Orange county                               NaN              NaN  \n",
      "Rockland                                    NaN              NaN  \n",
      "To NY city and with in Westchester          NaN              NaN  \n",
      "To Rockland County                          NaN              NaN  \n",
      "To/From New York City                       NaN              NaN  \n",
      "To/from New York City                       NaN              NaN  \n",
      "Varies widely                               NaN              NaN  \n",
      "Within Croton                               NaN              NaN  \n",
      "Within Westchester                          NaN              NaN  \n",
      "from NYC to Poughkeepsie                    NaN              NaN  \n",
      "to northern NJ                              NaN              NaN  \n"
     ]
    },
    {
     "data": {
      "text/markdown": [
       "## *Commuter_Type* (As % Of 298 Respondents):"
      ],
      "text/plain": [
       "<IPython.core.display.Markdown object>"
      ]
     },
     "metadata": {},
     "output_type": "display_data"
    },
    {
     "data": {
      "text/markdown": [
       "### Broken Down By Demographic:"
      ],
      "text/plain": [
       "<IPython.core.display.Markdown object>"
      ]
     },
     "metadata": {},
     "output_type": "display_data"
    },
    {
     "name": "stdout",
     "output_type": "stream",
     "text": [
      "                                                 overall  \\\n",
      "0_I bicycle the entire way (weather permitting)        0   \n",
      "0_I drive the entire way                              44   \n",
      "0_I take a bus the entire way                          0   \n",
      "0_I take the train at Croton Harmon                   52   \n",
      "0_I take the train at another station                  0   \n",
      "0_I walk the entire way (weather permitting)           1   \n",
      "\n",
      "                                                 Adult with school kid  \\\n",
      "0_I bicycle the entire way (weather permitting)                      0   \n",
      "0_I drive the entire way                                            41   \n",
      "0_I take a bus the entire way                                        0   \n",
      "0_I take the train at Croton Harmon                                 56   \n",
      "0_I take the train at another station                                0   \n",
      "0_I walk the entire way (weather permitting)                         0   \n",
      "\n",
      "                                                 Adult without school kid  \\\n",
      "0_I bicycle the entire way (weather permitting)                       0.0   \n",
      "0_I drive the entire way                                             46.0   \n",
      "0_I take a bus the entire way                                         NaN   \n",
      "0_I take the train at Croton Harmon                                  50.0   \n",
      "0_I take the train at another station                                 0.0   \n",
      "0_I walk the entire way (weather permitting)                          1.0   \n",
      "\n",
      "                                                 Senior  College kid  \\\n",
      "0_I bicycle the entire way (weather permitting)     NaN          NaN   \n",
      "0_I drive the entire way                           57.0         25.0   \n",
      "0_I take a bus the entire way                       NaN          NaN   \n",
      "0_I take the train at Croton Harmon                42.0         50.0   \n",
      "0_I take the train at another station               NaN          NaN   \n",
      "0_I walk the entire way (weather permitting)        NaN         25.0   \n",
      "\n",
      "                                                 High School kid  \n",
      "0_I bicycle the entire way (weather permitting)              NaN  \n",
      "0_I drive the entire way                                   100.0  \n",
      "0_I take a bus the entire way                                NaN  \n",
      "0_I take the train at Croton Harmon                          NaN  \n",
      "0_I take the train at another station                        NaN  \n",
      "0_I walk the entire way (weather permitting)                 NaN  \n"
     ]
    },
    {
     "data": {
      "text/markdown": [
       "## *Commuter_Walk_To_Station_Freq* (As % Of 157 Respondents):"
      ],
      "text/plain": [
       "<IPython.core.display.Markdown object>"
      ]
     },
     "metadata": {},
     "output_type": "display_data"
    },
    {
     "data": {
      "text/markdown": [
       "### Broken Down By Demographic:"
      ],
      "text/plain": [
       "<IPython.core.display.Markdown object>"
      ]
     },
     "metadata": {},
     "output_type": "display_data"
    },
    {
     "name": "stdout",
     "output_type": "stream",
     "text": [
      "                        overall  Adult with school kid  \\\n",
      "0_Once every few trips      NaN                    NaN   \n",
      "0_Rarely or never           NaN                    NaN   \n",
      "Every trip                 14.0                   17.0   \n",
      "Once every few trips        8.0                    8.0   \n",
      "Once in a while            18.0                   16.0   \n",
      "Rarely or never            58.0                   57.0   \n",
      "or almost every trip       14.0                   17.0   \n",
      "\n",
      "                        Adult without school kid  Senior  College kid  \n",
      "0_Once every few trips                       NaN    12.0         50.0  \n",
      "0_Rarely or never                            NaN    87.0         50.0  \n",
      "Every trip                                  13.0     NaN          NaN  \n",
      "Once every few trips                         6.0     NaN          NaN  \n",
      "Once in a while                             24.0     NaN          NaN  \n",
      "Rarely or never                             55.0     NaN          NaN  \n",
      "or almost every trip                        13.0     NaN          NaN  \n"
     ]
    },
    {
     "data": {
      "text/markdown": [
       "## *Commuter_Bike_To_Station_Freq* (As % Of 157 Respondents):"
      ],
      "text/plain": [
       "<IPython.core.display.Markdown object>"
      ]
     },
     "metadata": {},
     "output_type": "display_data"
    },
    {
     "data": {
      "text/markdown": [
       "### Broken Down By Demographic:"
      ],
      "text/plain": [
       "<IPython.core.display.Markdown object>"
      ]
     },
     "metadata": {},
     "output_type": "display_data"
    },
    {
     "name": "stdout",
     "output_type": "stream",
     "text": [
      "                      overall  Adult with school kid  \\\n",
      "0_Rarely or never         NaN                    NaN   \n",
      "Every trip                7.0                    7.0   \n",
      "Once every few trips      5.0                    7.0   \n",
      "Once in a while          11.0                   12.0   \n",
      "Rarely or never          75.0                   72.0   \n",
      "or almost every trip      7.0                    7.0   \n",
      "\n",
      "                      Adult without school kid  Senior  College kid  \n",
      "0_Rarely or never                          NaN   100.0          NaN  \n",
      "Every trip                                 8.0     NaN         50.0  \n",
      "Once every few trips                       4.0     NaN          NaN  \n",
      "Once in a while                           11.0     NaN          NaN  \n",
      "Rarely or never                           75.0     NaN         50.0  \n",
      "or almost every trip                       8.0     NaN         50.0  \n"
     ]
    },
    {
     "data": {
      "text/markdown": [
       "## *Commuter_Drive_To_Station_Freq* (As % Of 157 Respondents):"
      ],
      "text/plain": [
       "<IPython.core.display.Markdown object>"
      ]
     },
     "metadata": {},
     "output_type": "display_data"
    },
    {
     "data": {
      "text/markdown": [
       "### Broken Down By Demographic:"
      ],
      "text/plain": [
       "<IPython.core.display.Markdown object>"
      ]
     },
     "metadata": {},
     "output_type": "display_data"
    },
    {
     "name": "stdout",
     "output_type": "stream",
     "text": [
      "                         overall  Adult with school kid  \\\n",
      "0_Every trip                 NaN                    NaN   \n",
      "1_ or almost every trip      NaN                    NaN   \n",
      "Every trip                  57.0                   52.0   \n",
      "Once every few trips         8.0                   12.0   \n",
      "Once in a while             14.0                   14.0   \n",
      "Rarely or never             19.0                   20.0   \n",
      "or almost every trip        57.0                   52.0   \n",
      "\n",
      "                         Adult without school kid  Senior  College kid  \n",
      "0_Every trip                                  NaN     NaN        100.0  \n",
      "1_ or almost every trip                       NaN     NaN        100.0  \n",
      "Every trip                                   65.0    37.0          NaN  \n",
      "Once every few trips                          4.0     NaN          NaN  \n",
      "Once in a while                              11.0    37.0          NaN  \n",
      "Rarely or never                              18.0    25.0          NaN  \n",
      "or almost every trip                         65.0    37.0          NaN  \n"
     ]
    },
    {
     "data": {
      "text/markdown": [
       "## *Commuter_Carpool_To_Station_Freq* (As % Of 156 Respondents):"
      ],
      "text/plain": [
       "<IPython.core.display.Markdown object>"
      ]
     },
     "metadata": {},
     "output_type": "display_data"
    },
    {
     "data": {
      "text/markdown": [
       "### Broken Down By Demographic:"
      ],
      "text/plain": [
       "<IPython.core.display.Markdown object>"
      ]
     },
     "metadata": {},
     "output_type": "display_data"
    },
    {
     "name": "stdout",
     "output_type": "stream",
     "text": [
      "                        overall  Adult with school kid  \\\n",
      "0_Once every few trips      NaN                    5.0   \n",
      "0_Once in a while           NaN                    8.0   \n",
      "0_Rarely or never           NaN                   85.0   \n",
      "Every trip                  1.0                    NaN   \n",
      "Once every few trips        5.0                    NaN   \n",
      "Once in a while             9.0                    NaN   \n",
      "Rarely or never            83.0                    NaN   \n",
      "or almost every trip        1.0                    NaN   \n",
      "\n",
      "                        Adult without school kid  Senior  College kid  \n",
      "0_Once every few trips                       NaN     NaN          NaN  \n",
      "0_Once in a while                            NaN     NaN          NaN  \n",
      "0_Rarely or never                            NaN   100.0        100.0  \n",
      "Every trip                                   3.0     NaN          NaN  \n",
      "Once every few trips                         4.0     NaN          NaN  \n",
      "Once in a while                             13.0     NaN          NaN  \n",
      "Rarely or never                             78.0     NaN          NaN  \n",
      "or almost every trip                         3.0     NaN          NaN  \n"
     ]
    },
    {
     "data": {
      "text/markdown": [
       "## *Commuter_Driven_To_Station_Freq* (As % Of 157 Respondents):"
      ],
      "text/plain": [
       "<IPython.core.display.Markdown object>"
      ]
     },
     "metadata": {},
     "output_type": "display_data"
    },
    {
     "data": {
      "text/markdown": [
       "### Broken Down By Demographic:"
      ],
      "text/plain": [
       "<IPython.core.display.Markdown object>"
      ]
     },
     "metadata": {},
     "output_type": "display_data"
    },
    {
     "name": "stdout",
     "output_type": "stream",
     "text": [
      "                      overall  Adult with school kid  \\\n",
      "0_Once in a while         NaN                    NaN   \n",
      "0_Rarely or never         NaN                    NaN   \n",
      "Every trip                8.0                    5.0   \n",
      "Once every few trips      8.0                   10.0   \n",
      "Once in a while          24.0                   20.0   \n",
      "Rarely or never          57.0                   63.0   \n",
      "or almost every trip      8.0                    5.0   \n",
      "\n",
      "                      Adult without school kid  Senior  College kid  \n",
      "0_Once in a while                          NaN     NaN         50.0  \n",
      "0_Rarely or never                          NaN     NaN         50.0  \n",
      "Every trip                                 8.0    37.0          NaN  \n",
      "Once every few trips                       8.0     NaN          NaN  \n",
      "Once in a while                           29.0    37.0          NaN  \n",
      "Rarely or never                           54.0    25.0          NaN  \n",
      "or almost every trip                       8.0    37.0          NaN  \n"
     ]
    },
    {
     "data": {
      "text/markdown": [
       "## *Commuter_Bus_To_Station_Freq* (As % Of 157 Respondents):"
      ],
      "text/plain": [
       "<IPython.core.display.Markdown object>"
      ]
     },
     "metadata": {},
     "output_type": "display_data"
    },
    {
     "data": {
      "text/markdown": [
       "### Broken Down By Demographic:"
      ],
      "text/plain": [
       "<IPython.core.display.Markdown object>"
      ]
     },
     "metadata": {},
     "output_type": "display_data"
    },
    {
     "name": "stdout",
     "output_type": "stream",
     "text": [
      "                      overall  Adult with school kid  \\\n",
      "0_Rarely or never         NaN                    NaN   \n",
      "Every trip                3.0                    2.0   \n",
      "Once every few trips      2.0                    2.0   \n",
      "Once in a while           1.0                    2.0   \n",
      "Rarely or never          92.0                   92.0   \n",
      "or almost every trip      3.0                    2.0   \n",
      "\n",
      "                      Adult without school kid  Senior  College kid  \n",
      "0_Rarely or never                          NaN     NaN        100.0  \n",
      "Every trip                                 3.0    12.0          NaN  \n",
      "Once every few trips                       3.0     NaN          NaN  \n",
      "Once in a while                            1.0     NaN          NaN  \n",
      "Rarely or never                           91.0    87.0          NaN  \n",
      "or almost every trip                       3.0    12.0          NaN  \n"
     ]
    },
    {
     "data": {
      "text/markdown": [
       "## *No_Walk_Reason* (As % Of 488 Respondents):"
      ],
      "text/plain": [
       "<IPython.core.display.Markdown object>"
      ]
     },
     "metadata": {},
     "output_type": "display_data"
    },
    {
     "data": {
      "text/markdown": [
       "### Broken Down By Demographic:"
      ],
      "text/plain": [
       "<IPython.core.display.Markdown object>"
      ]
     },
     "metadata": {},
     "output_type": "display_data"
    },
    {
     "name": "stdout",
     "output_type": "stream",
     "text": [
      "                                              overall  Adult with school kid  \\\n",
      "0_No - I walk a lot                               NaN                    NaN   \n",
      "1_ I don't have time to walk                      NaN                    NaN   \n",
      "2_ Lack of crossing guards at intersections       NaN                    NaN   \n",
      "Fear of dangerous driving                        10.0                   14.0   \n",
      "Hills                                             NaN                    1.0   \n",
      "I do not like to walk                             1.0                    NaN   \n",
      "I don't have time to walk                        15.0                   16.0   \n",
      "I live too far to walk                            8.0                   10.0   \n",
      "Lack of adequate crosswalks at intersections      9.0                   13.0   \n",
      "Lack of adequate sidewalks                       20.0                   25.0   \n",
      "Lack of crossing guards at intersections          NaN                    NaN   \n",
      "My health condition                               5.0                    1.0   \n",
      "My own personal preference                       11.0                    6.0   \n",
      "No - I walk a lot                                38.0                   35.0   \n",
      "Visually unappealing                              3.0                    4.0   \n",
      "weather                                           NaN                    NaN   \n",
      "\n",
      "                                              Adult without school kid  \\\n",
      "0_No - I walk a lot                                                NaN   \n",
      "1_ I don't have time to walk                                       NaN   \n",
      "2_ Lack of crossing guards at intersections                        NaN   \n",
      "Fear of dangerous driving                                          9.0   \n",
      "Hills                                                              NaN   \n",
      "I do not like to walk                                              2.0   \n",
      "I don't have time to walk                                         16.0   \n",
      "I live too far to walk                                             8.0   \n",
      "Lack of adequate crosswalks at intersections                       7.0   \n",
      "Lack of adequate sidewalks                                        21.0   \n",
      "Lack of crossing guards at intersections                           NaN   \n",
      "My health condition                                                1.0   \n",
      "My own personal preference                                        14.0   \n",
      "No - I walk a lot                                                 37.0   \n",
      "Visually unappealing                                               3.0   \n",
      "weather                                                            NaN   \n",
      "\n",
      "                                              Senior  College kid  \\\n",
      "0_No - I walk a lot                              NaN          NaN   \n",
      "1_ I don't have time to walk                     NaN          NaN   \n",
      "2_ Lack of crossing guards at intersections      NaN          NaN   \n",
      "Fear of dangerous driving                        4.0         20.0   \n",
      "Hills                                            NaN          NaN   \n",
      "I do not like to walk                            NaN         40.0   \n",
      "I don't have time to walk                        8.0         40.0   \n",
      "I live too far to walk                           4.0         40.0   \n",
      "Lack of adequate crosswalks at intersections     4.0         20.0   \n",
      "Lack of adequate sidewalks                       9.0          NaN   \n",
      "Lack of crossing guards at intersections         NaN         20.0   \n",
      "My health condition                             15.0         20.0   \n",
      "My own personal preference                      16.0         40.0   \n",
      "No - I walk a lot                               44.0         20.0   \n",
      "Visually unappealing                             1.0         20.0   \n",
      "weather                                          0.0          NaN   \n",
      "\n",
      "                                              High School kid  \\\n",
      "0_No - I walk a lot                                       NaN   \n",
      "1_ I don't have time to walk                              NaN   \n",
      "2_ Lack of crossing guards at intersections               NaN   \n",
      "Fear of dangerous driving                                33.0   \n",
      "Hills                                                     NaN   \n",
      "I do not like to walk                                     NaN   \n",
      "I don't have time to walk                                33.0   \n",
      "I live too far to walk                                   33.0   \n",
      "Lack of adequate crosswalks at intersections              NaN   \n",
      "Lack of adequate sidewalks                               66.0   \n",
      "Lack of crossing guards at intersections                  NaN   \n",
      "My health condition                                       NaN   \n",
      "My own personal preference                                NaN   \n",
      "No - I walk a lot                                        33.0   \n",
      "Visually unappealing                                      NaN   \n",
      "weather                                                   NaN   \n",
      "\n",
      "                                              Middle School kid  \n",
      "0_No - I walk a lot                                       100.0  \n",
      "1_ I don't have time to walk                              100.0  \n",
      "2_ Lack of crossing guards at intersections               100.0  \n",
      "Fear of dangerous driving                                   NaN  \n",
      "Hills                                                       NaN  \n",
      "I do not like to walk                                       NaN  \n",
      "I don't have time to walk                                   NaN  \n",
      "I live too far to walk                                      NaN  \n",
      "Lack of adequate crosswalks at intersections                NaN  \n",
      "Lack of adequate sidewalks                                  NaN  \n",
      "Lack of crossing guards at intersections                    NaN  \n",
      "My health condition                                         NaN  \n",
      "My own personal preference                                  NaN  \n",
      "No - I walk a lot                                           NaN  \n",
      "Visually unappealing                                        NaN  \n",
      "weather                                                     NaN  \n"
     ]
    },
    {
     "data": {
      "text/markdown": [
       "## *No_Bike_Reason* (As % Of 479 Respondents):"
      ],
      "text/plain": [
       "<IPython.core.display.Markdown object>"
      ]
     },
     "metadata": {},
     "output_type": "display_data"
    },
    {
     "data": {
      "text/markdown": [
       "### Broken Down By Demographic:"
      ],
      "text/plain": [
       "<IPython.core.display.Markdown object>"
      ]
     },
     "metadata": {},
     "output_type": "display_data"
    },
    {
     "name": "stdout",
     "output_type": "stream",
     "text": [
      "                                             overall  Adult with school kid  \\\n",
      "0_No - I bicycle a lot                           NaN                    NaN   \n",
      "1_ Lack of adequate bike lanes                   NaN                    NaN   \n",
      "Croton is very hilly! It’s not easy riding.      NaN                    NaN   \n",
      "Don’t know how                                   NaN                    NaN   \n",
      "Fear of dangerous drivers                        NaN                    1.0   \n",
      "Fear of dangerous driving                       23.0                   30.0   \n",
      "Hills                                            0.0                    1.0   \n",
      "I do not like to bicycle                        16.0                   17.0   \n",
      "I don't have time to bicycle                    12.0                   15.0   \n",
      "I don't own a Bicycle                            NaN                    NaN   \n",
      "I live too far to bicycle                        3.0                    3.0   \n",
      "Lack of adequate bike lanes                     22.0                   27.0   \n",
      "My health condition                              4.0                    NaN   \n",
      "My own personal preference                      17.0                   14.0   \n",
      "No - I bicycle a lot                            10.0                   10.0   \n",
      "Visually unappealing                             1.0                    1.0   \n",
      "uneven surfaces etc.                             NaN                    NaN   \n",
      "weather                                          NaN                    NaN   \n",
      "\n",
      "                                             Adult without school kid  Senior  \\\n",
      "0_No - I bicycle a lot                                            NaN     NaN   \n",
      "1_ Lack of adequate bike lanes                                    NaN     NaN   \n",
      "Croton is very hilly! It’s not easy riding.                       NaN     NaN   \n",
      "Don’t know how                                                    NaN     1.0   \n",
      "Fear of dangerous drivers                                         NaN     NaN   \n",
      "Fear of dangerous driving                                        24.0    10.0   \n",
      "Hills                                                             1.0     NaN   \n",
      "I do not like to bicycle                                         12.0    19.0   \n",
      "I don't have time to bicycle                                     16.0     2.0   \n",
      "I don't own a Bicycle                                             NaN     0.0   \n",
      "I live too far to bicycle                                         4.0     NaN   \n",
      "Lack of adequate bike lanes                                      25.0     9.0   \n",
      "My health condition                                               3.0    12.0   \n",
      "My own personal preference                                       22.0    16.0   \n",
      "No - I bicycle a lot                                              7.0    12.0   \n",
      "Visually unappealing                                              NaN     NaN   \n",
      "uneven surfaces etc.                                              NaN     0.0   \n",
      "weather                                                           1.0     NaN   \n",
      "\n",
      "                                             College kid  High School kid  \\\n",
      "0_No - I bicycle a lot                               NaN              NaN   \n",
      "1_ Lack of adequate bike lanes                       NaN              NaN   \n",
      "Croton is very hilly! It’s not easy riding.         20.0              NaN   \n",
      "Don’t know how                                       NaN              NaN   \n",
      "Fear of dangerous drivers                            NaN              NaN   \n",
      "Fear of dangerous driving                           20.0             66.0   \n",
      "Hills                                                NaN              NaN   \n",
      "I do not like to bicycle                            20.0              NaN   \n",
      "I don't have time to bicycle                        20.0             33.0   \n",
      "I don't own a Bicycle                                NaN              NaN   \n",
      "I live too far to bicycle                            NaN             33.0   \n",
      "Lack of adequate bike lanes                         20.0             33.0   \n",
      "My health condition                                  NaN              NaN   \n",
      "My own personal preference                          60.0              NaN   \n",
      "No - I bicycle a lot                                20.0              NaN   \n",
      "Visually unappealing                                 NaN              NaN   \n",
      "uneven surfaces etc.                                 NaN              NaN   \n",
      "weather                                              NaN              NaN   \n",
      "\n",
      "                                             Middle School kid  \n",
      "0_No - I bicycle a lot                                   100.0  \n",
      "1_ Lack of adequate bike lanes                           100.0  \n",
      "Croton is very hilly! It’s not easy riding.                NaN  \n",
      "Don’t know how                                             NaN  \n",
      "Fear of dangerous drivers                                  NaN  \n",
      "Fear of dangerous driving                                  NaN  \n",
      "Hills                                                      NaN  \n",
      "I do not like to bicycle                                   NaN  \n",
      "I don't have time to bicycle                               NaN  \n",
      "I don't own a Bicycle                                      NaN  \n",
      "I live too far to bicycle                                  NaN  \n",
      "Lack of adequate bike lanes                                NaN  \n",
      "My health condition                                        NaN  \n",
      "My own personal preference                                 NaN  \n",
      "No - I bicycle a lot                                       NaN  \n",
      "Visually unappealing                                       NaN  \n",
      "uneven surfaces etc.                                       NaN  \n",
      "weather                                                    NaN  \n"
     ]
    },
    {
     "data": {
      "text/markdown": [
       "## *Drive_Reason* (As % Of 476 Respondents):"
      ],
      "text/plain": [
       "<IPython.core.display.Markdown object>"
      ]
     },
     "metadata": {},
     "output_type": "display_data"
    },
    {
     "data": {
      "text/markdown": [
       "### Broken Down By Demographic:"
      ],
      "text/plain": [
       "<IPython.core.display.Markdown object>"
      ]
     },
     "metadata": {},
     "output_type": "display_data"
    },
    {
     "name": "stdout",
     "output_type": "stream",
     "text": [
      "                                                    overall  \\\n",
      "0_My own personal preference                            NaN   \n",
      "Blue Pig                                                NaN   \n",
      "Convenience                                             0.0   \n",
      "Distance from my airy                                   NaN   \n",
      "Hills                                                   1.0   \n",
      "I don't have time to walk or bicycle                   24.0   \n",
      "I drop my kids off at Happy Hearts and can't bi...      NaN   \n",
      "I use the car during bad weather or when I need...      NaN   \n",
      "Many Overgrown sidewalks                                NaN   \n",
      "My own health condition                                 4.0   \n",
      "My own personal preference                             33.0   \n",
      "No - I do not drive                                     7.0   \n",
      "Safety concerns with bicycling                         16.0   \n",
      "Safety concerns with walking                           10.0   \n",
      "Time                                                    1.0   \n",
      "Too far                                                 NaN   \n",
      "or prefer not to drive                                  7.0   \n",
      "time                                                    NaN   \n",
      "\n",
      "                                                    Adult with school kid  \\\n",
      "0_My own personal preference                                          NaN   \n",
      "Blue Pig                                                              NaN   \n",
      "Convenience                                                           1.0   \n",
      "Distance from my airy                                                 NaN   \n",
      "Hills                                                                 2.0   \n",
      "I don't have time to walk or bicycle                                 27.0   \n",
      "I drop my kids off at Happy Hearts and can't bi...                    NaN   \n",
      "I use the car during bad weather or when I need...                    NaN   \n",
      "Many Overgrown sidewalks                                              NaN   \n",
      "My own health condition                                               NaN   \n",
      "My own personal preference                                           28.0   \n",
      "No - I do not drive                                                   7.0   \n",
      "Safety concerns with bicycling                                       20.0   \n",
      "Safety concerns with walking                                         14.0   \n",
      "Time                                                                  2.0   \n",
      "Too far                                                               NaN   \n",
      "or prefer not to drive                                                7.0   \n",
      "time                                                                  1.0   \n",
      "\n",
      "                                                    Adult without school kid  \\\n",
      "0_My own personal preference                                             NaN   \n",
      "Blue Pig                                                                 0.0   \n",
      "Convenience                                                              NaN   \n",
      "Distance from my airy                                                    NaN   \n",
      "Hills                                                                    NaN   \n",
      "I don't have time to walk or bicycle                                    25.0   \n",
      "I drop my kids off at Happy Hearts and can't bi...                       0.0   \n",
      "I use the car during bad weather or when I need...                       NaN   \n",
      "Many Overgrown sidewalks                                                 NaN   \n",
      "My own health condition                                                  3.0   \n",
      "My own personal preference                                              34.0   \n",
      "No - I do not drive                                                      7.0   \n",
      "Safety concerns with bicycling                                          17.0   \n",
      "Safety concerns with walking                                            11.0   \n",
      "Time                                                                     NaN   \n",
      "Too far                                                                  1.0   \n",
      "or prefer not to drive                                                   7.0   \n",
      "time                                                                     NaN   \n",
      "\n",
      "                                                    Senior  College kid  \\\n",
      "0_My own personal preference                           NaN          NaN   \n",
      "Blue Pig                                               NaN          NaN   \n",
      "Convenience                                            NaN         20.0   \n",
      "Distance from my airy                                  1.0          NaN   \n",
      "Hills                                                  NaN          NaN   \n",
      "I don't have time to walk or bicycle                  17.0         60.0   \n",
      "I drop my kids off at Happy Hearts and can't bi...     NaN          NaN   \n",
      "I use the car during bad weather or when I need...     0.0          NaN   \n",
      "Many Overgrown sidewalks                               0.0          NaN   \n",
      "My own health condition                               13.0          NaN   \n",
      "My own personal preference                            39.0         40.0   \n",
      "No - I do not drive                                    7.0          NaN   \n",
      "Safety concerns with bicycling                        11.0          NaN   \n",
      "Safety concerns with walking                           4.0          NaN   \n",
      "Time                                                   NaN          NaN   \n",
      "Too far                                                NaN          NaN   \n",
      "or prefer not to drive                                 7.0          NaN   \n",
      "time                                                   NaN          NaN   \n",
      "\n",
      "                                                    High School kid  \\\n",
      "0_My own personal preference                                    NaN   \n",
      "Blue Pig                                                        NaN   \n",
      "Convenience                                                     NaN   \n",
      "Distance from my airy                                           NaN   \n",
      "Hills                                                           NaN   \n",
      "I don't have time to walk or bicycle                           66.0   \n",
      "I drop my kids off at Happy Hearts and can't bi...              NaN   \n",
      "I use the car during bad weather or when I need...              NaN   \n",
      "Many Overgrown sidewalks                                        NaN   \n",
      "My own health condition                                         NaN   \n",
      "My own personal preference                                      NaN   \n",
      "No - I do not drive                                            33.0   \n",
      "Safety concerns with bicycling                                  NaN   \n",
      "Safety concerns with walking                                    NaN   \n",
      "Time                                                            NaN   \n",
      "Too far                                                         NaN   \n",
      "or prefer not to drive                                         33.0   \n",
      "time                                                            NaN   \n",
      "\n",
      "                                                    Middle School kid  \n",
      "0_My own personal preference                                    100.0  \n",
      "Blue Pig                                                          NaN  \n",
      "Convenience                                                       NaN  \n",
      "Distance from my airy                                             NaN  \n",
      "Hills                                                             NaN  \n",
      "I don't have time to walk or bicycle                              NaN  \n",
      "I drop my kids off at Happy Hearts and can't bi...                NaN  \n",
      "I use the car during bad weather or when I need...                NaN  \n",
      "Many Overgrown sidewalks                                          NaN  \n",
      "My own health condition                                           NaN  \n",
      "My own personal preference                                        NaN  \n",
      "No - I do not drive                                               NaN  \n",
      "Safety concerns with bicycling                                    NaN  \n",
      "Safety concerns with walking                                      NaN  \n",
      "Time                                                              NaN  \n",
      "Too far                                                           NaN  \n",
      "or prefer not to drive                                            NaN  \n",
      "time                                                              NaN  \n"
     ]
    },
    {
     "data": {
      "text/markdown": [
       "## *Drivers_Are_Safe* (As % Of 493 Respondents):"
      ],
      "text/plain": [
       "<IPython.core.display.Markdown object>"
      ]
     },
     "metadata": {},
     "output_type": "display_data"
    },
    {
     "data": {
      "text/markdown": [
       "### Broken Down By Demographic:"
      ],
      "text/plain": [
       "<IPython.core.display.Markdown object>"
      ]
     },
     "metadata": {},
     "output_type": "display_data"
    },
    {
     "name": "stdout",
     "output_type": "stream",
     "text": [
      "    overall  Adult with school kid  Adult without school kid  Senior  \\\n",
      "[]      100                    100                       100     100   \n",
      "\n",
      "    College kid  High School kid  Middle School kid  \n",
      "[]          100              100                100  \n"
     ]
    },
    {
     "data": {
      "text/markdown": [
       "## *Bicyclists_Are_Safe* (As % Of 485 Respondents):"
      ],
      "text/plain": [
       "<IPython.core.display.Markdown object>"
      ]
     },
     "metadata": {},
     "output_type": "display_data"
    },
    {
     "data": {
      "text/markdown": [
       "### Broken Down By Demographic:"
      ],
      "text/plain": [
       "<IPython.core.display.Markdown object>"
      ]
     },
     "metadata": {},
     "output_type": "display_data"
    },
    {
     "name": "stdout",
     "output_type": "stream",
     "text": [
      "    overall  Adult with school kid  Adult without school kid  Senior  \\\n",
      "[]      100                    100                       100     100   \n",
      "\n",
      "    College kid  High School kid  Middle School kid  \n",
      "[]          100              100                100  \n"
     ]
    },
    {
     "data": {
      "text/markdown": [
       "## *Contact_Interest* (As % Of 457 Respondents):"
      ],
      "text/plain": [
       "<IPython.core.display.Markdown object>"
      ]
     },
     "metadata": {},
     "output_type": "display_data"
    },
    {
     "data": {
      "text/markdown": [
       "### Broken Down By Demographic:"
      ],
      "text/plain": [
       "<IPython.core.display.Markdown object>"
      ]
     },
     "metadata": {},
     "output_type": "display_data"
    },
    {
     "name": "stdout",
     "output_type": "stream",
     "text": [
      "       overall  Adult with school kid  Adult without school kid  Senior  \\\n",
      "0_No        54                     52                        53      55   \n",
      "0_Yes       45                     47                        46      44   \n",
      "\n",
      "       College kid  High School kid  Middle School kid  \n",
      "0_No            60            100.0              100.0  \n",
      "0_Yes           40              NaN                NaN  \n"
     ]
    }
   ],
   "source": [
    "# a list of multiple-choice columns we'd like to analyze\n",
    "checkbox_fields = [ 'schools', 'child_bus_freq', 'child_walk_freq', 'child_driven_freq', 'child_drive_freq', 'child_bike_freq', 'child_drive_reason', 'child_no_walk_reason', 'child_no_bike_reason', 'walk_freq', 'bike_freq', 'bikes_on_sidewalk', 'self_jog_frequency', 'commutes', 'child_self_school', 'child_self_bus_freq', 'child_self_bike_freq', 'child_self_driven_freq', 'child_self_drive_freq', 'child_self_walk_freq', 'child_self_commutes', 'child_self_has_children', 'commuter_distance', 'commuter_type', 'commuter_walk_to_station_freq', 'commuter_bike_to_station_freq', 'commuter_drive_to_station_freq', 'commuter_carpool_to_station_freq', 'commuter_driven_to_station_freq', 'commuter_bus_to_station_freq', 'no_walk_reason', 'no_bike_reason', 'drive_reason', 'drivers_are_safe', 'bicyclists_are_safe', 'contact_interest' ]\n",
    "\n",
    "# builds a set of columns representing each demographic's \n",
    "def break_down_by(column_title, breakdown_column='demographic'):\n",
    "    \n",
    "    # get the overall reasons people gave for each\n",
    "    responses = get_responses(column_title, df, series_name='overall')\n",
    "    # convert to dataframe\n",
    "    df2 = responses.to_frame()\n",
    "    \n",
    "    # add on columns for each demographic to the dataframe\n",
    "    for breakdown_index, v in df[breakdown_column].value_counts().items():\n",
    "        df3 = df[df[breakdown_column] == breakdown_index ]\n",
    "        try:\n",
    "            # get the reasons this specific demographic gave for this column\n",
    "            responses = get_responses(column_title, df3, breakdown_index, series_name=breakdown_index)\n",
    "            df2 = pd.concat([df2, responses.to_frame()], axis=1)\n",
    "            #print(df2)\n",
    "        except:\n",
    "            # there were no responses from this demographic\n",
    "            continue\n",
    "            \n",
    "    return df2\n",
    "\n",
    "        \n",
    "# loop through each of the checkbox-type questions\n",
    "for column_title in checkbox_fields:\n",
    "    \n",
    "    # break this column down by demographic\n",
    "    df2 = break_down_by(column_title, breakdown_column='demographic')\n",
    "    \n",
    "    # break this column down by demographic\n",
    "    df3 = break_down_by(column_title, breakdown_column='neighborhood')\n",
    "    \n",
    "    # output top 10 results\n",
    "    num_respondents = df[pd.notnull(df[column_title])].shape[0] # get the number of people who answered this question\n",
    "    display(Markdown('## *{}* (as % of {} respondents):'.format(column_title, num_respondents).title()))\n",
    "\n",
    "    display(Markdown('### Broken down by demographic:'.title()))\n",
    "    print(df2)\n",
    "    #display(Markdown('### Broken down by neighborhood:'.title()))\n",
    "    #print(df3)\n",
    "    "
   ]
  },
  {
   "cell_type": "markdown",
   "metadata": {},
   "source": [
    "## Who rides on the sidewalk?"
   ]
  },
  {
   "cell_type": "markdown",
   "metadata": {},
   "source": [
    "### Overall"
   ]
  },
  {
   "cell_type": "code",
   "execution_count": 7,
   "metadata": {},
   "outputs": [
    {
     "data": {
      "text/html": [
       "<div>\n",
       "<style scoped>\n",
       "    .dataframe tbody tr th:only-of-type {\n",
       "        vertical-align: middle;\n",
       "    }\n",
       "\n",
       "    .dataframe tbody tr th {\n",
       "        vertical-align: top;\n",
       "    }\n",
       "\n",
       "    .dataframe thead th {\n",
       "        text-align: right;\n",
       "    }\n",
       "</style>\n",
       "<table border=\"1\" class=\"dataframe\">\n",
       "  <thead>\n",
       "    <tr style=\"text-align: right;\">\n",
       "      <th></th>\n",
       "      <th>bikes_on_sidewalk</th>\n",
       "    </tr>\n",
       "  </thead>\n",
       "  <tbody>\n",
       "    <tr>\n",
       "      <th>No - I don't bicycle</th>\n",
       "      <td>49</td>\n",
       "    </tr>\n",
       "    <tr>\n",
       "      <th>No - I only bicycle on the road</th>\n",
       "      <td>29</td>\n",
       "    </tr>\n",
       "    <tr>\n",
       "      <th>Yes</th>\n",
       "      <td>23</td>\n",
       "    </tr>\n",
       "  </tbody>\n",
       "</table>\n",
       "</div>"
      ],
      "text/plain": [
       "                                 bikes_on_sidewalk\n",
       "No - I don't bicycle                            49\n",
       "No - I only bicycle on the road                 29\n",
       "Yes                                             23"
      ]
     },
     "execution_count": 7,
     "metadata": {},
     "output_type": "execute_result"
    }
   ],
   "source": [
    "# do people generally bike on the sidewalk?\n",
    "df['bikes_on_sidewalk'].value_counts().to_frame().apply(lambda x: 100 * x / x.sum()).round(0).astype(int).sort_index()\n"
   ]
  },
  {
   "cell_type": "markdown",
   "metadata": {},
   "source": [
    "### People who never bike"
   ]
  },
  {
   "cell_type": "code",
   "execution_count": 8,
   "metadata": {},
   "outputs": [
    {
     "data": {
      "text/html": [
       "<div>\n",
       "<style scoped>\n",
       "    .dataframe tbody tr th:only-of-type {\n",
       "        vertical-align: middle;\n",
       "    }\n",
       "\n",
       "    .dataframe tbody tr th {\n",
       "        vertical-align: top;\n",
       "    }\n",
       "\n",
       "    .dataframe thead th {\n",
       "        text-align: right;\n",
       "    }\n",
       "</style>\n",
       "<table border=\"1\" class=\"dataframe\">\n",
       "  <thead>\n",
       "    <tr style=\"text-align: right;\">\n",
       "      <th></th>\n",
       "      <th>bikes_on_sidewalk</th>\n",
       "    </tr>\n",
       "  </thead>\n",
       "  <tbody>\n",
       "    <tr>\n",
       "      <th>No - I don't bicycle</th>\n",
       "      <td>80</td>\n",
       "    </tr>\n",
       "    <tr>\n",
       "      <th>No - I only bicycle on the road</th>\n",
       "      <td>13</td>\n",
       "    </tr>\n",
       "    <tr>\n",
       "      <th>Yes</th>\n",
       "      <td>7</td>\n",
       "    </tr>\n",
       "  </tbody>\n",
       "</table>\n",
       "</div>"
      ],
      "text/plain": [
       "                                 bikes_on_sidewalk\n",
       "No - I don't bicycle                            80\n",
       "No - I only bicycle on the road                 13\n",
       "Yes                                              7"
      ]
     },
     "execution_count": 8,
     "metadata": {},
     "output_type": "execute_result"
    }
   ],
   "source": [
    "# do people who never bike claim to ride on the sidewalk?\n",
    "df2 = df[ df['bike_freq'].isin(['Rarely or never']) ]\n",
    "df2['bikes_on_sidewalk'].value_counts().to_frame().apply(lambda x: 100 * x / x.sum()).round(0).astype(int).sort_index()\n"
   ]
  },
  {
   "cell_type": "markdown",
   "metadata": {},
   "source": [
    "### People who bike at least occasionally"
   ]
  },
  {
   "cell_type": "code",
   "execution_count": 9,
   "metadata": {},
   "outputs": [
    {
     "data": {
      "text/html": [
       "<div>\n",
       "<style scoped>\n",
       "    .dataframe tbody tr th:only-of-type {\n",
       "        vertical-align: middle;\n",
       "    }\n",
       "\n",
       "    .dataframe tbody tr th {\n",
       "        vertical-align: top;\n",
       "    }\n",
       "\n",
       "    .dataframe thead th {\n",
       "        text-align: right;\n",
       "    }\n",
       "</style>\n",
       "<table border=\"1\" class=\"dataframe\">\n",
       "  <thead>\n",
       "    <tr style=\"text-align: right;\">\n",
       "      <th></th>\n",
       "      <th>bikes_on_sidewalk</th>\n",
       "    </tr>\n",
       "  </thead>\n",
       "  <tbody>\n",
       "    <tr>\n",
       "      <th>No - I don't bicycle</th>\n",
       "      <td>1</td>\n",
       "    </tr>\n",
       "    <tr>\n",
       "      <th>No - I only bicycle on the road</th>\n",
       "      <td>53</td>\n",
       "    </tr>\n",
       "    <tr>\n",
       "      <th>Yes</th>\n",
       "      <td>46</td>\n",
       "    </tr>\n",
       "  </tbody>\n",
       "</table>\n",
       "</div>"
      ],
      "text/plain": [
       "                                 bikes_on_sidewalk\n",
       "No - I don't bicycle                             1\n",
       "No - I only bicycle on the road                 53\n",
       "Yes                                             46"
      ]
     },
     "execution_count": 9,
     "metadata": {},
     "output_type": "execute_result"
    }
   ],
   "source": [
    "# do people who ride a bike occasionally or more ride on the sidewalk?\n",
    "df2 = df[ df['bike_freq'].isin(['Every day, or almost every day', 'Once every few days', 'Once in a while']) ]\n",
    "df2['bikes_on_sidewalk'].value_counts().to_frame().apply(lambda x: 100 * x / x.sum()).round(0).astype(int).sort_index()\n"
   ]
  },
  {
   "cell_type": "markdown",
   "metadata": {},
   "source": [
    "### People who bike a lot"
   ]
  },
  {
   "cell_type": "code",
   "execution_count": 10,
   "metadata": {},
   "outputs": [
    {
     "data": {
      "text/html": [
       "<div>\n",
       "<style scoped>\n",
       "    .dataframe tbody tr th:only-of-type {\n",
       "        vertical-align: middle;\n",
       "    }\n",
       "\n",
       "    .dataframe tbody tr th {\n",
       "        vertical-align: top;\n",
       "    }\n",
       "\n",
       "    .dataframe thead th {\n",
       "        text-align: right;\n",
       "    }\n",
       "</style>\n",
       "<table border=\"1\" class=\"dataframe\">\n",
       "  <thead>\n",
       "    <tr style=\"text-align: right;\">\n",
       "      <th></th>\n",
       "      <th>bikes_on_sidewalk</th>\n",
       "    </tr>\n",
       "  </thead>\n",
       "  <tbody>\n",
       "    <tr>\n",
       "      <th>No - I only bicycle on the road</th>\n",
       "      <td>58</td>\n",
       "    </tr>\n",
       "    <tr>\n",
       "      <th>Yes</th>\n",
       "      <td>42</td>\n",
       "    </tr>\n",
       "  </tbody>\n",
       "</table>\n",
       "</div>"
      ],
      "text/plain": [
       "                                 bikes_on_sidewalk\n",
       "No - I only bicycle on the road                 58\n",
       "Yes                                             42"
      ]
     },
     "execution_count": 10,
     "metadata": {},
     "output_type": "execute_result"
    }
   ],
   "source": [
    "# do people who bike a lot ride on the sidewalk?\n",
    "df2 = df[ df['bike_freq'].isin(['Every day, or almost every day']) ]\n",
    "df2['bikes_on_sidewalk'].value_counts().to_frame().apply(lambda x: 100 * x / x.sum()).round(0).astype(int).sort_index()\n"
   ]
  },
  {
   "cell_type": "markdown",
   "metadata": {},
   "source": [
    "## Who thinks drivers are safe?"
   ]
  },
  {
   "cell_type": "markdown",
   "metadata": {},
   "source": [
    "### Overall"
   ]
  },
  {
   "cell_type": "code",
   "execution_count": 11,
   "metadata": {
    "scrolled": true
   },
   "outputs": [
    {
     "data": {
      "text/html": [
       "<div>\n",
       "<style scoped>\n",
       "    .dataframe tbody tr th:only-of-type {\n",
       "        vertical-align: middle;\n",
       "    }\n",
       "\n",
       "    .dataframe tbody tr th {\n",
       "        vertical-align: top;\n",
       "    }\n",
       "\n",
       "    .dataframe thead th {\n",
       "        text-align: right;\n",
       "    }\n",
       "</style>\n",
       "<table border=\"1\" class=\"dataframe\">\n",
       "  <thead>\n",
       "    <tr style=\"text-align: right;\">\n",
       "      <th></th>\n",
       "      <th>drivers_are_safe</th>\n",
       "    </tr>\n",
       "  </thead>\n",
       "  <tbody>\n",
       "    <tr>\n",
       "      <th>1.0</th>\n",
       "      <td>9</td>\n",
       "    </tr>\n",
       "    <tr>\n",
       "      <th>2.0</th>\n",
       "      <td>30</td>\n",
       "    </tr>\n",
       "    <tr>\n",
       "      <th>3.0</th>\n",
       "      <td>47</td>\n",
       "    </tr>\n",
       "    <tr>\n",
       "      <th>4.0</th>\n",
       "      <td>14</td>\n",
       "    </tr>\n",
       "  </tbody>\n",
       "</table>\n",
       "</div>"
      ],
      "text/plain": [
       "     drivers_are_safe\n",
       "1.0                 9\n",
       "2.0                30\n",
       "3.0                47\n",
       "4.0                14"
      ]
     },
     "execution_count": 11,
     "metadata": {},
     "output_type": "execute_result"
    }
   ],
   "source": [
    "# do people generally think drivers are safe?\n",
    "df['drivers_are_safe'].value_counts().to_frame().apply(lambda x: 100 * x / x.sum()).round(0).astype(int).sort_index()"
   ]
  },
  {
   "cell_type": "markdown",
   "metadata": {},
   "source": [
    "### People who walk a lot"
   ]
  },
  {
   "cell_type": "code",
   "execution_count": 12,
   "metadata": {},
   "outputs": [
    {
     "data": {
      "text/html": [
       "<div>\n",
       "<style scoped>\n",
       "    .dataframe tbody tr th:only-of-type {\n",
       "        vertical-align: middle;\n",
       "    }\n",
       "\n",
       "    .dataframe tbody tr th {\n",
       "        vertical-align: top;\n",
       "    }\n",
       "\n",
       "    .dataframe thead th {\n",
       "        text-align: right;\n",
       "    }\n",
       "</style>\n",
       "<table border=\"1\" class=\"dataframe\">\n",
       "  <thead>\n",
       "    <tr style=\"text-align: right;\">\n",
       "      <th></th>\n",
       "      <th>drivers_are_safe</th>\n",
       "    </tr>\n",
       "  </thead>\n",
       "  <tbody>\n",
       "    <tr>\n",
       "      <th>1.0</th>\n",
       "      <td>11</td>\n",
       "    </tr>\n",
       "    <tr>\n",
       "      <th>2.0</th>\n",
       "      <td>32</td>\n",
       "    </tr>\n",
       "    <tr>\n",
       "      <th>3.0</th>\n",
       "      <td>46</td>\n",
       "    </tr>\n",
       "    <tr>\n",
       "      <th>4.0</th>\n",
       "      <td>10</td>\n",
       "    </tr>\n",
       "  </tbody>\n",
       "</table>\n",
       "</div>"
      ],
      "text/plain": [
       "     drivers_are_safe\n",
       "1.0                11\n",
       "2.0                32\n",
       "3.0                46\n",
       "4.0                10"
      ]
     },
     "execution_count": 12,
     "metadata": {},
     "output_type": "execute_result"
    }
   ],
   "source": [
    "# do people who walk a lot think drivers are safe?\n",
    "df2 = df[ df['walk_freq'].isin(['Every day, or almost every day', 'Once every few days']) ]\n",
    "df2['drivers_are_safe'].value_counts().to_frame().apply(lambda x: 100 * x / x.sum()).round(0).astype(int).sort_index()\n"
   ]
  },
  {
   "cell_type": "markdown",
   "metadata": {},
   "source": [
    "### People who rarely walk"
   ]
  },
  {
   "cell_type": "code",
   "execution_count": 22,
   "metadata": {},
   "outputs": [
    {
     "data": {
      "text/html": [
       "<div>\n",
       "<style scoped>\n",
       "    .dataframe tbody tr th:only-of-type {\n",
       "        vertical-align: middle;\n",
       "    }\n",
       "\n",
       "    .dataframe tbody tr th {\n",
       "        vertical-align: top;\n",
       "    }\n",
       "\n",
       "    .dataframe thead th {\n",
       "        text-align: right;\n",
       "    }\n",
       "</style>\n",
       "<table border=\"1\" class=\"dataframe\">\n",
       "  <thead>\n",
       "    <tr style=\"text-align: right;\">\n",
       "      <th></th>\n",
       "      <th>drivers_are_safe</th>\n",
       "    </tr>\n",
       "  </thead>\n",
       "  <tbody>\n",
       "    <tr>\n",
       "      <th>1.0</th>\n",
       "      <td>6</td>\n",
       "    </tr>\n",
       "    <tr>\n",
       "      <th>2.0</th>\n",
       "      <td>25</td>\n",
       "    </tr>\n",
       "    <tr>\n",
       "      <th>3.0</th>\n",
       "      <td>46</td>\n",
       "    </tr>\n",
       "    <tr>\n",
       "      <th>4.0</th>\n",
       "      <td>22</td>\n",
       "    </tr>\n",
       "  </tbody>\n",
       "</table>\n",
       "</div>"
      ],
      "text/plain": [
       "     drivers_are_safe\n",
       "1.0                 6\n",
       "2.0                25\n",
       "3.0                46\n",
       "4.0                22"
      ]
     },
     "execution_count": 22,
     "metadata": {},
     "output_type": "execute_result"
    }
   ],
   "source": [
    "# do people who rarely walk think drivers are safe?\n",
    "df2 = df[ df['walk_freq'].isin(['Rarely or never', 'Once in a while']) ]\n",
    "df2['drivers_are_safe'].value_counts().to_frame().apply(lambda x: 100 * x / x.sum()).round(0).astype(int).sort_index()\n"
   ]
  },
  {
   "cell_type": "markdown",
   "metadata": {},
   "source": [
    "### People who never walk"
   ]
  },
  {
   "cell_type": "code",
   "execution_count": 14,
   "metadata": {},
   "outputs": [
    {
     "data": {
      "text/html": [
       "<div>\n",
       "<style scoped>\n",
       "    .dataframe tbody tr th:only-of-type {\n",
       "        vertical-align: middle;\n",
       "    }\n",
       "\n",
       "    .dataframe tbody tr th {\n",
       "        vertical-align: top;\n",
       "    }\n",
       "\n",
       "    .dataframe thead th {\n",
       "        text-align: right;\n",
       "    }\n",
       "</style>\n",
       "<table border=\"1\" class=\"dataframe\">\n",
       "  <thead>\n",
       "    <tr style=\"text-align: right;\">\n",
       "      <th></th>\n",
       "      <th>drivers_are_safe</th>\n",
       "    </tr>\n",
       "  </thead>\n",
       "  <tbody>\n",
       "    <tr>\n",
       "      <th>1.0</th>\n",
       "      <td>10</td>\n",
       "    </tr>\n",
       "    <tr>\n",
       "      <th>2.0</th>\n",
       "      <td>22</td>\n",
       "    </tr>\n",
       "    <tr>\n",
       "      <th>3.0</th>\n",
       "      <td>42</td>\n",
       "    </tr>\n",
       "    <tr>\n",
       "      <th>4.0</th>\n",
       "      <td>25</td>\n",
       "    </tr>\n",
       "  </tbody>\n",
       "</table>\n",
       "</div>"
      ],
      "text/plain": [
       "     drivers_are_safe\n",
       "1.0                10\n",
       "2.0                22\n",
       "3.0                42\n",
       "4.0                25"
      ]
     },
     "execution_count": 14,
     "metadata": {},
     "output_type": "execute_result"
    }
   ],
   "source": [
    "# do people who never walk think drivers are safe?\n",
    "df2 = df[ df['walk_freq'].isin(['Rarely or never']) ]\n",
    "df2['drivers_are_safe'].value_counts().to_frame().apply(lambda x: 100 * x / x.sum()).round(0).astype(int).sort_index()\n"
   ]
  },
  {
   "cell_type": "markdown",
   "metadata": {},
   "source": [
    "### People who bike frequently"
   ]
  },
  {
   "cell_type": "code",
   "execution_count": 23,
   "metadata": {},
   "outputs": [
    {
     "data": {
      "text/html": [
       "<div>\n",
       "<style scoped>\n",
       "    .dataframe tbody tr th:only-of-type {\n",
       "        vertical-align: middle;\n",
       "    }\n",
       "\n",
       "    .dataframe tbody tr th {\n",
       "        vertical-align: top;\n",
       "    }\n",
       "\n",
       "    .dataframe thead th {\n",
       "        text-align: right;\n",
       "    }\n",
       "</style>\n",
       "<table border=\"1\" class=\"dataframe\">\n",
       "  <thead>\n",
       "    <tr style=\"text-align: right;\">\n",
       "      <th></th>\n",
       "      <th>drivers_are_safe</th>\n",
       "    </tr>\n",
       "  </thead>\n",
       "  <tbody>\n",
       "    <tr>\n",
       "      <th>1.0</th>\n",
       "      <td>13</td>\n",
       "    </tr>\n",
       "    <tr>\n",
       "      <th>2.0</th>\n",
       "      <td>33</td>\n",
       "    </tr>\n",
       "    <tr>\n",
       "      <th>3.0</th>\n",
       "      <td>47</td>\n",
       "    </tr>\n",
       "    <tr>\n",
       "      <th>4.0</th>\n",
       "      <td>8</td>\n",
       "    </tr>\n",
       "  </tbody>\n",
       "</table>\n",
       "</div>"
      ],
      "text/plain": [
       "     drivers_are_safe\n",
       "1.0                13\n",
       "2.0                33\n",
       "3.0                47\n",
       "4.0                 8"
      ]
     },
     "execution_count": 23,
     "metadata": {},
     "output_type": "execute_result"
    }
   ],
   "source": [
    "# do people who bike a lot think drivers are safe?\n",
    "df2 = df[ df['bike_freq'].isin(['Every day, or almost every day', 'Once every few days']) ]\n",
    "df2['drivers_are_safe'].value_counts().to_frame().apply(lambda x: 100 * x / x.sum()).round(0).astype(int).sort_index()"
   ]
  },
  {
   "cell_type": "markdown",
   "metadata": {},
   "source": [
    "## Who thinks bicyclists are safe?"
   ]
  },
  {
   "cell_type": "markdown",
   "metadata": {},
   "source": [
    "### Overall"
   ]
  },
  {
   "cell_type": "code",
   "execution_count": 15,
   "metadata": {},
   "outputs": [
    {
     "data": {
      "text/html": [
       "<div>\n",
       "<style scoped>\n",
       "    .dataframe tbody tr th:only-of-type {\n",
       "        vertical-align: middle;\n",
       "    }\n",
       "\n",
       "    .dataframe tbody tr th {\n",
       "        vertical-align: top;\n",
       "    }\n",
       "\n",
       "    .dataframe thead th {\n",
       "        text-align: right;\n",
       "    }\n",
       "</style>\n",
       "<table border=\"1\" class=\"dataframe\">\n",
       "  <thead>\n",
       "    <tr style=\"text-align: right;\">\n",
       "      <th></th>\n",
       "      <th>bicyclists_are_safe</th>\n",
       "    </tr>\n",
       "  </thead>\n",
       "  <tbody>\n",
       "    <tr>\n",
       "      <th>1.0</th>\n",
       "      <td>13</td>\n",
       "    </tr>\n",
       "    <tr>\n",
       "      <th>2.0</th>\n",
       "      <td>23</td>\n",
       "    </tr>\n",
       "    <tr>\n",
       "      <th>3.0</th>\n",
       "      <td>49</td>\n",
       "    </tr>\n",
       "    <tr>\n",
       "      <th>4.0</th>\n",
       "      <td>15</td>\n",
       "    </tr>\n",
       "  </tbody>\n",
       "</table>\n",
       "</div>"
      ],
      "text/plain": [
       "     bicyclists_are_safe\n",
       "1.0                   13\n",
       "2.0                   23\n",
       "3.0                   49\n",
       "4.0                   15"
      ]
     },
     "execution_count": 15,
     "metadata": {},
     "output_type": "execute_result"
    }
   ],
   "source": [
    "# do people generally think bicyclists are safe?\n",
    "df['bicyclists_are_safe'].value_counts().to_frame().apply(lambda x: 100 * x / x.sum()).round(0).astype(int).sort_index()\n"
   ]
  },
  {
   "cell_type": "markdown",
   "metadata": {},
   "source": [
    "### People who bike a lot"
   ]
  },
  {
   "cell_type": "code",
   "execution_count": 16,
   "metadata": {},
   "outputs": [
    {
     "data": {
      "text/html": [
       "<div>\n",
       "<style scoped>\n",
       "    .dataframe tbody tr th:only-of-type {\n",
       "        vertical-align: middle;\n",
       "    }\n",
       "\n",
       "    .dataframe tbody tr th {\n",
       "        vertical-align: top;\n",
       "    }\n",
       "\n",
       "    .dataframe thead th {\n",
       "        text-align: right;\n",
       "    }\n",
       "</style>\n",
       "<table border=\"1\" class=\"dataframe\">\n",
       "  <thead>\n",
       "    <tr style=\"text-align: right;\">\n",
       "      <th></th>\n",
       "      <th>bicyclists_are_safe</th>\n",
       "    </tr>\n",
       "  </thead>\n",
       "  <tbody>\n",
       "    <tr>\n",
       "      <th>1.0</th>\n",
       "      <td>5</td>\n",
       "    </tr>\n",
       "    <tr>\n",
       "      <th>2.0</th>\n",
       "      <td>15</td>\n",
       "    </tr>\n",
       "    <tr>\n",
       "      <th>3.0</th>\n",
       "      <td>57</td>\n",
       "    </tr>\n",
       "    <tr>\n",
       "      <th>4.0</th>\n",
       "      <td>24</td>\n",
       "    </tr>\n",
       "  </tbody>\n",
       "</table>\n",
       "</div>"
      ],
      "text/plain": [
       "     bicyclists_are_safe\n",
       "1.0                    5\n",
       "2.0                   15\n",
       "3.0                   57\n",
       "4.0                   24"
      ]
     },
     "execution_count": 16,
     "metadata": {},
     "output_type": "execute_result"
    }
   ],
   "source": [
    "# do people who bike a lot think bicyclists are safe\n",
    "df2 = df[ df['bike_freq'].isin(['Every day, or almost every day', 'Once every few days']) ]\n",
    "df2['bicyclists_are_safe'].value_counts().to_frame().apply(lambda x: 100 * x / x.sum()).round(0).astype(int).sort_index()\n"
   ]
  },
  {
   "cell_type": "markdown",
   "metadata": {},
   "source": [
    "### People who rarely bike"
   ]
  },
  {
   "cell_type": "code",
   "execution_count": 17,
   "metadata": {},
   "outputs": [
    {
     "data": {
      "text/html": [
       "<div>\n",
       "<style scoped>\n",
       "    .dataframe tbody tr th:only-of-type {\n",
       "        vertical-align: middle;\n",
       "    }\n",
       "\n",
       "    .dataframe tbody tr th {\n",
       "        vertical-align: top;\n",
       "    }\n",
       "\n",
       "    .dataframe thead th {\n",
       "        text-align: right;\n",
       "    }\n",
       "</style>\n",
       "<table border=\"1\" class=\"dataframe\">\n",
       "  <thead>\n",
       "    <tr style=\"text-align: right;\">\n",
       "      <th></th>\n",
       "      <th>bicyclists_are_safe</th>\n",
       "    </tr>\n",
       "  </thead>\n",
       "  <tbody>\n",
       "    <tr>\n",
       "      <th>1.0</th>\n",
       "      <td>15</td>\n",
       "    </tr>\n",
       "    <tr>\n",
       "      <th>2.0</th>\n",
       "      <td>25</td>\n",
       "    </tr>\n",
       "    <tr>\n",
       "      <th>3.0</th>\n",
       "      <td>46</td>\n",
       "    </tr>\n",
       "    <tr>\n",
       "      <th>4.0</th>\n",
       "      <td>13</td>\n",
       "    </tr>\n",
       "  </tbody>\n",
       "</table>\n",
       "</div>"
      ],
      "text/plain": [
       "     bicyclists_are_safe\n",
       "1.0                   15\n",
       "2.0                   25\n",
       "3.0                   46\n",
       "4.0                   13"
      ]
     },
     "execution_count": 17,
     "metadata": {},
     "output_type": "execute_result"
    }
   ],
   "source": [
    "# do people who never bike think bicyclists are safe\n",
    "df2 = df[ df['bike_freq'].isin(['Rarely or never', 'Once in a while']) ]\n",
    "df2['bicyclists_are_safe'].value_counts().to_frame().apply(lambda x: 100 * x / x.sum()).round(0).astype(int).sort_index()\n"
   ]
  },
  {
   "cell_type": "code",
   "execution_count": 19,
   "metadata": {},
   "outputs": [
    {
     "data": {
      "text/html": [
       "<div>\n",
       "<style scoped>\n",
       "    .dataframe tbody tr th:only-of-type {\n",
       "        vertical-align: middle;\n",
       "    }\n",
       "\n",
       "    .dataframe tbody tr th {\n",
       "        vertical-align: top;\n",
       "    }\n",
       "\n",
       "    .dataframe thead th {\n",
       "        text-align: right;\n",
       "    }\n",
       "</style>\n",
       "<table border=\"1\" class=\"dataframe\">\n",
       "  <thead>\n",
       "    <tr style=\"text-align: right;\">\n",
       "      <th></th>\n",
       "      <th>drivers_are_safe</th>\n",
       "    </tr>\n",
       "  </thead>\n",
       "  <tbody>\n",
       "    <tr>\n",
       "      <th>1.0</th>\n",
       "      <td>9</td>\n",
       "    </tr>\n",
       "    <tr>\n",
       "      <th>2.0</th>\n",
       "      <td>29</td>\n",
       "    </tr>\n",
       "    <tr>\n",
       "      <th>3.0</th>\n",
       "      <td>47</td>\n",
       "    </tr>\n",
       "    <tr>\n",
       "      <th>4.0</th>\n",
       "      <td>16</td>\n",
       "    </tr>\n",
       "  </tbody>\n",
       "</table>\n",
       "</div>"
      ],
      "text/plain": [
       "     drivers_are_safe\n",
       "1.0                 9\n",
       "2.0                29\n",
       "3.0                47\n",
       "4.0                16"
      ]
     },
     "execution_count": 19,
     "metadata": {},
     "output_type": "execute_result"
    }
   ],
   "source": [
    "# do people who never bike think drivers are safe?\n",
    "df2 = df[ df['bike_freq'].isin(['Rarely or never', 'Once in a while']) ]\n",
    "df2['drivers_are_safe'].value_counts().to_frame().apply(lambda x: 100 * x / x.sum()).round(0).astype(int).sort_index()\n"
   ]
  },
  {
   "cell_type": "code",
   "execution_count": 20,
   "metadata": {},
   "outputs": [
    {
     "data": {
      "text/plain": [
       "Once every few days    2\n",
       "Once in a while        2\n",
       "Rarely or never        1\n",
       "Name: walk_freq, dtype: int64"
      ]
     },
     "execution_count": 20,
     "metadata": {},
     "output_type": "execute_result"
    }
   ],
   "source": [
    "df[df['demographic'] == 'College kid']['walk_freq'].value_counts().sort_index()"
   ]
  },
  {
   "cell_type": "code",
   "execution_count": null,
   "metadata": {},
   "outputs": [],
   "source": []
  }
 ],
 "metadata": {
  "kernelspec": {
   "display_name": "Python 3",
   "language": "python",
   "name": "python3"
  },
  "language_info": {
   "codemirror_mode": {
    "name": "ipython",
    "version": 3
   },
   "file_extension": ".py",
   "mimetype": "text/x-python",
   "name": "python",
   "nbconvert_exporter": "python",
   "pygments_lexer": "ipython3",
   "version": "3.6.4"
  }
 },
 "nbformat": 4,
 "nbformat_minor": 2
}

{
 "cells": [
  {
   "cell_type": "markdown",
   "metadata": {},
   "source": [
    "# Multiple answer cleanup experiment\n",
    "Attempt at dealing with fields that contain comma-separated lists of answers from questions with multiple-select answer options that also allow respondents to enter their own 'other' answer."
   ]
  },
  {
   "cell_type": "code",
   "execution_count": 1,
   "metadata": {
    "collapsed": true
   },
   "outputs": [],
   "source": [
    "import pandas as pd\n",
    "import numpy as np\n",
    "from IPython.display import display, Markdown, Latex"
   ]
  },
  {
   "cell_type": "markdown",
   "metadata": {},
   "source": [
    "## Practice data set\n",
    "Simulating how responses to multiple-select answers options are stored by Google Forms"
   ]
  },
  {
   "cell_type": "code",
   "execution_count": 2,
   "metadata": {},
   "outputs": [
    {
     "data": {
      "text/html": [
       "<div>\n",
       "<style>\n",
       "    .dataframe thead tr:only-child th {\n",
       "        text-align: right;\n",
       "    }\n",
       "\n",
       "    .dataframe thead th {\n",
       "        text-align: left;\n",
       "    }\n",
       "\n",
       "    .dataframe tbody tr th {\n",
       "        vertical-align: top;\n",
       "    }\n",
       "</style>\n",
       "<table border=\"1\" class=\"dataframe\">\n",
       "  <thead>\n",
       "    <tr style=\"text-align: right;\">\n",
       "      <th></th>\n",
       "      <th>a</th>\n",
       "      <th>b</th>\n",
       "      <th>c</th>\n",
       "    </tr>\n",
       "  </thead>\n",
       "  <tbody>\n",
       "    <tr>\n",
       "      <th>0</th>\n",
       "      <td>foo, nonsense1</td>\n",
       "      <td>nonsense3, hello</td>\n",
       "      <td>nonesuch, forthwith</td>\n",
       "    </tr>\n",
       "    <tr>\n",
       "      <th>1</th>\n",
       "      <td>nonsense2, bar</td>\n",
       "      <td>world, nonsense4</td>\n",
       "      <td>nonsense5, forthwith</td>\n",
       "    </tr>\n",
       "    <tr>\n",
       "      <th>2</th>\n",
       "      <td>foo, bar</td>\n",
       "      <td>hello, world</td>\n",
       "      <td>nonesuch, forthwith</td>\n",
       "    </tr>\n",
       "  </tbody>\n",
       "</table>\n",
       "</div>"
      ],
      "text/plain": [
       "                a                 b                     c\n",
       "0  foo, nonsense1  nonsense3, hello   nonesuch, forthwith\n",
       "1  nonsense2, bar  world, nonsense4  nonsense5, forthwith\n",
       "2        foo, bar      hello, world   nonesuch, forthwith"
      ]
     },
     "execution_count": 2,
     "metadata": {},
     "output_type": "execute_result"
    }
   ],
   "source": [
    "df = pd.DataFrame({\n",
    "    'a': ['foo, nonsense1', 'nonsense2, bar', 'foo, bar'],\n",
    "    'b': ['nonsense3, hello', 'world, nonsense4', 'hello, world'],\n",
    "    'c': ['nonesuch, forthwith', 'nonsense5, forthwith', 'nonesuch, forthwith'],\n",
    "})\n",
    "df"
   ]
  },
  {
   "cell_type": "markdown",
   "metadata": {},
   "source": [
    "## Answer options to each question\n",
    "A dictionary containing lists of all the questions and the answer options that the user was asked to select from for each question in the Google Form."
   ]
  },
  {
   "cell_type": "code",
   "execution_count": 3,
   "metadata": {
    "collapsed": true
   },
   "outputs": [],
   "source": [
    "# a dictionary of columns that contain comma-separated multiple answer options\n",
    "multiple_answer_options = {\n",
    "    'a': ['foo', 'bar'],\n",
    "    'b': ['hello', 'world'],\n",
    "    'c': ['nonesuch', 'forthwith']\n",
    "}\n",
    "\n",
    "# remember that there was also an 'other' field where users could enter custom answers... we'll deal with that later."
   ]
  },
  {
   "cell_type": "markdown",
   "metadata": {},
   "source": [
    "## Remove commas from any given answer option so we can later split by comma cleanly"
   ]
  },
  {
   "cell_type": "code",
   "execution_count": 4,
   "metadata": {},
   "outputs": [
    {
     "data": {
      "text/plain": [
       "{'a': ['foo', 'bar'], 'b': ['hello', 'world'], 'c': ['nonesuch', 'forthwith']}"
      ]
     },
     "execution_count": 4,
     "metadata": {},
     "output_type": "execute_result"
    }
   ],
   "source": [
    "# loop through all questions that allow more than one answer\n",
    "for question, answer_list in multiple_answer_options.items():\n",
    "    # loop through every answer in the answer list for this question\n",
    "    for answer in answer_list:\n",
    "        # remove the commas, from each answer, if any\n",
    "        if ',' in answer:\n",
    "            # update the answers with a cleaned version\n",
    "            df[question] = df[question].str.replace(answer, answer.replace(',', '') )\n",
    "            \n",
    "    # remove commas from the list of answers in the question/answer dictionary\n",
    "    multiple_answer_options[question] = [answer.replace(',' , '') for answer in answer_list]\n",
    "\n",
    "# show the cleaned up answer options\n",
    "multiple_answer_options"
   ]
  },
  {
   "cell_type": "markdown",
   "metadata": {},
   "source": [
    "## Tally answers\n",
    "Indicate which users selected which answer options, and put any freeform text answers that users entered by clicking the 'other' option in Google Forms into '_other' columns."
   ]
  },
  {
   "cell_type": "code",
   "execution_count": 5,
   "metadata": {},
   "outputs": [
    {
     "data": {
      "text/html": [
       "<div>\n",
       "<style>\n",
       "    .dataframe thead tr:only-child th {\n",
       "        text-align: right;\n",
       "    }\n",
       "\n",
       "    .dataframe thead th {\n",
       "        text-align: left;\n",
       "    }\n",
       "\n",
       "    .dataframe tbody tr th {\n",
       "        vertical-align: top;\n",
       "    }\n",
       "</style>\n",
       "<table border=\"1\" class=\"dataframe\">\n",
       "  <thead>\n",
       "    <tr style=\"text-align: right;\">\n",
       "      <th></th>\n",
       "      <th>a_bar</th>\n",
       "      <th>a_foo</th>\n",
       "      <th>a_other</th>\n",
       "      <th>b_hello</th>\n",
       "      <th>b_other</th>\n",
       "      <th>b_world</th>\n",
       "      <th>c_forthwith</th>\n",
       "      <th>c_nonesuch</th>\n",
       "      <th>c_other</th>\n",
       "    </tr>\n",
       "  </thead>\n",
       "  <tbody>\n",
       "    <tr>\n",
       "      <th>0</th>\n",
       "      <td>NaN</td>\n",
       "      <td>1</td>\n",
       "      <td>nonsense1</td>\n",
       "      <td>NaN</td>\n",
       "      <td>NaN</td>\n",
       "      <td>NaN</td>\n",
       "      <td>NaN</td>\n",
       "      <td>NaN</td>\n",
       "      <td>NaN</td>\n",
       "    </tr>\n",
       "    <tr>\n",
       "      <th>1</th>\n",
       "      <td>1</td>\n",
       "      <td>NaN</td>\n",
       "      <td>nonsense2</td>\n",
       "      <td>NaN</td>\n",
       "      <td>NaN</td>\n",
       "      <td>NaN</td>\n",
       "      <td>NaN</td>\n",
       "      <td>NaN</td>\n",
       "      <td>NaN</td>\n",
       "    </tr>\n",
       "    <tr>\n",
       "      <th>2</th>\n",
       "      <td>1</td>\n",
       "      <td>1</td>\n",
       "      <td>NaN</td>\n",
       "      <td>NaN</td>\n",
       "      <td>NaN</td>\n",
       "      <td>NaN</td>\n",
       "      <td>NaN</td>\n",
       "      <td>NaN</td>\n",
       "      <td>NaN</td>\n",
       "    </tr>\n",
       "    <tr>\n",
       "      <th>0</th>\n",
       "      <td>NaN</td>\n",
       "      <td>NaN</td>\n",
       "      <td>NaN</td>\n",
       "      <td>1</td>\n",
       "      <td>nonsense3</td>\n",
       "      <td>NaN</td>\n",
       "      <td>NaN</td>\n",
       "      <td>NaN</td>\n",
       "      <td>NaN</td>\n",
       "    </tr>\n",
       "    <tr>\n",
       "      <th>1</th>\n",
       "      <td>NaN</td>\n",
       "      <td>NaN</td>\n",
       "      <td>NaN</td>\n",
       "      <td>NaN</td>\n",
       "      <td>nonsense4</td>\n",
       "      <td>1</td>\n",
       "      <td>NaN</td>\n",
       "      <td>NaN</td>\n",
       "      <td>NaN</td>\n",
       "    </tr>\n",
       "    <tr>\n",
       "      <th>2</th>\n",
       "      <td>NaN</td>\n",
       "      <td>NaN</td>\n",
       "      <td>NaN</td>\n",
       "      <td>1</td>\n",
       "      <td>NaN</td>\n",
       "      <td>1</td>\n",
       "      <td>NaN</td>\n",
       "      <td>NaN</td>\n",
       "      <td>NaN</td>\n",
       "    </tr>\n",
       "    <tr>\n",
       "      <th>0</th>\n",
       "      <td>NaN</td>\n",
       "      <td>NaN</td>\n",
       "      <td>NaN</td>\n",
       "      <td>NaN</td>\n",
       "      <td>NaN</td>\n",
       "      <td>NaN</td>\n",
       "      <td>1</td>\n",
       "      <td>1</td>\n",
       "      <td>NaN</td>\n",
       "    </tr>\n",
       "    <tr>\n",
       "      <th>1</th>\n",
       "      <td>NaN</td>\n",
       "      <td>NaN</td>\n",
       "      <td>NaN</td>\n",
       "      <td>NaN</td>\n",
       "      <td>NaN</td>\n",
       "      <td>NaN</td>\n",
       "      <td>1</td>\n",
       "      <td>NaN</td>\n",
       "      <td>nonsense5</td>\n",
       "    </tr>\n",
       "    <tr>\n",
       "      <th>2</th>\n",
       "      <td>NaN</td>\n",
       "      <td>NaN</td>\n",
       "      <td>NaN</td>\n",
       "      <td>NaN</td>\n",
       "      <td>NaN</td>\n",
       "      <td>NaN</td>\n",
       "      <td>1</td>\n",
       "      <td>1</td>\n",
       "      <td>NaN</td>\n",
       "    </tr>\n",
       "  </tbody>\n",
       "</table>\n",
       "</div>"
      ],
      "text/plain": [
       "  a_bar a_foo    a_other b_hello    b_other b_world c_forthwith c_nonesuch  \\\n",
       "0   NaN     1  nonsense1     NaN        NaN     NaN         NaN        NaN   \n",
       "1     1   NaN  nonsense2     NaN        NaN     NaN         NaN        NaN   \n",
       "2     1     1        NaN     NaN        NaN     NaN         NaN        NaN   \n",
       "0   NaN   NaN        NaN       1  nonsense3     NaN         NaN        NaN   \n",
       "1   NaN   NaN        NaN     NaN  nonsense4       1         NaN        NaN   \n",
       "2   NaN   NaN        NaN       1        NaN       1         NaN        NaN   \n",
       "0   NaN   NaN        NaN     NaN        NaN     NaN           1          1   \n",
       "1   NaN   NaN        NaN     NaN        NaN     NaN           1        NaN   \n",
       "2   NaN   NaN        NaN     NaN        NaN     NaN           1          1   \n",
       "\n",
       "     c_other  \n",
       "0        NaN  \n",
       "1        NaN  \n",
       "2        NaN  \n",
       "0        NaN  \n",
       "1        NaN  \n",
       "2        NaN  \n",
       "0        NaN  \n",
       "1  nonsense5  \n",
       "2        NaN  "
      ]
     },
     "execution_count": 5,
     "metadata": {},
     "output_type": "execute_result"
    }
   ],
   "source": [
    "def categorize_answers(response, question, answer_list):\n",
    "    \"\"\"\n",
    "    Takes a given set of responses to a multi-select question, and puts them into a well-formated Series of dummy values.\n",
    "    \n",
    "    @param response A list of the user's responses to this question\n",
    "    @param question The title of the question (these are codes)\n",
    "    @param answer_list A list of the answer options that were presented to the user in the Google Form\n",
    "    \"\"\"\n",
    "    \n",
    "    # set up some lists that we will use to collect responses as dummy values\n",
    "    indices = [] # will contain the text of the answer option that the user selected\n",
    "    values = [] # will contain dummy values (1s) for each answer option the user selected, NaNs otherwise.\n",
    "    \n",
    "    # skip any nan or blank values\n",
    "    if str(response) != 'nan' and type(answer_list) != float and type(question) != float and type(response) != float:\n",
    "        #display(question + \" - \" + str(response))\n",
    "        for answer_option in response:\n",
    "            answer_option = answer_option.strip() # remove any leading/trailing whitespace\n",
    "            if answer_option in answer_list:\n",
    "                indices.append(question + '_' + answer_option)\n",
    "                values.append(1)\n",
    "            else:\n",
    "                indices.append(question + '_' + 'other')\n",
    "                values.append(answer_option)\n",
    "    \n",
    "        # put it all into a pandas Series\n",
    "        response = pd.Series(values,index=indices).fillna(0).astype(str)\n",
    "        \n",
    "    return response\n",
    "\n",
    "# slice up answers by comma and give each its own column\n",
    "df2 = pd.DataFrame() # build a new dataframe from scratch\n",
    "\n",
    "# loop through each question/answer item\n",
    "for question, answer_list in multiple_answer_options.items():\n",
    "    # get a new dataframe with the questions as indexes and the valuess as dummy values indicating user selections\n",
    "    d = df[question].str.split(',\\s*').apply(categorize_answers, question=question, answer_list=answer_list)\n",
    "    df2 = df2.append(d) # append this as a row to the new dataframe\n",
    "\n",
    "# show the new dataframe\n",
    "df2"
   ]
  },
  {
   "cell_type": "markdown",
   "metadata": {},
   "source": [
    "## Convert values to booleans, where possible\n",
    "Most columns contain NaNs or 1s.  NaNs are converted to 0s then to booleans.  The 'other' columns contain text and are left alone."
   ]
  },
  {
   "cell_type": "code",
   "execution_count": 6,
   "metadata": {},
   "outputs": [],
   "source": [
    "# loop through each column\n",
    "for col in df2.columns:\n",
    "    try:\n",
    "        # try to convert to int\n",
    "        df2[col] = df2[col].fillna(0).astype(int)\n",
    "    except:\n",
    "        # if this column contains text, skip...\n",
    "        continue"
   ]
  },
  {
   "cell_type": "code",
   "execution_count": 7,
   "metadata": {},
   "outputs": [
    {
     "data": {
      "text/plain": [
       "0    1\n",
       "1    0\n",
       "2    1\n",
       "0    0\n",
       "1    0\n",
       "2    0\n",
       "0    0\n",
       "1    0\n",
       "2    0\n",
       "Name: a_foo, dtype: int64"
      ]
     },
     "execution_count": 7,
     "metadata": {},
     "output_type": "execute_result"
    }
   ],
   "source": [
    "df2.a_foo"
   ]
  },
  {
   "cell_type": "markdown",
   "metadata": {},
   "source": [
    "## Try to group by 'id'"
   ]
  },
  {
   "cell_type": "code",
   "execution_count": 11,
   "metadata": {},
   "outputs": [
    {
     "data": {
      "text/html": [
       "<div>\n",
       "<style>\n",
       "    .dataframe thead tr:only-child th {\n",
       "        text-align: right;\n",
       "    }\n",
       "\n",
       "    .dataframe thead th {\n",
       "        text-align: left;\n",
       "    }\n",
       "\n",
       "    .dataframe tbody tr th {\n",
       "        vertical-align: top;\n",
       "    }\n",
       "</style>\n",
       "<table border=\"1\" class=\"dataframe\">\n",
       "  <thead>\n",
       "    <tr style=\"text-align: right;\">\n",
       "      <th></th>\n",
       "      <th>a_bar</th>\n",
       "      <th>a_foo</th>\n",
       "      <th>b_hello</th>\n",
       "      <th>b_world</th>\n",
       "      <th>c_forthwith</th>\n",
       "      <th>c_nonesuch</th>\n",
       "    </tr>\n",
       "  </thead>\n",
       "  <tbody>\n",
       "    <tr>\n",
       "      <th>0</th>\n",
       "      <td>0</td>\n",
       "      <td>1</td>\n",
       "      <td>1</td>\n",
       "      <td>0</td>\n",
       "      <td>1</td>\n",
       "      <td>1</td>\n",
       "    </tr>\n",
       "    <tr>\n",
       "      <th>1</th>\n",
       "      <td>1</td>\n",
       "      <td>0</td>\n",
       "      <td>0</td>\n",
       "      <td>1</td>\n",
       "      <td>1</td>\n",
       "      <td>0</td>\n",
       "    </tr>\n",
       "    <tr>\n",
       "      <th>2</th>\n",
       "      <td>1</td>\n",
       "      <td>1</td>\n",
       "      <td>1</td>\n",
       "      <td>1</td>\n",
       "      <td>1</td>\n",
       "      <td>1</td>\n",
       "    </tr>\n",
       "  </tbody>\n",
       "</table>\n",
       "</div>"
      ],
      "text/plain": [
       "   a_bar  a_foo  b_hello  b_world  c_forthwith  c_nonesuch\n",
       "0      0      1        1        0            1           1\n",
       "1      1      0        0        1            1           0\n",
       "2      1      1        1        1            1           1"
      ]
     },
     "execution_count": 11,
     "metadata": {},
     "output_type": "execute_result"
    }
   ],
   "source": [
    "# add up all values in each column to get a full set of values or each id\n",
    "# this loses the 'other' columns, since they are not numeric\n",
    "df3 = df2.groupby(df2.index).sum()\n",
    "\n",
    "# show the new grouped data... note that it is missing the 'other' fields... more on that later\n",
    "df3"
   ]
  },
  {
   "cell_type": "markdown",
   "metadata": {},
   "source": [
    "## Combine the selected answer options with the 'other' responses users gave"
   ]
  },
  {
   "cell_type": "code",
   "execution_count": 9,
   "metadata": {},
   "outputs": [
    {
     "data": {
      "text/html": [
       "<div>\n",
       "<style>\n",
       "    .dataframe thead tr:only-child th {\n",
       "        text-align: right;\n",
       "    }\n",
       "\n",
       "    .dataframe thead th {\n",
       "        text-align: left;\n",
       "    }\n",
       "\n",
       "    .dataframe tbody tr th {\n",
       "        vertical-align: top;\n",
       "    }\n",
       "</style>\n",
       "<table border=\"1\" class=\"dataframe\">\n",
       "  <thead>\n",
       "    <tr style=\"text-align: right;\">\n",
       "      <th></th>\n",
       "      <th>a_bar</th>\n",
       "      <th>a_foo</th>\n",
       "      <th>b_hello</th>\n",
       "      <th>b_world</th>\n",
       "      <th>c_forthwith</th>\n",
       "      <th>c_nonesuch</th>\n",
       "      <th>a_other</th>\n",
       "      <th>b_other</th>\n",
       "      <th>c_other</th>\n",
       "    </tr>\n",
       "  </thead>\n",
       "  <tbody>\n",
       "    <tr>\n",
       "      <th>0</th>\n",
       "      <td>0</td>\n",
       "      <td>1</td>\n",
       "      <td>1</td>\n",
       "      <td>0</td>\n",
       "      <td>1</td>\n",
       "      <td>1</td>\n",
       "      <td>nonsense1</td>\n",
       "      <td>nonsense3</td>\n",
       "      <td>NaN</td>\n",
       "    </tr>\n",
       "    <tr>\n",
       "      <th>1</th>\n",
       "      <td>1</td>\n",
       "      <td>0</td>\n",
       "      <td>0</td>\n",
       "      <td>1</td>\n",
       "      <td>1</td>\n",
       "      <td>0</td>\n",
       "      <td>nonsense2</td>\n",
       "      <td>nonsense4</td>\n",
       "      <td>nonsense5</td>\n",
       "    </tr>\n",
       "    <tr>\n",
       "      <th>2</th>\n",
       "      <td>1</td>\n",
       "      <td>1</td>\n",
       "      <td>1</td>\n",
       "      <td>1</td>\n",
       "      <td>1</td>\n",
       "      <td>1</td>\n",
       "      <td>NaN</td>\n",
       "      <td>NaN</td>\n",
       "      <td>NaN</td>\n",
       "    </tr>\n",
       "  </tbody>\n",
       "</table>\n",
       "</div>"
      ],
      "text/plain": [
       "   a_bar  a_foo  b_hello  b_world  c_forthwith  c_nonesuch    a_other  \\\n",
       "0      0      1        1        0            1           1  nonsense1   \n",
       "1      1      0        0        1            1           0  nonsense2   \n",
       "2      1      1        1        1            1           1        NaN   \n",
       "\n",
       "     b_other    c_other  \n",
       "0  nonsense3        NaN  \n",
       "1  nonsense4  nonsense5  \n",
       "2        NaN        NaN  "
      ]
     },
     "execution_count": 9,
     "metadata": {},
     "output_type": "execute_result"
    }
   ],
   "source": [
    "# loop through all questions\n",
    "for question, answer_options in multiple_answer_options.items():\n",
    "    # get a dataframe of just the 'other' answers to this question\n",
    "    other_df = df2[pd.notnull(df2[question + '_other'])][question + '_other'].to_frame()\n",
    "    # concatenate those responses to the original dataframe\n",
    "    df3 = df3.join(other_df)\n",
    "    \n",
    "# show the data\n",
    "df3"
   ]
  },
  {
   "cell_type": "markdown",
   "metadata": {},
   "source": [
    "## Order the columns alphabetically\n",
    "So it looks a bit more orderly"
   ]
  },
  {
   "cell_type": "code",
   "execution_count": 10,
   "metadata": {},
   "outputs": [
    {
     "data": {
      "text/html": [
       "<div>\n",
       "<style>\n",
       "    .dataframe thead tr:only-child th {\n",
       "        text-align: right;\n",
       "    }\n",
       "\n",
       "    .dataframe thead th {\n",
       "        text-align: left;\n",
       "    }\n",
       "\n",
       "    .dataframe tbody tr th {\n",
       "        vertical-align: top;\n",
       "    }\n",
       "</style>\n",
       "<table border=\"1\" class=\"dataframe\">\n",
       "  <thead>\n",
       "    <tr style=\"text-align: right;\">\n",
       "      <th></th>\n",
       "      <th>a_bar</th>\n",
       "      <th>a_foo</th>\n",
       "      <th>a_other</th>\n",
       "      <th>b_hello</th>\n",
       "      <th>b_other</th>\n",
       "      <th>b_world</th>\n",
       "      <th>c_forthwith</th>\n",
       "      <th>c_nonesuch</th>\n",
       "      <th>c_other</th>\n",
       "    </tr>\n",
       "  </thead>\n",
       "  <tbody>\n",
       "    <tr>\n",
       "      <th>0</th>\n",
       "      <td>0</td>\n",
       "      <td>1</td>\n",
       "      <td>nonsense1</td>\n",
       "      <td>1</td>\n",
       "      <td>nonsense3</td>\n",
       "      <td>0</td>\n",
       "      <td>1</td>\n",
       "      <td>1</td>\n",
       "      <td>NaN</td>\n",
       "    </tr>\n",
       "    <tr>\n",
       "      <th>1</th>\n",
       "      <td>1</td>\n",
       "      <td>0</td>\n",
       "      <td>nonsense2</td>\n",
       "      <td>0</td>\n",
       "      <td>nonsense4</td>\n",
       "      <td>1</td>\n",
       "      <td>1</td>\n",
       "      <td>0</td>\n",
       "      <td>nonsense5</td>\n",
       "    </tr>\n",
       "    <tr>\n",
       "      <th>2</th>\n",
       "      <td>1</td>\n",
       "      <td>1</td>\n",
       "      <td>NaN</td>\n",
       "      <td>1</td>\n",
       "      <td>NaN</td>\n",
       "      <td>1</td>\n",
       "      <td>1</td>\n",
       "      <td>1</td>\n",
       "      <td>NaN</td>\n",
       "    </tr>\n",
       "  </tbody>\n",
       "</table>\n",
       "</div>"
      ],
      "text/plain": [
       "   a_bar  a_foo    a_other  b_hello    b_other  b_world  c_forthwith  \\\n",
       "0      0      1  nonsense1        1  nonsense3        0            1   \n",
       "1      1      0  nonsense2        0  nonsense4        1            1   \n",
       "2      1      1        NaN        1        NaN        1            1   \n",
       "\n",
       "   c_nonesuch    c_other  \n",
       "0           1        NaN  \n",
       "1           0  nonsense5  \n",
       "2           1        NaN  "
      ]
     },
     "execution_count": 10,
     "metadata": {},
     "output_type": "execute_result"
    }
   ],
   "source": [
    "column_names = df3.columns.sort_values()\n",
    "df3 = df3[column_names]\n",
    "df3"
   ]
  },
  {
   "cell_type": "code",
   "execution_count": null,
   "metadata": {
    "collapsed": true
   },
   "outputs": [],
   "source": []
  }
 ],
 "metadata": {
  "kernelspec": {
   "display_name": "Python 3",
   "language": "python",
   "name": "python3"
  },
  "language_info": {
   "codemirror_mode": {
    "name": "ipython",
    "version": 3
   },
   "file_extension": ".py",
   "mimetype": "text/x-python",
   "name": "python",
   "nbconvert_exporter": "python",
   "pygments_lexer": "ipython3",
   "version": "3.6.1"
  }
 },
 "nbformat": 4,
 "nbformat_minor": 2
}

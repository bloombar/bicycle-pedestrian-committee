{
 "cells": [
  {
   "cell_type": "markdown",
   "metadata": {},
   "source": [
    "# Multiple answer cleanup experiment\n",
    "Attempt at dealing with fields that contain comma-separated lists of answers from questions with multiple-select answer options that also allow respondents to enter their own 'other' answer."
   ]
  },
  {
   "cell_type": "code",
   "execution_count": 1,
   "metadata": {},
   "outputs": [],
   "source": [
    "import pandas as pd\n",
    "import numpy as np\n",
    "from IPython.display import display, Markdown, Latex"
   ]
  },
  {
   "cell_type": "markdown",
   "metadata": {},
   "source": [
    "## Practice data set\n",
    "Simulating how responses to multiple-select answers options are stored by Google Forms"
   ]
  },
  {
   "cell_type": "code",
   "execution_count": 2,
   "metadata": {},
   "outputs": [
    {
     "data": {
      "text/html": [
       "<div>\n",
       "<style scoped>\n",
       "    .dataframe tbody tr th:only-of-type {\n",
       "        vertical-align: middle;\n",
       "    }\n",
       "\n",
       "    .dataframe tbody tr th {\n",
       "        vertical-align: top;\n",
       "    }\n",
       "\n",
       "    .dataframe thead th {\n",
       "        text-align: right;\n",
       "    }\n",
       "</style>\n",
       "<table border=\"1\" class=\"dataframe\">\n",
       "  <thead>\n",
       "    <tr style=\"text-align: right;\">\n",
       "      <th></th>\n",
       "      <th>a</th>\n",
       "      <th>b</th>\n",
       "      <th>c</th>\n",
       "    </tr>\n",
       "  </thead>\n",
       "  <tbody>\n",
       "    <tr>\n",
       "      <th>0</th>\n",
       "      <td>foo, nonsense1</td>\n",
       "      <td>nonsense3, hello</td>\n",
       "      <td>nonesuch, forthwith</td>\n",
       "    </tr>\n",
       "    <tr>\n",
       "      <th>1</th>\n",
       "      <td>nonsense2, bar</td>\n",
       "      <td>world, nonsense4</td>\n",
       "      <td>nonsense5, forthwith</td>\n",
       "    </tr>\n",
       "  </tbody>\n",
       "</table>\n",
       "</div>"
      ],
      "text/plain": [
       "                a                 b                     c\n",
       "0  foo, nonsense1  nonsense3, hello   nonesuch, forthwith\n",
       "1  nonsense2, bar  world, nonsense4  nonsense5, forthwith"
      ]
     },
     "execution_count": 2,
     "metadata": {},
     "output_type": "execute_result"
    }
   ],
   "source": [
    "df = pd.DataFrame({\n",
    "    'a': ['foo, nonsense1', 'nonsense2, bar'],\n",
    "    'b': ['nonsense3, hello', 'world, nonsense4'],\n",
    "    'c': ['nonesuch, forthwith', 'nonsense5, forthwith']\n",
    "})\n",
    "df"
   ]
  },
  {
   "cell_type": "markdown",
   "metadata": {},
   "source": [
    "## Practice answer options to each question\n",
    "A dictionary containing lists of all the answer options available to each question in the Google Form."
   ]
  },
  {
   "cell_type": "code",
   "execution_count": 3,
   "metadata": {},
   "outputs": [],
   "source": [
    "# a dictionary of columns that contain comma-separated multiple answer options\n",
    "multiple_answer_options = {\n",
    "    'a': ['foo', 'bar'],\n",
    "    'b': ['hello', 'world'],\n",
    "    'c': ['nonesuch', 'forthwith'],\n",
    "    # other option available for some\n",
    "}\n"
   ]
  },
  {
   "cell_type": "markdown",
   "metadata": {},
   "source": [
    "## Remove commas from any given answer option so we can later split by comma cleanly"
   ]
  },
  {
   "cell_type": "code",
   "execution_count": 4,
   "metadata": {},
   "outputs": [
    {
     "data": {
      "text/plain": [
       "{'a': ['foo', 'bar'], 'b': ['hello', 'world'], 'c': ['nonesuch', 'forthwith']}"
      ]
     },
     "execution_count": 4,
     "metadata": {},
     "output_type": "execute_result"
    }
   ],
   "source": [
    "# loop through all questions that allow more than one answer\n",
    "for question, answer_list in multiple_answer_options.items():\n",
    "    # loop through every answer in the answer list for this question\n",
    "    for answer in answer_list:\n",
    "        # remove the commas, from each answer, if any\n",
    "        if ',' in answer:\n",
    "            # update the answers with a cleaned version\n",
    "            df[question] = df[question].str.replace(answer, answer.replace(',', '') )\n",
    "            \n",
    "    # remove commas from the list of answer in the dictionary\n",
    "    multiple_answer_options[question] = [answer.replace(',' , '') for answer in answer_list]\n",
    "    #display(multiple_answer_options[question])\n",
    "\n",
    "# show the cleaned up answer options\n",
    "multiple_answer_options"
   ]
  },
  {
   "cell_type": "markdown",
   "metadata": {},
   "source": [
    "## Count answers\n",
    "Counts how many times each answer in the given answer list has been given to each question, and groups freeform text answers that were not in the answer list into an 'other' column."
   ]
  },
  {
   "cell_type": "code",
   "execution_count": 5,
   "metadata": {},
   "outputs": [
    {
     "data": {
      "text/html": [
       "<div>\n",
       "<style scoped>\n",
       "    .dataframe tbody tr th:only-of-type {\n",
       "        vertical-align: middle;\n",
       "    }\n",
       "\n",
       "    .dataframe tbody tr th {\n",
       "        vertical-align: top;\n",
       "    }\n",
       "\n",
       "    .dataframe thead th {\n",
       "        text-align: right;\n",
       "    }\n",
       "</style>\n",
       "<table border=\"1\" class=\"dataframe\">\n",
       "  <thead>\n",
       "    <tr style=\"text-align: right;\">\n",
       "      <th></th>\n",
       "      <th>a_foo</th>\n",
       "      <th>a_other</th>\n",
       "      <th>a_bar</th>\n",
       "      <th>b_other</th>\n",
       "      <th>b_hello</th>\n",
       "      <th>b_world</th>\n",
       "      <th>c_nonesuch</th>\n",
       "      <th>c_forthwith</th>\n",
       "      <th>c_other</th>\n",
       "    </tr>\n",
       "  </thead>\n",
       "  <tbody>\n",
       "    <tr>\n",
       "      <th>0</th>\n",
       "      <td>1</td>\n",
       "      <td>nonsense1</td>\n",
       "      <td>NaN</td>\n",
       "      <td>NaN</td>\n",
       "      <td>NaN</td>\n",
       "      <td>NaN</td>\n",
       "      <td>NaN</td>\n",
       "      <td>NaN</td>\n",
       "      <td>NaN</td>\n",
       "    </tr>\n",
       "    <tr>\n",
       "      <th>1</th>\n",
       "      <td>NaN</td>\n",
       "      <td>nonsense2</td>\n",
       "      <td>1</td>\n",
       "      <td>NaN</td>\n",
       "      <td>NaN</td>\n",
       "      <td>NaN</td>\n",
       "      <td>NaN</td>\n",
       "      <td>NaN</td>\n",
       "      <td>NaN</td>\n",
       "    </tr>\n",
       "    <tr>\n",
       "      <th>0</th>\n",
       "      <td>NaN</td>\n",
       "      <td>NaN</td>\n",
       "      <td>NaN</td>\n",
       "      <td>nonsense3</td>\n",
       "      <td>1</td>\n",
       "      <td>NaN</td>\n",
       "      <td>NaN</td>\n",
       "      <td>NaN</td>\n",
       "      <td>NaN</td>\n",
       "    </tr>\n",
       "    <tr>\n",
       "      <th>1</th>\n",
       "      <td>NaN</td>\n",
       "      <td>NaN</td>\n",
       "      <td>NaN</td>\n",
       "      <td>nonsense4</td>\n",
       "      <td>NaN</td>\n",
       "      <td>1</td>\n",
       "      <td>NaN</td>\n",
       "      <td>NaN</td>\n",
       "      <td>NaN</td>\n",
       "    </tr>\n",
       "    <tr>\n",
       "      <th>0</th>\n",
       "      <td>NaN</td>\n",
       "      <td>NaN</td>\n",
       "      <td>NaN</td>\n",
       "      <td>NaN</td>\n",
       "      <td>NaN</td>\n",
       "      <td>NaN</td>\n",
       "      <td>1</td>\n",
       "      <td>1</td>\n",
       "      <td>NaN</td>\n",
       "    </tr>\n",
       "    <tr>\n",
       "      <th>1</th>\n",
       "      <td>NaN</td>\n",
       "      <td>NaN</td>\n",
       "      <td>NaN</td>\n",
       "      <td>NaN</td>\n",
       "      <td>NaN</td>\n",
       "      <td>NaN</td>\n",
       "      <td>NaN</td>\n",
       "      <td>1</td>\n",
       "      <td>nonsense5</td>\n",
       "    </tr>\n",
       "  </tbody>\n",
       "</table>\n",
       "</div>"
      ],
      "text/plain": [
       "  a_foo    a_other a_bar    b_other b_hello b_world c_nonesuch c_forthwith  \\\n",
       "0     1  nonsense1   NaN        NaN     NaN     NaN        NaN         NaN   \n",
       "1   NaN  nonsense2     1        NaN     NaN     NaN        NaN         NaN   \n",
       "0   NaN        NaN   NaN  nonsense3       1     NaN        NaN         NaN   \n",
       "1   NaN        NaN   NaN  nonsense4     NaN       1        NaN         NaN   \n",
       "0   NaN        NaN   NaN        NaN     NaN     NaN          1           1   \n",
       "1   NaN        NaN   NaN        NaN     NaN     NaN        NaN           1   \n",
       "\n",
       "     c_other  \n",
       "0        NaN  \n",
       "1        NaN  \n",
       "0        NaN  \n",
       "1        NaN  \n",
       "0        NaN  \n",
       "1  nonsense5  "
      ]
     },
     "execution_count": 5,
     "metadata": {},
     "output_type": "execute_result"
    }
   ],
   "source": [
    "def categorize_answers(response, question, answer_list):\n",
    "    # convert to a series with the answer as a key\n",
    "    indices = [] # will contain the indices for the series of answers\n",
    "    values = [] # will contain the values for the series of answers\n",
    "    \n",
    "    # skip any nan or blank values\n",
    "    if str(response) != 'nan' and type(answer_list) != float and type(question) != float and type(response) != float:\n",
    "        #display(question + \" - \" + str(response))\n",
    "        for answer_option in response:\n",
    "            answer_option = answer_option.strip() # remove any leading/trailing whitespace\n",
    "            if answer_option in answer_list:\n",
    "                indices.append(question + '_' + answer_option)\n",
    "                values.append(1)\n",
    "            else:\n",
    "                indices.append(question + '_' + 'other')\n",
    "                values.append(answer_option)\n",
    "    \n",
    "        response = pd.Series(values,index=indices).fillna(0).astype(str)\n",
    "        #display(response)\n",
    "        \n",
    "    return response\n",
    "\n",
    "# slice up answers by comma and give each its own column\n",
    "df2 = pd.DataFrame()\n",
    "for question, answer_list in multiple_answer_options.items():\n",
    "    # process each response from the user to this question\n",
    "    d = df[question].str.split(',\\s*').apply(categorize_answers, question=question, answer_list=answer_list)\n",
    "    #display(d)\n",
    "    df2 = df2.append(d, sort=False)\n",
    "\n",
    "# replace NaN with zeros ... don't do this if counting the number of responses in each column\n",
    "#df2.fillna(0, inplace=True)\n",
    "\n",
    "# show the results\n",
    "df2"
   ]
  },
  {
   "cell_type": "markdown",
   "metadata": {},
   "source": [
    "## Sum the number of respondents who gave each response"
   ]
  },
  {
   "cell_type": "code",
   "execution_count": 6,
   "metadata": {},
   "outputs": [
    {
     "name": "stdout",
     "output_type": "stream",
     "text": [
      "a_foo          1\n",
      "a_other        2\n",
      "a_bar          1\n",
      "b_other        2\n",
      "b_hello        1\n",
      "b_world        1\n",
      "c_nonesuch     1\n",
      "c_forthwith    2\n",
      "c_other        1\n",
      "dtype: int64\n"
     ]
    }
   ],
   "source": [
    "sum_column = df2.count(axis=0) # add up all the columns with a 1 in them\n",
    "print(sum_column)"
   ]
  },
  {
   "cell_type": "markdown",
   "metadata": {},
   "source": [
    "## Display the 'other' free text responses to each question"
   ]
  },
  {
   "cell_type": "code",
   "execution_count": 10,
   "metadata": {},
   "outputs": [
    {
     "data": {
      "text/markdown": [
       "### a foo responses:"
      ],
      "text/plain": [
       "<IPython.core.display.Markdown object>"
      ]
     },
     "metadata": {},
     "output_type": "display_data"
    },
    {
     "data": {
      "text/plain": [
       "0    1\n",
       "Name: a_foo, dtype: object"
      ]
     },
     "metadata": {},
     "output_type": "display_data"
    },
    {
     "data": {
      "text/markdown": [
       "### a bar responses:"
      ],
      "text/plain": [
       "<IPython.core.display.Markdown object>"
      ]
     },
     "metadata": {},
     "output_type": "display_data"
    },
    {
     "data": {
      "text/plain": [
       "1    1\n",
       "Name: a_bar, dtype: object"
      ]
     },
     "metadata": {},
     "output_type": "display_data"
    },
    {
     "data": {
      "text/markdown": [
       "### a other responses:"
      ],
      "text/plain": [
       "<IPython.core.display.Markdown object>"
      ]
     },
     "metadata": {},
     "output_type": "display_data"
    },
    {
     "data": {
      "text/plain": [
       "0    nonsense1\n",
       "1    nonsense2\n",
       "Name: a_other, dtype: object"
      ]
     },
     "metadata": {},
     "output_type": "display_data"
    },
    {
     "data": {
      "text/markdown": [
       "### b hello responses:"
      ],
      "text/plain": [
       "<IPython.core.display.Markdown object>"
      ]
     },
     "metadata": {},
     "output_type": "display_data"
    },
    {
     "data": {
      "text/plain": [
       "0    1\n",
       "Name: b_hello, dtype: object"
      ]
     },
     "metadata": {},
     "output_type": "display_data"
    },
    {
     "data": {
      "text/markdown": [
       "### b world responses:"
      ],
      "text/plain": [
       "<IPython.core.display.Markdown object>"
      ]
     },
     "metadata": {},
     "output_type": "display_data"
    },
    {
     "data": {
      "text/plain": [
       "1    1\n",
       "Name: b_world, dtype: object"
      ]
     },
     "metadata": {},
     "output_type": "display_data"
    },
    {
     "data": {
      "text/markdown": [
       "### b other responses:"
      ],
      "text/plain": [
       "<IPython.core.display.Markdown object>"
      ]
     },
     "metadata": {},
     "output_type": "display_data"
    },
    {
     "data": {
      "text/plain": [
       "0    nonsense3\n",
       "1    nonsense4\n",
       "Name: b_other, dtype: object"
      ]
     },
     "metadata": {},
     "output_type": "display_data"
    },
    {
     "data": {
      "text/markdown": [
       "### c nonesuch responses:"
      ],
      "text/plain": [
       "<IPython.core.display.Markdown object>"
      ]
     },
     "metadata": {},
     "output_type": "display_data"
    },
    {
     "data": {
      "text/plain": [
       "0    1\n",
       "Name: c_nonesuch, dtype: object"
      ]
     },
     "metadata": {},
     "output_type": "display_data"
    },
    {
     "data": {
      "text/markdown": [
       "### c forthwith responses:"
      ],
      "text/plain": [
       "<IPython.core.display.Markdown object>"
      ]
     },
     "metadata": {},
     "output_type": "display_data"
    },
    {
     "data": {
      "text/plain": [
       "0    1\n",
       "1    1\n",
       "Name: c_forthwith, dtype: object"
      ]
     },
     "metadata": {},
     "output_type": "display_data"
    },
    {
     "data": {
      "text/markdown": [
       "### c other responses:"
      ],
      "text/plain": [
       "<IPython.core.display.Markdown object>"
      ]
     },
     "metadata": {},
     "output_type": "display_data"
    },
    {
     "data": {
      "text/plain": [
       "1    nonsense5\n",
       "Name: c_other, dtype: object"
      ]
     },
     "metadata": {},
     "output_type": "display_data"
    }
   ],
   "source": [
    "for question, answer_options in multiple_answer_options.items():\n",
    "    for answer in answer_options:\n",
    "        display(Markdown('### {} {} responses:'.format(question, answer)))\n",
    "        display(df2[pd.notnull(df2[question + '_' + answer])][question + '_' + answer])\n",
    "    \n",
    "    # deal with 'other' responses to this question\n",
    "    display(Markdown('### {} other responses:'.format(question)))\n",
    "    display(df2[pd.notnull(df2[question + '_other'])][question + '_other'])"
   ]
  },
  {
   "cell_type": "code",
   "execution_count": null,
   "metadata": {},
   "outputs": [],
   "source": []
  }
 ],
 "metadata": {
  "kernelspec": {
   "display_name": "Python 3",
   "language": "python",
   "name": "python3"
  },
  "language_info": {
   "codemirror_mode": {
    "name": "ipython",
    "version": 3
   },
   "file_extension": ".py",
   "mimetype": "text/x-python",
   "name": "python",
   "nbconvert_exporter": "python",
   "pygments_lexer": "ipython3",
   "version": "3.6.8"
  }
 },
 "nbformat": 4,
 "nbformat_minor": 2
}

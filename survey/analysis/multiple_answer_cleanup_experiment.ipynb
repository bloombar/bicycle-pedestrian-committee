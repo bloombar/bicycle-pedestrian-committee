{
 "cells": [
  {
   "cell_type": "markdown",
   "metadata": {},
   "source": [
    "# Multiple answer cleanup experiment\n",
    "Attempt at dealing with fields that contain comma-separated lists of answers from questions with multiple-select answer options that also allow respondents to enter their own 'other' answer."
   ]
  },
  {
   "cell_type": "code",
   "execution_count": 1,
   "metadata": {},
   "outputs": [],
   "source": [
    "import pandas as pd\n",
    "import numpy as np\n",
    "from IPython.display import display, Markdown, Latex"
   ]
  },
  {
   "cell_type": "markdown",
   "metadata": {},
   "source": [
    "## Practice data set\n",
    "Simulating how responses to multiple-select answers options are stored by Google Forms"
   ]
  },
  {
   "cell_type": "code",
   "execution_count": 2,
   "metadata": {},
   "outputs": [
    {
     "data": {
      "text/html": [
       "<div>\n",
       "<style scoped>\n",
       "    .dataframe tbody tr th:only-of-type {\n",
       "        vertical-align: middle;\n",
       "    }\n",
       "\n",
       "    .dataframe tbody tr th {\n",
       "        vertical-align: top;\n",
       "    }\n",
       "\n",
       "    .dataframe thead th {\n",
       "        text-align: right;\n",
       "    }\n",
       "</style>\n",
       "<table border=\"1\" class=\"dataframe\">\n",
       "  <thead>\n",
       "    <tr style=\"text-align: right;\">\n",
       "      <th></th>\n",
       "      <th>a</th>\n",
       "      <th>b</th>\n",
       "      <th>c</th>\n",
       "    </tr>\n",
       "  </thead>\n",
       "  <tbody>\n",
       "    <tr>\n",
       "      <th>0</th>\n",
       "      <td>foo, nonsense1</td>\n",
       "      <td>nonsense3, hello</td>\n",
       "      <td>nonesuch, forthwith</td>\n",
       "    </tr>\n",
       "    <tr>\n",
       "      <th>1</th>\n",
       "      <td>nonsense2, bar</td>\n",
       "      <td>world, nonsense4</td>\n",
       "      <td>nonsense5, forthwith</td>\n",
       "    </tr>\n",
       "  </tbody>\n",
       "</table>\n",
       "</div>"
      ],
      "text/plain": [
       "                a                 b                     c\n",
       "0  foo, nonsense1  nonsense3, hello   nonesuch, forthwith\n",
       "1  nonsense2, bar  world, nonsense4  nonsense5, forthwith"
      ]
     },
     "execution_count": 2,
     "metadata": {},
     "output_type": "execute_result"
    }
   ],
   "source": [
    "df = pd.DataFrame({\n",
    "    'a': ['foo, nonsense1', 'nonsense2, bar'],\n",
    "    'b': ['nonsense3, hello', 'world, nonsense4'],\n",
    "    'c': ['nonesuch, forthwith', 'nonsense5, forthwith']\n",
    "})\n",
    "df"
   ]
  },
  {
   "cell_type": "markdown",
   "metadata": {},
   "source": [
    "## Practice answer options to each question\n",
    "A dictionary containing lists of all the answer options available to each question in the Google Form."
   ]
  },
  {
   "cell_type": "code",
   "execution_count": 3,
   "metadata": {},
   "outputs": [],
   "source": [
    "# a dictionary of columns that contain comma-separated multiple answer options\n",
    "multiple_answer_options = {\n",
    "    'a': ['foo', 'bar'],\n",
    "    'b': ['hello', 'world'],\n",
    "    'c': ['nonesuch', 'forthwith'],\n",
    "    # other option available for some\n",
    "}\n"
   ]
  },
  {
   "cell_type": "markdown",
   "metadata": {},
   "source": [
    "## Remove commas from any given answer option so we can later split by comma cleanly"
   ]
  },
  {
   "cell_type": "code",
   "execution_count": 4,
   "metadata": {},
   "outputs": [
    {
     "data": {
      "text/plain": [
       "{'a': ['foo', 'bar'], 'b': ['hello', 'world'], 'c': ['nonesuch', 'forthwith']}"
      ]
     },
     "execution_count": 4,
     "metadata": {},
     "output_type": "execute_result"
    }
   ],
   "source": [
    "# loop through all questions that allow more than one answer\n",
    "for question, answer_list in multiple_answer_options.items():\n",
    "    # loop through every answer in the answer list for this question\n",
    "    for answer in answer_list:\n",
    "        # remove the commas, from each answer, if any\n",
    "        if ',' in answer:\n",
    "            # update the answers with a cleaned version\n",
    "            df[question] = df[question].str.replace(answer, answer.replace(',', '') )\n",
    "            \n",
    "    # remove commas from the list of answer in the dictionary\n",
    "    multiple_answer_options[question] = [answer.replace(',' , '') for answer in answer_list]\n",
    "    #display(multiple_answer_options[question])\n",
    "\n",
    "# show the cleaned up answer options\n",
    "multiple_answer_options"
   ]
  },
  {
   "cell_type": "markdown",
   "metadata": {},
   "source": [
    "## First try at cleaning up answers\n",
    "Currently abandoned."
   ]
  },
  {
   "cell_type": "code",
   "execution_count": 5,
   "metadata": {},
   "outputs": [
    {
     "ename": "SyntaxError",
     "evalue": "invalid syntax (<ipython-input-5-d8acd4aca7e3>, line 3)",
     "output_type": "error",
     "traceback": [
      "\u001b[0;36m  File \u001b[0;32m\"<ipython-input-5-d8acd4aca7e3>\"\u001b[0;36m, line \u001b[0;32m3\u001b[0m\n\u001b[0;31m    ... what to do here??!\u001b[0m\n\u001b[0m           ^\u001b[0m\n\u001b[0;31mSyntaxError\u001b[0m\u001b[0;31m:\u001b[0m invalid syntax\n"
     ]
    }
   ],
   "source": [
    "def add_multiple_answer_columns(df, question, answer_list):\n",
    "    for answer in answer_list:\n",
    "        ... what to do here??!\n",
    "\n",
    "def categorize_answers(response, question, answer_list):\n",
    "    # convert to a series with the answer as a key\n",
    "    indices = [] # will contain the indices for the series of answers\n",
    "    values = [] # will contain the values for the series of answers\n",
    "    \n",
    "    # skip any nan or blank values\n",
    "    if str(response) != 'nan' and type(answer_list) != float and type(question) != float and type(response) != float:\n",
    "        #display(question + \" - \" + str(response))\n",
    "        for answer_option in response:\n",
    "            answer_option = answer_option.strip() # remove any leading/trailing whitespace\n",
    "            if answer_option in answer_list:\n",
    "                indices.append(answer_option)\n",
    "                values.append(1)\n",
    "            else:\n",
    "                indices.append('other')\n",
    "                values.append(answer_option)\n",
    "    \n",
    "        response = pd.Series(values,index=indices).fillna(0).astype(str)\n",
    "        #display(response)\n",
    "        \n",
    "    return response\n",
    "\n",
    "# slice up answers by comma and give each its own column\n",
    "df2 = pd.DataFrame()\n",
    "for index, row in df.iterrows():\n",
    "    # process each response from the user to this question\n",
    "    #d = row[question].str.split(',\\s*').apply(categorize_answers, question=question, answer_list=answer_list)\n",
    "    display(row)\n",
    "    #df2 = df2.append(d, sort=False)\n",
    "\n",
    "#df2"
   ]
  },
  {
   "cell_type": "markdown",
   "metadata": {},
   "source": [
    "## Second try\n",
    "Counts how many times each answer has been given to each question, and groups freeform text answers into an 'other' column."
   ]
  },
  {
   "cell_type": "code",
   "execution_count": 13,
   "metadata": {},
   "outputs": [
    {
     "data": {
      "text/html": [
       "<div>\n",
       "<style scoped>\n",
       "    .dataframe tbody tr th:only-of-type {\n",
       "        vertical-align: middle;\n",
       "    }\n",
       "\n",
       "    .dataframe tbody tr th {\n",
       "        vertical-align: top;\n",
       "    }\n",
       "\n",
       "    .dataframe thead th {\n",
       "        text-align: right;\n",
       "    }\n",
       "</style>\n",
       "<table border=\"1\" class=\"dataframe\">\n",
       "  <thead>\n",
       "    <tr style=\"text-align: right;\">\n",
       "      <th></th>\n",
       "      <th>foo</th>\n",
       "      <th>other</th>\n",
       "      <th>bar</th>\n",
       "      <th>hello</th>\n",
       "      <th>world</th>\n",
       "      <th>nonesuch</th>\n",
       "      <th>forthwith</th>\n",
       "    </tr>\n",
       "  </thead>\n",
       "  <tbody>\n",
       "    <tr>\n",
       "      <th>0</th>\n",
       "      <td>1</td>\n",
       "      <td>nonsense1</td>\n",
       "      <td>NaN</td>\n",
       "      <td>NaN</td>\n",
       "      <td>NaN</td>\n",
       "      <td>NaN</td>\n",
       "      <td>NaN</td>\n",
       "    </tr>\n",
       "    <tr>\n",
       "      <th>1</th>\n",
       "      <td>NaN</td>\n",
       "      <td>nonsense2</td>\n",
       "      <td>1</td>\n",
       "      <td>NaN</td>\n",
       "      <td>NaN</td>\n",
       "      <td>NaN</td>\n",
       "      <td>NaN</td>\n",
       "    </tr>\n",
       "    <tr>\n",
       "      <th>0</th>\n",
       "      <td>NaN</td>\n",
       "      <td>nonsense3</td>\n",
       "      <td>NaN</td>\n",
       "      <td>1</td>\n",
       "      <td>NaN</td>\n",
       "      <td>NaN</td>\n",
       "      <td>NaN</td>\n",
       "    </tr>\n",
       "    <tr>\n",
       "      <th>1</th>\n",
       "      <td>NaN</td>\n",
       "      <td>nonsense4</td>\n",
       "      <td>NaN</td>\n",
       "      <td>NaN</td>\n",
       "      <td>1</td>\n",
       "      <td>NaN</td>\n",
       "      <td>NaN</td>\n",
       "    </tr>\n",
       "    <tr>\n",
       "      <th>0</th>\n",
       "      <td>NaN</td>\n",
       "      <td>NaN</td>\n",
       "      <td>NaN</td>\n",
       "      <td>NaN</td>\n",
       "      <td>NaN</td>\n",
       "      <td>1</td>\n",
       "      <td>1</td>\n",
       "    </tr>\n",
       "    <tr>\n",
       "      <th>1</th>\n",
       "      <td>NaN</td>\n",
       "      <td>nonsense5</td>\n",
       "      <td>NaN</td>\n",
       "      <td>NaN</td>\n",
       "      <td>NaN</td>\n",
       "      <td>NaN</td>\n",
       "      <td>1</td>\n",
       "    </tr>\n",
       "  </tbody>\n",
       "</table>\n",
       "</div>"
      ],
      "text/plain": [
       "   foo      other  bar hello world nonesuch forthwith\n",
       "0    1  nonsense1  NaN   NaN   NaN      NaN       NaN\n",
       "1  NaN  nonsense2    1   NaN   NaN      NaN       NaN\n",
       "0  NaN  nonsense3  NaN     1   NaN      NaN       NaN\n",
       "1  NaN  nonsense4  NaN   NaN     1      NaN       NaN\n",
       "0  NaN        NaN  NaN   NaN   NaN        1         1\n",
       "1  NaN  nonsense5  NaN   NaN   NaN      NaN         1"
      ]
     },
     "execution_count": 13,
     "metadata": {},
     "output_type": "execute_result"
    }
   ],
   "source": [
    "def categorize_answers(response, question, answer_list):\n",
    "    # convert to a series with the answer as a key\n",
    "    indices = [] # will contain the indices for the series of answers\n",
    "    values = [] # will contain the values for the series of answers\n",
    "    \n",
    "    # skip any nan or blank values\n",
    "    if str(response) != 'nan' and type(answer_list) != float and type(question) != float and type(response) != float:\n",
    "        #display(question + \" - \" + str(response))\n",
    "        for answer_option in response:\n",
    "            answer_option = answer_option.strip() # remove any leading/trailing whitespace\n",
    "            if answer_option in answer_list:\n",
    "                indices.append(answer_option)\n",
    "                values.append(1)\n",
    "            else:\n",
    "                indices.append('other')\n",
    "                values.append(answer_option)\n",
    "    \n",
    "        response = pd.Series(values,index=indices).fillna(0).astype(str)\n",
    "        #display(response)\n",
    "        \n",
    "    return response\n",
    "\n",
    "# slice up answers by comma and give each its own column\n",
    "df2 = pd.DataFrame()\n",
    "for question, answer_list in multiple_answer_options.items():\n",
    "    # process each response from the user to this question\n",
    "    d = df[question].str.split(',\\s*').apply(categorize_answers, question=question, answer_list=answer_list)\n",
    "    #display(d)\n",
    "    df2 = df2.append(d, sort=False)\n",
    "\n",
    "# replace NaN with zeros ... don't do this if counting the number of responses in each column\n",
    "#df2.fillna(0, inplace=True)\n",
    "\n",
    "# show the results\n",
    "df2"
   ]
  },
  {
   "cell_type": "code",
   "execution_count": 12,
   "metadata": {},
   "outputs": [
    {
     "name": "stdout",
     "output_type": "stream",
     "text": [
      "foo          1\n",
      "other        5\n",
      "bar          1\n",
      "hello        1\n",
      "world        1\n",
      "nonesuch     1\n",
      "forthwith    2\n",
      "dtype: int64\n"
     ]
    }
   ],
   "source": [
    "sum_column = df2.count(axis=0)\n",
    "print(sum_column)"
   ]
  },
  {
   "cell_type": "code",
   "execution_count": null,
   "metadata": {},
   "outputs": [],
   "source": []
  }
 ],
 "metadata": {
  "kernelspec": {
   "display_name": "Python 3",
   "language": "python",
   "name": "python3"
  },
  "language_info": {
   "codemirror_mode": {
    "name": "ipython",
    "version": 3
   },
   "file_extension": ".py",
   "mimetype": "text/x-python",
   "name": "python",
   "nbconvert_exporter": "python",
   "pygments_lexer": "ipython3",
   "version": "3.6.8"
  }
 },
 "nbformat": 4,
 "nbformat_minor": 2
}
